{
 "cells": [
  {
   "cell_type": "markdown",
   "metadata": {},
   "source": [
    "IA & Data science (LU3IN0226) -- 2022-2023\n",
    "--------\n",
    "*&copy; Equipe pédagogique: Christophe Marsala, Olivier Schwander, Jean-Noël Vittaut.*"
   ]
  },
  {
   "cell_type": "markdown",
   "metadata": {},
   "source": [
    "# TD-TME08: algorithmes d'apprentissage non-supervisé"
   ]
  },
  {
   "cell_type": "markdown",
   "metadata": {},
   "source": [
    "L'objectif de ce TP est d'implémenter des algorithmes d'apprentissage non-supervisé, en particulier, l'algorithme de clutering hiérarchique ascendant."
   ]
  },
  {
   "cell_type": "markdown",
   "metadata": {},
   "source": [
    "<font color=\"RED\" size=\"+1\">**[Q]**</font> **Indiquer dans la boîte ci-dessous vos noms et prénoms :**"
   ]
  },
  {
   "cell_type": "markdown",
   "metadata": {},
   "source": [
    "Céline Fan & Mélissa Lacour"
   ]
  },
  {
   "cell_type": "markdown",
   "metadata": {},
   "source": [
    "<font color=\"RED\" size=\"+1\"><b>[Q]</b></font> **Renommer ce fichier ipython**\n",
    "\n",
    "Tout en haut de cette page, cliquer sur <tt>tme-08</tt> et rajouter à la suite de <tt>tme-08</tt> les noms des membres du binômes séparés par un tiret.\n",
    "\n",
    "<font color=\"RED\" size=\"+1\">IMPORTANT: soumission de votre fichier final</font>\n",
    "\n",
    "**Nom à donner au fichier à poster** : *tme-08-Nom1_Nom2.ipynb* \n",
    "- *Nom1* et *Nom2* : noms des membres du binôme\n",
    "- ne pas compresser ou faire une archive: il faut rendre le fichier ipython tel quel, éventuellement, si vous avez d'autres fichiers vous les rendez séparément.\n",
    "\n",
    "**Echancier pour la soumission de votre compte-rendu:**\n",
    "- le compte-rendu d'une séance doit être remis obligatoirement <font color=\"RED\">avant la séance suivante</font>.\n",
    "\n",
    "**Le compte-rendu est soumis sur la page Moodle.**"
   ]
  },
  {
   "cell_type": "markdown",
   "metadata": {},
   "source": [
    "\n",
    "## Préparation"
   ]
  },
  {
   "cell_type": "markdown",
   "metadata": {},
   "source": [
    "L'archive récupérée avec ce fichier contient aussi le répertoire <code>data</code> qui contient les bases pour expérimenter vos fonctions."
   ]
  },
  {
   "cell_type": "code",
   "execution_count": 14,
   "metadata": {},
   "outputs": [
    {
     "name": "stdout",
     "output_type": "stream",
     "text": [
      "The autoreload extension is already loaded. To reload it, use:\n",
      "  %reload_ext autoreload\n"
     ]
    }
   ],
   "source": [
    "# Importation des librairies standards:\n",
    "import numpy as np\n",
    "import pandas as pd\n",
    "import matplotlib.pyplot as plt\n",
    "%matplotlib inline  \n",
    "\n",
    "# Importation de votre librairie iads:\n",
    "# La ligne suivante permet de préciser le chemin d'accès à la librairie iads\n",
    "import sys\n",
    "sys.path.append('../')   # iads doit être dans le répertoire frère du répertoire courant !\n",
    "\n",
    "# Importation de la librairie iads\n",
    "import iads as iads\n",
    "\n",
    "# importation de Classifiers\n",
    "from iads import Classifiers as cl\n",
    "\n",
    "# importation de utils\n",
    "from iads import utils as ut\n",
    "\n",
    "# importation de evaluation\n",
    "from iads import evaluation as ev\n",
    "\n",
    "# commande TRES utile pour recharger automatiquement le code que vous modifiez dans les modules\n",
    "%load_ext autoreload\n",
    "%autoreload 2"
   ]
  },
  {
   "cell_type": "markdown",
   "metadata": {},
   "source": [
    "## Travail à réaliser"
   ]
  },
  {
   "cell_type": "markdown",
   "metadata": {},
   "source": [
    "Le travail à faire se décompose en 2 phases :\n",
    "- dans un premier temps, le travail porte sur la base d'apprentissage <code>base-2D.csv</code> qui contient des exemples décrits dans $R^2$. Ainsi, il est plus aisé de visualiser les résultats des fonctions à écrire ;\n",
    "- dans un second temps, les fonctions écrites dans la phase précédente sont à utiliser avec la base d'apprentissage `base-Paris.csv`.\n",
    "\n",
    "**Attention**: vos fonctions doivent **dès leur création** pouvoir s'appliquer **quelle que soit la dimension** des exemples traités."
   ]
  },
  {
   "cell_type": "markdown",
   "metadata": {},
   "source": [
    "## Phase 1: implémentation des fonctions de base"
   ]
  },
  {
   "cell_type": "markdown",
   "metadata": {},
   "source": [
    "### Chargement du fichier \"base_2D.csv\"\n",
    "\n",
    "Charger le fichier `base_2D.csv` et, par exemple avec la fonction `read_csv` de pandas. Le résultat est stocké sous la forme d'un dataframe."
   ]
  },
  {
   "cell_type": "code",
   "execution_count": 15,
   "metadata": {},
   "outputs": [
    {
     "name": "stdout",
     "output_type": "stream",
     "text": [
      "Il y a 14 exemples dans la base.\n"
     ]
    }
   ],
   "source": [
    "data_2D = pd.read_csv(\"data/base-2D.csv\")\n",
    "\n",
    "print(\"Il y a\", len(data_2D), \"exemples dans la base.\")"
   ]
  },
  {
   "cell_type": "code",
   "execution_count": 16,
   "metadata": {},
   "outputs": [
    {
     "data": {
      "text/html": [
       "<div>\n",
       "<style scoped>\n",
       "    .dataframe tbody tr th:only-of-type {\n",
       "        vertical-align: middle;\n",
       "    }\n",
       "\n",
       "    .dataframe tbody tr th {\n",
       "        vertical-align: top;\n",
       "    }\n",
       "\n",
       "    .dataframe thead th {\n",
       "        text-align: right;\n",
       "    }\n",
       "</style>\n",
       "<table border=\"1\" class=\"dataframe\">\n",
       "  <thead>\n",
       "    <tr style=\"text-align: right;\">\n",
       "      <th></th>\n",
       "      <th>X1</th>\n",
       "      <th>X2</th>\n",
       "    </tr>\n",
       "  </thead>\n",
       "  <tbody>\n",
       "    <tr>\n",
       "      <th>0</th>\n",
       "      <td>0.0</td>\n",
       "      <td>4.0</td>\n",
       "    </tr>\n",
       "    <tr>\n",
       "      <th>1</th>\n",
       "      <td>1.0</td>\n",
       "      <td>3.5</td>\n",
       "    </tr>\n",
       "    <tr>\n",
       "      <th>2</th>\n",
       "      <td>1.0</td>\n",
       "      <td>1.0</td>\n",
       "    </tr>\n",
       "    <tr>\n",
       "      <th>3</th>\n",
       "      <td>2.0</td>\n",
       "      <td>1.0</td>\n",
       "    </tr>\n",
       "    <tr>\n",
       "      <th>4</th>\n",
       "      <td>2.0</td>\n",
       "      <td>2.0</td>\n",
       "    </tr>\n",
       "    <tr>\n",
       "      <th>5</th>\n",
       "      <td>4.0</td>\n",
       "      <td>4.0</td>\n",
       "    </tr>\n",
       "    <tr>\n",
       "      <th>6</th>\n",
       "      <td>4.0</td>\n",
       "      <td>5.0</td>\n",
       "    </tr>\n",
       "    <tr>\n",
       "      <th>7</th>\n",
       "      <td>4.0</td>\n",
       "      <td>6.0</td>\n",
       "    </tr>\n",
       "    <tr>\n",
       "      <th>8</th>\n",
       "      <td>4.5</td>\n",
       "      <td>1.0</td>\n",
       "    </tr>\n",
       "    <tr>\n",
       "      <th>9</th>\n",
       "      <td>4.5</td>\n",
       "      <td>6.0</td>\n",
       "    </tr>\n",
       "    <tr>\n",
       "      <th>10</th>\n",
       "      <td>5.0</td>\n",
       "      <td>1.0</td>\n",
       "    </tr>\n",
       "    <tr>\n",
       "      <th>11</th>\n",
       "      <td>5.0</td>\n",
       "      <td>5.0</td>\n",
       "    </tr>\n",
       "    <tr>\n",
       "      <th>12</th>\n",
       "      <td>6.0</td>\n",
       "      <td>2.0</td>\n",
       "    </tr>\n",
       "    <tr>\n",
       "      <th>13</th>\n",
       "      <td>7.0</td>\n",
       "      <td>4.0</td>\n",
       "    </tr>\n",
       "  </tbody>\n",
       "</table>\n",
       "</div>"
      ],
      "text/plain": [
       "     X1   X2\n",
       "0   0.0  4.0\n",
       "1   1.0  3.5\n",
       "2   1.0  1.0\n",
       "3   2.0  1.0\n",
       "4   2.0  2.0\n",
       "5   4.0  4.0\n",
       "6   4.0  5.0\n",
       "7   4.0  6.0\n",
       "8   4.5  1.0\n",
       "9   4.5  6.0\n",
       "10  5.0  1.0\n",
       "11  5.0  5.0\n",
       "12  6.0  2.0\n",
       "13  7.0  4.0"
      ]
     },
     "execution_count": 16,
     "metadata": {},
     "output_type": "execute_result"
    }
   ],
   "source": [
    "# Le dataframe:\n",
    "data_2D"
   ]
  },
  {
   "cell_type": "markdown",
   "metadata": {},
   "source": [
    "<font size=\"+1\" color=\"RED\">**[Q]**</font> Afficher la base sous forme graphique.\n"
   ]
  },
  {
   "cell_type": "code",
   "execution_count": 17,
   "metadata": {},
   "outputs": [
    {
     "data": {
      "image/png": "[encoded data removed]",
      "text/plain": [
       "<Figure size 432x288 with 1 Axes>"
      ]
     },
     "metadata": {
      "needs_background": "light"
     },
     "output_type": "display_data"
    }
   ],
   "source": [
    "\n",
    "# Passer du dataframe à des arrays:\n",
    "X1 = np.array(data_2D['X1'])\n",
    "X2 = np.array(data_2D['X2'])\n",
    "\n",
    "plt.scatter(X1, X2)\n",
    "plt.show()"
   ]
  },
  {
   "cell_type": "markdown",
   "metadata": {},
   "source": [
    "## Fonctions préliminaires"
   ]
  },
  {
   "cell_type": "markdown",
   "metadata": {},
   "source": [
    "### Normalisation des données"
   ]
  },
  {
   "cell_type": "markdown",
   "metadata": {},
   "source": [
    "<font size=\"+1\" color=\"RED\"><b>[Q]</b></font> Donner les instructions permettant d'afficher les valeurs minimales et maximales de chaque colonne du dataframe `base_2D`.\n",
    "\n",
    "Remarque : soyez général ! Il faut que ces instructions restent valables quel que soit le dataframe donné (noms et nombre de colonnes non connus au départ par exemple).\n"
   ]
  },
  {
   "cell_type": "code",
   "execution_count": 18,
   "metadata": {},
   "outputs": [
    {
     "name": "stdout",
     "output_type": "stream",
     "text": [
      "Minimum et maximum de chaque colonne:\n",
      "colonne X1 : 0.0  7.0\n",
      "colonne X2 : 1.0  6.0\n"
     ]
    }
   ],
   "source": [
    "print(\"Minimum et maximum de chaque colonne:\")\n",
    "for c in data_2D:\n",
    "    print(\"colonne \" + str(c) + \" : \" + str(min(data_2D[c])) + \"  \" + str(max(data_2D[c])))"
   ]
  },
  {
   "cell_type": "markdown",
   "metadata": {},
   "source": [
    "<font size=\"+1\" color=\"RED\"><b>[Q]</b></font> Ecrire la fonction <code>normalisation</code> qui prend en argument un <code>DataFrame</code> et rend le dataframe obtenu en normalisant chaque colonne de ce <code>DataFrame</code> (ie. les valeurs de la matrice résultat doivent être dans l'intervalle $[0,1])$.\n"
   ]
  },
  {
   "cell_type": "code",
   "execution_count": 19,
   "metadata": {},
   "outputs": [],
   "source": [
    "def normalisation(dataframe):\n",
    "    for c in dataframe:\n",
    "        mini = min(dataframe[c])\n",
    "        maxi = max(dataframe[c])\n",
    "        dataframe[c] = dataframe[c] - mini\n",
    "        dataframe[c] = dataframe[c]/ maxi\n",
    "    \n",
    "    return dataframe"
   ]
  },
  {
   "cell_type": "markdown",
   "metadata": {},
   "source": [
    "<font size=\"+1\" color=\"RED\"><b>[Q]</b></font> Normaliser les données de la base-2D et afficher leur représentation graphique: vérifier que le tracé est le même que celui obtenu avant la normalisation (aux valeurs des axes près)."
   ]
  },
  {
   "cell_type": "code",
   "execution_count": 20,
   "metadata": {},
   "outputs": [
    {
     "name": "stdout",
     "output_type": "stream",
     "text": [
      "<class 'pandas.core.frame.DataFrame'>\n"
     ]
    },
    {
     "data": {
      "image/png": "[encoded data removed]",
      "text/plain": [
       "<Figure size 432x288 with 1 Axes>"
      ]
     },
     "metadata": {
      "needs_background": "light"
     },
     "output_type": "display_data"
    }
   ],
   "source": [
    "data_2D_norm = normalisation(data_2D)\n",
    "print(type(data_2D_norm))\n",
    "X1 = np.array(data_2D_norm['X1'])\n",
    "X2 = np.array(data_2D_norm['X2'])\n",
    "\n",
    "plt.scatter(X1, X2)\n",
    "plt.show()"
   ]
  },
  {
   "cell_type": "markdown",
   "metadata": {},
   "source": [
    "### Distances entre exemples"
   ]
  },
  {
   "cell_type": "markdown",
   "metadata": {},
   "source": [
    "<font size=\"+1\" color=\"RED\"><b>[Q]</b></font> Ecrire la fonction <code>dist_euclidienne</code> qui prend en argument deux exemples sous la forme de vecteurs (Dataframe ou np.array) et rend leur distance euclidienne. "
   ]
  },
  {
   "cell_type": "code",
   "execution_count": 21,
   "metadata": {},
   "outputs": [],
   "source": [
    "import math\n",
    "\n",
    "def dist_euclidienne(e1, e2):\n",
    "    e = e1 - e2\n",
    "    return np.linalg.norm(e)\n"
   ]
  },
  {
   "cell_type": "code",
   "execution_count": 23,
   "metadata": {},
   "outputs": [
    {
     "name": "stdout",
     "output_type": "stream",
     "text": [
      "v1 :  X1    0.0\n",
      "X2    0.6\n",
      "Name: 0, dtype: float64 \n",
      "v2 :  X1    0.142857\n",
      "X2    0.500000\n",
      "Name: 1, dtype: float64\n",
      "distance euclidienne entre v1 et v2 :  0.17437936593905287\n"
     ]
    }
   ],
   "source": [
    "data_2D_norm = normalisation(data_2D)\n",
    "v1= data_2D_norm.iloc[0]\n",
    "v2= data_2D_norm.iloc[1]\n",
    "print(\"v1 : \",v1, \"\\nv2 : \",v2)\n",
    "print(\"distance euclidienne entre v1 et v2 : \", dist_euclidienne(v1,v2))"
   ]
  },
  {
   "cell_type": "code",
   "execution_count": 24,
   "metadata": {},
   "outputs": [
    {
     "name": "stdout",
     "output_type": "stream",
     "text": [
      "v1 :  [0.  0.6] \n",
      "v2 :  [0.14285714 0.5       ]\n",
      "distance euclidienne entre v1 et v2 :  0.17437936593905287\n"
     ]
    }
   ],
   "source": [
    "# Remarque : si elle est bien écrite, la fonction doit fonctionner aussi pour un np.array:\n",
    "\n",
    "v1= np.array(data_2D_norm.iloc[0])\n",
    "v2= np.array(data_2D_norm.iloc[1])\n",
    "print(\"v1 : \",v1, \"\\nv2 : \",v2)\n",
    "print(\"distance euclidienne entre v1 et v2 : \", dist_euclidienne(v1,v2))"
   ]
  },
  {
   "cell_type": "code",
   "execution_count": 25,
   "metadata": {},
   "outputs": [
    {
     "name": "stdout",
     "output_type": "stream",
     "text": [
      "v3 :  [0 0 0] \n",
      "v4 :  [1 1 1]\n",
      "distance euclidienne entre v3 et v4 :  1.7320508075688772\n",
      "v5 :  [0 0 0] \n",
      "v6 :  [-1  0  1]\n",
      "distance euclidienne entre v5 et v6 :  1.4142135623730951\n"
     ]
    }
   ],
   "source": [
    "# autre exemples:\n",
    "v3= np.array([0,0,0])\n",
    "v4= np.array([1,1,1])\n",
    "print(\"v3 : \",v3, \"\\nv4 : \",v4)\n",
    "print(\"distance euclidienne entre v3 et v4 : \", dist_euclidienne(v3,v4))\n",
    "v5= np.array([0,0,0])\n",
    "v6= np.array([-1,0,1])\n",
    "print(\"v5 : \",v5, \"\\nv6 : \",v6)\n",
    "print(\"distance euclidienne entre v5 et v6 : \", dist_euclidienne(v5,v6))"
   ]
  },
  {
   "cell_type": "markdown",
   "metadata": {},
   "source": [
    "### Calcul de centroides"
   ]
  },
  {
   "cell_type": "markdown",
   "metadata": {},
   "source": [
    "<font size=\"+1\" color=\"RED\"><b>[Q]</b></font> Ecrire la fonction <code>centroide</code> qui, étant donné un dataframe (ou un np.array) contenant plusieurs exemples rend leur centre de gravité (centroide).\n",
    "On fait l'hypothèse qu'il y a toujours au moins un exemple.\n"
   ]
  },
  {
   "cell_type": "code",
   "execution_count": 26,
   "metadata": {},
   "outputs": [],
   "source": [
    "def centroide(data):\n",
    "    X = np.array(data)\n",
    "    c = np.mean(X, axis=0)\n",
    "    \n",
    "    return c\n",
    "    "
   ]
  },
  {
   "cell_type": "code",
   "execution_count": 27,
   "metadata": {},
   "outputs": [
    {
     "data": {
      "text/plain": [
       "array([0.51020408, 0.45      ])"
      ]
     },
     "execution_count": 27,
     "metadata": {},
     "output_type": "execute_result"
    }
   ],
   "source": [
    "centroide(data_2D_norm)"
   ]
  },
  {
   "cell_type": "code",
   "execution_count": 28,
   "metadata": {},
   "outputs": [
    {
     "data": {
      "text/plain": [
       "array([0.51020408, 0.45      ])"
      ]
     },
     "execution_count": 28,
     "metadata": {},
     "output_type": "execute_result"
    }
   ],
   "source": [
    "# Remarque : si elle est bien écrite, la fonction doit fonctionner aussi pour un np.array:\n",
    "centroide( np.array(data_2D_norm) )"
   ]
  },
  {
   "cell_type": "markdown",
   "metadata": {},
   "source": [
    "### Distances entre groupes d'exemples\n"
   ]
  },
  {
   "cell_type": "markdown",
   "metadata": {},
   "source": [
    "La distance entre deux groupes d'exemples correspond à la distance entre leurs centroïdes (approche \"centroid linkage\"). Pour cette approche, on prendra seulement la distance euclidienne.\n",
    "\n",
    "<font size=\"+1\" color=\"RED\"><b>[Q]</b></font> Ecrire la fonction <code>dist_centroides</code> qui prend en argument deux groupes de vecteurs (dataframe ou np.array) et qui rend leur distance euclidienne.\n"
   ]
  },
  {
   "cell_type": "code",
   "execution_count": 29,
   "metadata": {},
   "outputs": [],
   "source": [
    "def dist_centroides(data1, data2):\n",
    "    c1 = centroide(data1)\n",
    "    c2 = centroide(data2)\n",
    "    return dist_euclidienne(c1, c2)"
   ]
  },
  {
   "cell_type": "code",
   "execution_count": 30,
   "metadata": {},
   "outputs": [
    {
     "data": {
      "text/plain": [
       "0.586345478713841"
      ]
     },
     "execution_count": 30,
     "metadata": {},
     "output_type": "execute_result"
    }
   ],
   "source": [
    "# Par exemple:\n",
    "dist_centroides(data_2D_norm.iloc[0:4],data_2D_norm.iloc[5:13])\n"
   ]
  },
  {
   "cell_type": "markdown",
   "metadata": {},
   "source": [
    "## L'algorithme de classification hiérarchique"
   ]
  },
  {
   "cell_type": "markdown",
   "metadata": {},
   "source": [
    "Dans la suite de cet exercice, une partition (qui est un groupe de clusters) est représentée par une structure de données de type dictionnaire (<code>dict()</code> en python) :\n",
    "- la clé est un numéro de cluster (sous la forme d'un entier naturel) ;\n",
    "- la valeur associée est un liste contenant les indices des exemples qui sont dans le cluster correspondant.\n",
    "\n",
    "Les indices sont ceux du dataframe qui contient la base initiale.\n",
    "\n",
    "<b>Dans ce qui suit, on appelle \"partition\" un tel dictionnaire.</b>\n",
    "\n",
    "\n",
    "Rappel: `iloc` accepte une liste d'indices pour extraire des lignes d'un dataframe..."
   ]
  },
  {
   "cell_type": "code",
   "execution_count": 31,
   "metadata": {},
   "outputs": [
    {
     "data": {
      "text/html": [
       "<div>\n",
       "<style scoped>\n",
       "    .dataframe tbody tr th:only-of-type {\n",
       "        vertical-align: middle;\n",
       "    }\n",
       "\n",
       "    .dataframe tbody tr th {\n",
       "        vertical-align: top;\n",
       "    }\n",
       "\n",
       "    .dataframe thead th {\n",
       "        text-align: right;\n",
       "    }\n",
       "</style>\n",
       "<table border=\"1\" class=\"dataframe\">\n",
       "  <thead>\n",
       "    <tr style=\"text-align: right;\">\n",
       "      <th></th>\n",
       "      <th>X1</th>\n",
       "      <th>X2</th>\n",
       "    </tr>\n",
       "  </thead>\n",
       "  <tbody>\n",
       "    <tr>\n",
       "      <th>0</th>\n",
       "      <td>0.000000</td>\n",
       "      <td>0.6</td>\n",
       "    </tr>\n",
       "    <tr>\n",
       "      <th>3</th>\n",
       "      <td>0.285714</td>\n",
       "      <td>0.0</td>\n",
       "    </tr>\n",
       "    <tr>\n",
       "      <th>1</th>\n",
       "      <td>0.142857</td>\n",
       "      <td>0.5</td>\n",
       "    </tr>\n",
       "  </tbody>\n",
       "</table>\n",
       "</div>"
      ],
      "text/plain": [
       "         X1   X2\n",
       "0  0.000000  0.6\n",
       "3  0.285714  0.0\n",
       "1  0.142857  0.5"
      ]
     },
     "execution_count": 31,
     "metadata": {},
     "output_type": "execute_result"
    }
   ],
   "source": [
    "data_2D_norm.iloc[[0,3,1]]"
   ]
  },
  {
   "cell_type": "markdown",
   "metadata": {},
   "source": [
    "<font size=\"+1\" color=\"RED\"><b>[Q]</b></font> Ecrire la fonction <code>initialise_CHA</code> qui, étant donné un dataframe DF, rend une partition contenant autant d'entrées que d'exemples dans DF. La clé de chaque entrée sera le numéro de l'exemple. Cette fonction sera spécifique au clustering hiérarchique ascendant (CHA)."
   ]
  },
  {
   "cell_type": "code",
   "execution_count": 32,
   "metadata": {},
   "outputs": [],
   "source": [
    "def initialise_CHA(DF):\n",
    "    partition = dict()\n",
    "    i=0\n",
    "    for i in range(len(DF)):\n",
    "        partition[i] = [i]\n",
    "        i += 1\n",
    "        \n",
    "    return partition"
   ]
  },
  {
   "cell_type": "code",
   "execution_count": 33,
   "metadata": {},
   "outputs": [
    {
     "data": {
      "text/plain": [
       "{0: [0],\n",
       " 1: [1],\n",
       " 2: [2],\n",
       " 3: [3],\n",
       " 4: [4],\n",
       " 5: [5],\n",
       " 6: [6],\n",
       " 7: [7],\n",
       " 8: [8],\n",
       " 9: [9],\n",
       " 10: [10],\n",
       " 11: [11],\n",
       " 12: [12],\n",
       " 13: [13]}"
      ]
     },
     "execution_count": 33,
     "metadata": {},
     "output_type": "execute_result"
    }
   ],
   "source": [
    "# Par exemple:\n",
    "depart = initialise_CHA(data_2D_norm)\n",
    "depart"
   ]
  },
  {
   "cell_type": "markdown",
   "metadata": {},
   "source": [
    "### Variante 1: chaînage par centroides"
   ]
  },
  {
   "cell_type": "markdown",
   "metadata": {},
   "source": [
    "On souhaite implémenter ici l'algorithme de classification hiérarchique basé sur l'utilisation d'un chaînage par centroides (approche \"centroid linkage\").\n",
    "\n",
    "On commence par implémenter une fonction qui, étant donné une partition, permet de regrouper les 2 clusters les plus proches. Ces 2 clusters sont alors fusionnés pour n'en former qu'un seul qui est ajouté à la partition, alors que les 2 clusters initiaux sont retirés de la partition.\n",
    "\n",
    "On fait l'hypothèse que la partition initiale contient au moins 2 groupes.\n",
    "\n",
    "<font size=\"+1\" color=\"RED\"><b>[Q]</b></font> Ecrire la fonction <code>fusionne</code> qui prend en argument un dataframe contenant des exemples et une partition P0 et qui rend le tuple composé des 4 valeurs suivantes:\n",
    "- la partition P1 obtenue après fusion des 2 clusters de P0 les plus proches ;\n",
    "- les clés des 2 clusters de P0 qui ont été fusionnés et qui ne sont donc plus dans P1 ;\n",
    "- la distance qui séparait ces 2 clusters, calculée selon le nom de distance donné.\n",
    "\n",
    "Vous rajouterez un troisième argument (avec valeur par défaut) à la fonction : `verbose=False` qui indique si un message doit être affiché à la fin de la fonction donnant le nom des 2 éléments fusionnés et leur distance."
   ]
  },
  {
   "cell_type": "code",
   "execution_count": 58,
   "metadata": {},
   "outputs": [],
   "source": [
    "import copy\n",
    "\n",
    "def fusionne(DF, P0, verbose=False):\n",
    "    dist_min = np.inf\n",
    "    kc1 = -1\n",
    "    kc2 = -1\n",
    "\n",
    "    for k1, v1 in P0.items():\n",
    "        for k2, v2 in P0.items():\n",
    "            if k1 == k2:\n",
    "                continue\n",
    "            l1 = DF.iloc[v1]\n",
    "            l2 = DF.iloc[v2]\n",
    "            dist = dist_centroides(l1, l2)\n",
    "            if dist < dist_min:\n",
    "                dist_min = dist\n",
    "                kc1 = k1\n",
    "                kc2 = k2\n",
    "\n",
    "    P1 = dict(P0)\n",
    "    if kc1 != -1:\n",
    "        del P1[kc1]\n",
    "        del P1[kc2]\n",
    "        P1[max(P0) + 1] = P0[kc1] + P0[kc2]\n",
    "\n",
    "        if verbose:\n",
    "            print(\"Distance minimale trouvée entre [\" + str(kc1) + \", \" + str(kc2) + \"] = \" + str(dist_min))\n",
    "\n",
    "    return P1, kc1, kc2, dist_min\n",
    "    "
   ]
  },
  {
   "cell_type": "code",
   "execution_count": 59,
   "metadata": {},
   "outputs": [
    {
     "data": {
      "text/plain": [
       "({0: [0],\n",
       "  1: [1],\n",
       "  2: [2],\n",
       "  3: [3],\n",
       "  4: [4],\n",
       "  5: [5],\n",
       "  6: [6],\n",
       "  7: [7],\n",
       "  9: [9],\n",
       "  11: [11],\n",
       "  12: [12],\n",
       "  13: [13],\n",
       "  14: [8, 10]},\n",
       " 8,\n",
       " 10,\n",
       " 0.0714285714285714)"
      ]
     },
     "execution_count": 59,
     "metadata": {},
     "output_type": "execute_result"
    }
   ],
   "source": [
    "# Exemple:\n",
    "depart = initialise_CHA(data_2D_norm)\n",
    "fusionne(data_2D_norm, depart)"
   ]
  },
  {
   "cell_type": "code",
   "execution_count": 60,
   "metadata": {},
   "outputs": [
    {
     "name": "stdout",
     "output_type": "stream",
     "text": [
      "Distance minimale trouvée entre [8, 10] = 0.0714285714285714\n"
     ]
    },
    {
     "data": {
      "text/plain": [
       "({0: [0],\n",
       "  1: [1],\n",
       "  2: [2],\n",
       "  3: [3],\n",
       "  4: [4],\n",
       "  5: [5],\n",
       "  6: [6],\n",
       "  7: [7],\n",
       "  9: [9],\n",
       "  11: [11],\n",
       "  12: [12],\n",
       "  13: [13],\n",
       "  14: [8, 10]},\n",
       " 8,\n",
       " 10,\n",
       " 0.0714285714285714)"
      ]
     },
     "execution_count": 60,
     "metadata": {},
     "output_type": "execute_result"
    }
   ],
   "source": [
    "# Exemple avec verbose:\n",
    "fusionne(data_2D_norm, depart,verbose=True)"
   ]
  },
  {
   "cell_type": "markdown",
   "metadata": {},
   "source": [
    "<font size=\"+1\" color=\"RED\"><b>[Q]</b></font> Ecrire la fonction <code>CHA_centroid</code> qui prend en argument un dataframe et rend une liste composée de listes contenant chacune:\n",
    "- les 2 indices d'éléments fusionnés\n",
    "- la distance les séparant\n",
    "- la somme du nombre d'éléments des 2 éléments fusionnés\n",
    "\n",
    "Remarque: chaque sous-liste contient donc les 3 dernières valeurs du résultats de `fusionne()`.\n"
   ]
  },
  {
   "cell_type": "code",
   "execution_count": 61,
   "metadata": {},
   "outputs": [],
   "source": [
    "def CHA_centroid(DF):\n",
    "    dico = initialise_CHA(DF)\n",
    "    res = []\n",
    "    for i in range(len(DF)):\n",
    "        dico, kc1, kc2, dist_min = fusionne(DF, dico)\n",
    "        nbElem = len(dico[max(dico.keys())])\n",
    "        res.append([kc1, kc2, dist_min, nbElem])\n",
    "    print(len(dico))\n",
    "    return res[:-1]"
   ]
  },
  {
   "cell_type": "code",
   "execution_count": 62,
   "metadata": {},
   "outputs": [
    {
     "name": "stdout",
     "output_type": "stream",
     "text": [
      "1\n"
     ]
    },
    {
     "data": {
      "text/plain": [
       "[[8, 10, 0.0714285714285714, 2],\n",
       " [7, 9, 0.07142857142857151, 2],\n",
       " [2, 3, 0.14285714285714285, 2],\n",
       " [6, 11, 0.1428571428571429, 2],\n",
       " [0, 1, 0.17437936593905287, 2],\n",
       " [15, 17, 0.2031637521903985, 4],\n",
       " [4, 16, 0.21237241067597865, 3],\n",
       " [12, 14, 0.26811891970176366, 3],\n",
       " [5, 19, 0.3047456282855976, 5],\n",
       " [13, 22, 0.4542857142857144, 6],\n",
       " [20, 21, 0.5000000000000001, 6],\n",
       " [18, 24, 0.638139657302555, 8],\n",
       " [23, 25, 0.6796842379114776, 14]]"
      ]
     },
     "execution_count": 62,
     "metadata": {},
     "output_type": "execute_result"
    }
   ],
   "source": [
    "# L'application sur nos données:\n",
    "data_2D_norm = normalisation(data_2D)\n",
    "CHA_centroid(data_2D_norm)"
   ]
  },
  {
   "cell_type": "markdown",
   "metadata": {},
   "source": [
    "### Construction de dendrogramme"
   ]
  },
  {
   "cell_type": "markdown",
   "metadata": {},
   "source": [
    "Le dendrogramme permet de visualiser les fusions de clusters réalisés tout au long du déroulement de l'algorithme de clustering hiérarchique.\n",
    "\n",
    "Pour cette représentation graphique, on utilise une fonction de la librairie `scipy`."
   ]
  },
  {
   "cell_type": "code",
   "execution_count": 63,
   "metadata": {},
   "outputs": [
    {
     "name": "stdout",
     "output_type": "stream",
     "text": [
      "1\n"
     ]
    },
    {
     "data": {
      "image/png": "[encoded data removed]",
      "text/plain": [
       "<Figure size 2160x1080 with 1 Axes>"
      ]
     },
     "metadata": {
      "needs_background": "light"
     },
     "output_type": "display_data"
    }
   ],
   "source": [
    "import scipy.cluster.hierarchy\n",
    "\n",
    "# Paramètre de la fenêtre d'affichage: \n",
    "plt.figure(figsize=(30, 15)) # taille : largeur x hauteur\n",
    "plt.title('Dendrogramme', fontsize=25)    \n",
    "plt.xlabel(\"Indice d'exemple\", fontsize=25)\n",
    "plt.ylabel('Distance', fontsize=25)\n",
    "\n",
    "# Construction du dendrogramme pour notre clustering :\n",
    "scipy.cluster.hierarchy.dendrogram(\n",
    "    CHA_centroid(data_2D_norm), \n",
    "    leaf_font_size=24.,  # taille des caractères de l'axe des X\n",
    ")\n",
    "\n",
    "# Affichage du résultat obtenu:\n",
    "plt.show()"
   ]
  },
  {
   "cell_type": "markdown",
   "metadata": {},
   "source": [
    "<font size=\"+1\" color=\"RED\"><b>[Q]</b></font>Modifier la fonction <code>CHA_centroid</code> en lui rajoutant deux arguments supplémentaires avec valeurs par défaut:\n",
    "- `verbose=False` qui indique si un message doit être affiché lors de la fusion des clusters en donnant le nom des 2 éléments fusionnés et leur distance.\n",
    "- `dendrogramme=False` pour indiquer si on souhaite ou pas l'affichage du dendrogramme résultat. Si c'est le cas, le dendrogramme sera donc afficher à l'issue de la fonction."
   ]
  },
  {
   "cell_type": "code",
   "execution_count": 64,
   "metadata": {},
   "outputs": [],
   "source": [
    "import scipy.cluster.hierarchy\n",
    "\n",
    "def CHA_centroid(DF, verbose=False, dendrogramme=False):\n",
    "    dico = initialise_CHA(DF)\n",
    "    res = []\n",
    "    for i in range(len(DF)):\n",
    "        dico, kc1, kc2, dist_min = fusionne(DF, dico, verbose)\n",
    "        nbElem = len(dico[max(dico.keys())])\n",
    "        res.append([kc1, kc2, dist_min, nbElem])\n",
    "    \n",
    "    if dendrogramme:\n",
    "        # Paramètre de la fenêtre d'affichage: \n",
    "        plt.figure(figsize=(30, 15)) # taille : largeur x hauteur\n",
    "        plt.title('Dendrogramme', fontsize=25)    \n",
    "        plt.xlabel(\"Indice d'exemple\", fontsize=25)\n",
    "        plt.ylabel('Distance', fontsize=25)\n",
    "        # Construction du dendrogramme pour notre clustering :\n",
    "        scipy.cluster.hierarchy.dendrogram(\n",
    "            res[:-1], \n",
    "            leaf_font_size=24.,  # taille des caractères de l'axe des X\n",
    "        )\n",
    "        # Affichage du résultat obtenu:\n",
    "        plt.show()\n",
    "        \n",
    "    return res[:-1]"
   ]
  },
  {
   "cell_type": "code",
   "execution_count": 66,
   "metadata": {},
   "outputs": [
    {
     "data": {
      "text/plain": [
       "[[8, 10, 0.0714285714285714, 2],\n",
       " [7, 9, 0.07142857142857151, 2],\n",
       " [2, 3, 0.14285714285714285, 2],\n",
       " [6, 11, 0.1428571428571429, 2],\n",
       " [0, 1, 0.17437936593905287, 2],\n",
       " [15, 17, 0.2031637521903985, 4],\n",
       " [4, 16, 0.21237241067597865, 3],\n",
       " [12, 14, 0.26811891970176366, 3],\n",
       " [5, 19, 0.3047456282855976, 5],\n",
       " [13, 22, 0.4542857142857144, 6],\n",
       " [20, 21, 0.5000000000000001, 6],\n",
       " [18, 24, 0.638139657302555, 8],\n",
       " [23, 25, 0.6796842379114776, 14]]"
      ]
     },
     "execution_count": 66,
     "metadata": {},
     "output_type": "execute_result"
    }
   ],
   "source": [
    "CHA_centroid(data_2D_norm)"
   ]
  },
  {
   "cell_type": "code",
   "execution_count": 67,
   "metadata": {},
   "outputs": [
    {
     "name": "stdout",
     "output_type": "stream",
     "text": [
      "Distance minimale trouvée entre [8, 10] = 0.0714285714285714\n",
      "Distance minimale trouvée entre [7, 9] = 0.07142857142857151\n",
      "Distance minimale trouvée entre [2, 3] = 0.14285714285714285\n",
      "Distance minimale trouvée entre [6, 11] = 0.1428571428571429\n",
      "Distance minimale trouvée entre [0, 1] = 0.17437936593905287\n",
      "Distance minimale trouvée entre [15, 17] = 0.2031637521903985\n",
      "Distance minimale trouvée entre [4, 16] = 0.21237241067597865\n",
      "Distance minimale trouvée entre [12, 14] = 0.26811891970176366\n",
      "Distance minimale trouvée entre [5, 19] = 0.3047456282855976\n",
      "Distance minimale trouvée entre [13, 22] = 0.4542857142857144\n",
      "Distance minimale trouvée entre [20, 21] = 0.5000000000000001\n",
      "Distance minimale trouvée entre [18, 24] = 0.638139657302555\n",
      "Distance minimale trouvée entre [23, 25] = 0.6796842379114776\n"
     ]
    },
    {
     "data": {
      "image/png": "[encoded data removed]",
      "text/plain": [
       "<Figure size 2160x1080 with 1 Axes>"
      ]
     },
     "metadata": {
      "needs_background": "light"
     },
     "output_type": "display_data"
    },
    {
     "data": {
      "text/plain": [
       "[[8, 10, 0.0714285714285714, 2],\n",
       " [7, 9, 0.07142857142857151, 2],\n",
       " [2, 3, 0.14285714285714285, 2],\n",
       " [6, 11, 0.1428571428571429, 2],\n",
       " [0, 1, 0.17437936593905287, 2],\n",
       " [15, 17, 0.2031637521903985, 4],\n",
       " [4, 16, 0.21237241067597865, 3],\n",
       " [12, 14, 0.26811891970176366, 3],\n",
       " [5, 19, 0.3047456282855976, 5],\n",
       " [13, 22, 0.4542857142857144, 6],\n",
       " [20, 21, 0.5000000000000001, 6],\n",
       " [18, 24, 0.638139657302555, 8],\n",
       " [23, 25, 0.6796842379114776, 14]]"
      ]
     },
     "execution_count": 67,
     "metadata": {},
     "output_type": "execute_result"
    }
   ],
   "source": [
    "CHA_centroid(data_2D_norm,verbose=True,dendrogramme=True)"
   ]
  },
  {
   "cell_type": "markdown",
   "metadata": {},
   "source": [
    "## Variantes : complete linkage, simple linkage, average linkage"
   ]
  },
  {
   "cell_type": "markdown",
   "metadata": {},
   "source": [
    "<font size=\"+1\" color=\"RED\"><b>[Q]</b></font> Ecrire 3 nouvelles fonctions `clustering_hierarchique_complete`, `clustering_hierarchique_simple` et `clustering_hierarchique_average` qui implémentent le clustering hiérarchique basé le linkage correspondant.\n",
    "\n",
    "\n",
    "Puis afficher et comparer les dendrogrammes obtenus par les 4 approches de clustering implémentées."
   ]
  },
  {
   "cell_type": "code",
   "execution_count": 96,
   "metadata": {},
   "outputs": [],
   "source": [
    "#pour clustering_hierarchique_complete\n",
    "def dist_max(data1, data2):\n",
    "    max_distance = -float('inf')\n",
    "    for point1 in data1.itertuples(index=False):\n",
    "        for point2 in data2.itertuples(index=False):\n",
    "            distance = np.linalg.norm(np.array(point1) - np.array(point2))\n",
    "            max_distance = max(max_distance, distance)\n",
    "    return max_distance\n",
    "\n",
    "#pour clustering_hierarchique_simple\n",
    "def dist_mini(data1, data2):\n",
    "    min_distance = float('inf')\n",
    "    for point1 in data1.itertuples(index=False):\n",
    "        for point2 in data2.itertuples(index=False):\n",
    "            distance = np.linalg.norm(np.array(point1) - np.array(point2))\n",
    "            min_distance = min(min_distance, distance)\n",
    "    return min_distance\n",
    "\n",
    "\n",
    "#pour clustering_hierarchique_average\n",
    "def dist_mean(data1, data2):\n",
    "    total_distance = 0\n",
    "    count = 0\n",
    "    for point1 in data1.itertuples(index=False):\n",
    "        for point2 in data2.itertuples(index=False):\n",
    "            distance = np.linalg.norm(np.array(point1) - np.array(point2))\n",
    "            total_distance += distance\n",
    "            count += 1\n",
    "    return total_distance / count"
   ]
  },
  {
   "cell_type": "code",
   "execution_count": 97,
   "metadata": {},
   "outputs": [],
   "source": [
    "def fusionne_generic(DF, P0, dist_func, verbose=False):\n",
    "    dist_min = np.inf\n",
    "    kc1 = -1\n",
    "    kc2 = -1\n",
    "\n",
    "    for k1, v1 in P0.items():\n",
    "        for k2, v2 in P0.items():\n",
    "            if k1 == k2:\n",
    "                continue\n",
    "            l1 = DF.iloc[v1]\n",
    "            l2 = DF.iloc[v2]\n",
    "            dist = dist_func(l1, l2)\n",
    "            if dist < dist_min:\n",
    "                dist_min = dist\n",
    "                kc1 = k1\n",
    "                kc2 = k2\n",
    "\n",
    "    P1 = dict(P0)\n",
    "    if kc1 != -1:\n",
    "        del P1[kc1]\n",
    "        del P1[kc2]\n",
    "        P1[max(P0) + 1] = P0[kc1] + P0[kc2]\n",
    "\n",
    "        if verbose:\n",
    "            print(\"Distance minimale trouvée entre [\" + str(kc1) + \", \" + str(kc2) + \"] = \" + str(dist_min))\n",
    "\n",
    "    return P1, kc1, kc2, dist_min"
   ]
  },
  {
   "cell_type": "code",
   "execution_count": 98,
   "metadata": {},
   "outputs": [],
   "source": [
    "def clustering_hierarchique_complete(DF, verbose=False, dendrogramme=False):\n",
    "    dico = initialise_CHA(DF)\n",
    "    res = []\n",
    "    for i in range(len(DF)):\n",
    "        dico, kc1, kc2, dist_min = fusionne_generic(DF, dico, dist_max, verbose)\n",
    "        nbElem = len(dico[max(dico.keys())])\n",
    "        res.append([kc1, kc2, dist_min, nbElem])\n",
    "    \n",
    "    if dendrogramme:\n",
    "        # Paramètre de la fenêtre d'affichage: \n",
    "        plt.figure(figsize=(30, 15)) # taille : largeur x hauteur\n",
    "        plt.title('Dendrogramme', fontsize=25)    \n",
    "        plt.xlabel(\"Indice d'exemple\", fontsize=25)\n",
    "        plt.ylabel('Distance', fontsize=25)\n",
    "        # Construction du dendrogramme pour notre clustering :\n",
    "        scipy.cluster.hierarchy.dendrogram(\n",
    "            res[:-1], \n",
    "            leaf_font_size=24.,  # taille des caractères de l'axe des X\n",
    "        )\n",
    "        # Affichage du résultat obtenu:\n",
    "        plt.show()\n",
    "        \n",
    "    return res[:-1]\n",
    "\n",
    "\n",
    "def clustering_hierarchique_simple(DF, verbose=False, dendrogramme=False):\n",
    "    dico = initialise_CHA(DF)\n",
    "    res = []\n",
    "    for i in range(len(DF)):\n",
    "        dico, kc1, kc2, dist_min = fusionne_generic(DF, dico, dist_mini,verbose)\n",
    "        nbElem = len(dico[max(dico.keys())])\n",
    "        res.append([kc1, kc2, dist_min, nbElem])\n",
    "    \n",
    "    if dendrogramme:\n",
    "        # Paramètre de la fenêtre d'affichage: \n",
    "        plt.figure(figsize=(30, 15)) # taille : largeur x hauteur\n",
    "        plt.title('Dendrogramme', fontsize=25)    \n",
    "        plt.xlabel(\"Indice d'exemple\", fontsize=25)\n",
    "        plt.ylabel('Distance', fontsize=25)\n",
    "        # Construction du dendrogramme pour notre clustering :\n",
    "        scipy.cluster.hierarchy.dendrogram(\n",
    "            res[:-1], \n",
    "            leaf_font_size=24.,  # taille des caractères de l'axe des X\n",
    "        )\n",
    "        # Affichage du résultat obtenu:\n",
    "        plt.show()\n",
    "        \n",
    "    return res[:-1]\n",
    "\n",
    "def clustering_hierarchique_average(DF, verbose=False, dendrogramme=False):\n",
    "    dico = initialise_CHA(DF)\n",
    "    res = []\n",
    "    for i in range(len(DF)):\n",
    "        dico, kc1, kc2, dist_min = fusionne_generic(DF, dico, dist_mean, verbose)\n",
    "        nbElem = len(dico[max(dico.keys())])\n",
    "        res.append([kc1, kc2, dist_min, nbElem])\n",
    "    \n",
    "    if dendrogramme:\n",
    "        # Paramètre de la fenêtre d'affichage: \n",
    "        plt.figure(figsize=(30, 15)) # taille : largeur x hauteur\n",
    "        plt.title('Dendrogramme', fontsize=25)    \n",
    "        plt.xlabel(\"Indice d'exemple\", fontsize=25)\n",
    "        plt.ylabel('Distance', fontsize=25)\n",
    "        # Construction du dendrogramme pour notre clustering :\n",
    "        scipy.cluster.hierarchy.dendrogram(\n",
    "            res[:-1], \n",
    "            leaf_font_size=24.,  # taille des caractères de l'axe des X\n",
    "        )\n",
    "        # Affichage du résultat obtenu:\n",
    "        plt.show()\n",
    "        \n",
    "    return res[:-1]"
   ]
  },
  {
   "cell_type": "markdown",
   "metadata": {},
   "source": [
    "<font size=\"+1\" color=\"RED\"><b>[Q]</b></font> Regrouper les 4 fonctions de clustering hiérarchique ascendant en écrivant une fonction `CHA` qui prend les mêmes arguments que chacune des 4 fonctions précédentes, et un argument suplémentaire `linkage`, qui est une chaîne de caractères parmi `\"centroid\"` (valeur par défaut),  `\"complete\"`,`\"simple\"`, et `\"average\"` et qui donne le nom de l'approche linkage à utiliser pour construire le clustering."
   ]
  },
  {
   "cell_type": "code",
   "execution_count": 99,
   "metadata": {},
   "outputs": [],
   "source": [
    "def CHA(DF,linkage='centroid', verbose=False,dendrogramme=False):\n",
    "    \"\"\"  ##### donner une documentation à cette fonction\n",
    "    \"\"\"\n",
    "    ############################ A COMPLETER\n",
    "    if linkage == 'centroid':\n",
    "        return CHA_centroid(DF,verbose,dendrogramme)\n",
    "    if linkage == 'complete':\n",
    "        return clustering_hierarchique_complete(DF, verbose, dendrogramme)\n",
    "    if linkage == 'simple':\n",
    "        return clustering_hierarchique_simple(DF, verbose, dendrogramme)\n",
    "    if linkage == 'average':\n",
    "        return clustering_hierarchique_average(DF, verbose, dendrogramme)\n",
    "\n",
    "    "
   ]
  },
  {
   "cell_type": "code",
   "execution_count": 100,
   "metadata": {},
   "outputs": [
    {
     "name": "stdout",
     "output_type": "stream",
     "text": [
      "Distance minimale trouvée entre [8, 10] = 0.0714285714285714\n",
      "Distance minimale trouvée entre [7, 9] = 0.07142857142857151\n",
      "Distance minimale trouvée entre [2, 3] = 0.14285714285714285\n",
      "Distance minimale trouvée entre [6, 11] = 0.1428571428571429\n",
      "Distance minimale trouvée entre [0, 1] = 0.17437936593905287\n",
      "Distance minimale trouvée entre [15, 17] = 0.2031637521903985\n",
      "Distance minimale trouvée entre [4, 16] = 0.21237241067597865\n",
      "Distance minimale trouvée entre [12, 14] = 0.26811891970176366\n",
      "Distance minimale trouvée entre [5, 19] = 0.3047456282855976\n",
      "Distance minimale trouvée entre [13, 22] = 0.4542857142857144\n",
      "Distance minimale trouvée entre [20, 21] = 0.5000000000000001\n",
      "Distance minimale trouvée entre [18, 24] = 0.638139657302555\n",
      "Distance minimale trouvée entre [23, 25] = 0.6796842379114776\n"
     ]
    },
    {
     "data": {
      "image/png": "[encoded data removed]",
      "text/plain": [
       "<Figure size 2160x1080 with 1 Axes>"
      ]
     },
     "metadata": {
      "needs_background": "light"
     },
     "output_type": "display_data"
    },
    {
     "data": {
      "text/plain": [
       "[[8, 10, 0.0714285714285714, 2],\n",
       " [7, 9, 0.07142857142857151, 2],\n",
       " [2, 3, 0.14285714285714285, 2],\n",
       " [6, 11, 0.1428571428571429, 2],\n",
       " [0, 1, 0.17437936593905287, 2],\n",
       " [15, 17, 0.2031637521903985, 4],\n",
       " [4, 16, 0.21237241067597865, 3],\n",
       " [12, 14, 0.26811891970176366, 3],\n",
       " [5, 19, 0.3047456282855976, 5],\n",
       " [13, 22, 0.4542857142857144, 6],\n",
       " [20, 21, 0.5000000000000001, 6],\n",
       " [18, 24, 0.638139657302555, 8],\n",
       " [23, 25, 0.6796842379114776, 14]]"
      ]
     },
     "execution_count": 100,
     "metadata": {},
     "output_type": "execute_result"
    }
   ],
   "source": [
    "CHA(data_2D_norm, 'centroid', verbose=True,dendrogramme=True)"
   ]
  },
  {
   "cell_type": "code",
   "execution_count": 101,
   "metadata": {},
   "outputs": [
    {
     "name": "stdout",
     "output_type": "stream",
     "text": [
      "Distance minimale trouvée entre [8, 10] = 0.0714285714285714\n",
      "Distance minimale trouvée entre [7, 9] = 0.07142857142857151\n",
      "Distance minimale trouvée entre [2, 3] = 0.14285714285714285\n",
      "Distance minimale trouvée entre [6, 11] = 0.1428571428571429\n",
      "Distance minimale trouvée entre [0, 1] = 0.17437936593905287\n",
      "Distance minimale trouvée entre [4, 16] = 0.2457807219155036\n",
      "Distance minimale trouvée entre [5, 17] = 0.2457807219155036\n",
      "Distance minimale trouvée entre [12, 14] = 0.2931183504097598\n",
      "Distance minimale trouvée entre [15, 20] = 0.40632750438079696\n",
      "Distance minimale trouvée entre [13, 22] = 0.5862367008195198\n",
      "Distance minimale trouvée entre [18, 19] = 0.6645544771207432\n",
      "Distance minimale trouvée entre [21, 24] = 0.9458825918426771\n",
      "Distance minimale trouvée entre [23, 25] = 1.118033988749895\n"
     ]
    },
    {
     "data": {
      "image/png": "[encoded data removed]",
      "text/plain": [
       "<Figure size 2160x1080 with 1 Axes>"
      ]
     },
     "metadata": {
      "needs_background": "light"
     },
     "output_type": "display_data"
    },
    {
     "data": {
      "text/plain": [
       "[[8, 10, 0.0714285714285714, 2],\n",
       " [7, 9, 0.07142857142857151, 2],\n",
       " [2, 3, 0.14285714285714285, 2],\n",
       " [6, 11, 0.1428571428571429, 2],\n",
       " [0, 1, 0.17437936593905287, 2],\n",
       " [4, 16, 0.2457807219155036, 3],\n",
       " [5, 17, 0.2457807219155036, 3],\n",
       " [12, 14, 0.2931183504097598, 3],\n",
       " [15, 20, 0.40632750438079696, 5],\n",
       " [13, 22, 0.5862367008195198, 6],\n",
       " [18, 19, 0.6645544771207432, 5],\n",
       " [21, 24, 0.9458825918426771, 8],\n",
       " [23, 25, 1.118033988749895, 14]]"
      ]
     },
     "execution_count": 101,
     "metadata": {},
     "output_type": "execute_result"
    }
   ],
   "source": [
    "CHA(data_2D_norm, 'complete', verbose=True,dendrogramme=True)"
   ]
  },
  {
   "cell_type": "code",
   "execution_count": 102,
   "metadata": {},
   "outputs": [
    {
     "name": "stdout",
     "output_type": "stream",
     "text": [
      "Distance minimale trouvée entre [8, 10] = 0.0714285714285714\n",
      "Distance minimale trouvée entre [7, 9] = 0.07142857142857151\n",
      "Distance minimale trouvée entre [2, 3] = 0.14285714285714285\n",
      "Distance minimale trouvée entre [6, 11] = 0.1428571428571429\n",
      "Distance minimale trouvée entre [0, 1] = 0.17437936593905287\n",
      "Distance minimale trouvée entre [5, 17] = 0.19999999999999996\n",
      "Distance minimale trouvée entre [4, 16] = 0.19999999999999998\n",
      "Distance minimale trouvée entre [15, 19] = 0.20000000000000007\n",
      "Distance minimale trouvée entre [12, 14] = 0.24578072191550357\n",
      "Distance minimale trouvée entre [18, 20] = 0.33227723856037167\n",
      "Distance minimale trouvée entre [13, 21] = 0.34875873187810574\n",
      "Distance minimale trouvée entre [22, 23] = 0.3571428571428572\n",
      "Distance minimale trouvée entre [24, 25] = 0.42474482135195735\n"
     ]
    },
    {
     "data": {
      "image/png": "[encoded data removed]",
      "text/plain": [
       "<Figure size 2160x1080 with 1 Axes>"
      ]
     },
     "metadata": {
      "needs_background": "light"
     },
     "output_type": "display_data"
    },
    {
     "data": {
      "text/plain": [
       "[[8, 10, 0.0714285714285714, 2],\n",
       " [7, 9, 0.07142857142857151, 2],\n",
       " [2, 3, 0.14285714285714285, 2],\n",
       " [6, 11, 0.1428571428571429, 2],\n",
       " [0, 1, 0.17437936593905287, 2],\n",
       " [5, 17, 0.19999999999999996, 3],\n",
       " [4, 16, 0.19999999999999998, 3],\n",
       " [15, 19, 0.20000000000000007, 5],\n",
       " [12, 14, 0.24578072191550357, 3],\n",
       " [18, 20, 0.33227723856037167, 5],\n",
       " [13, 21, 0.34875873187810574, 6],\n",
       " [22, 23, 0.3571428571428572, 8],\n",
       " [24, 25, 0.42474482135195735, 14]]"
      ]
     },
     "execution_count": 102,
     "metadata": {},
     "output_type": "execute_result"
    }
   ],
   "source": [
    "CHA(data_2D_norm, 'simple', verbose=True,dendrogramme=True)"
   ]
  },
  {
   "cell_type": "code",
   "execution_count": 103,
   "metadata": {},
   "outputs": [
    {
     "name": "stdout",
     "output_type": "stream",
     "text": [
      "Distance minimale trouvée entre [8, 10] = 0.0714285714285714\n",
      "Distance minimale trouvée entre [7, 9] = 0.07142857142857151\n",
      "Distance minimale trouvée entre [2, 3] = 0.14285714285714285\n",
      "Distance minimale trouvée entre [6, 11] = 0.1428571428571429\n",
      "Distance minimale trouvée entre [0, 1] = 0.17437936593905287\n",
      "Distance minimale trouvée entre [15, 17] = 0.2176313858168653\n",
      "Distance minimale trouvée entre [4, 16] = 0.22289036095775178\n",
      "Distance minimale trouvée entre [12, 14] = 0.2694495361626317\n",
      "Distance minimale trouvée entre [5, 19] = 0.31302705657407515\n",
      "Distance minimale trouvée entre [13, 22] = 0.4745491993187841\n",
      "Distance minimale trouvée entre [20, 21] = 0.5175575371779451\n",
      "Distance minimale trouvée entre [18, 24] = 0.6770324690297006\n",
      "Distance minimale trouvée entre [23, 25] = 0.784963189028133\n"
     ]
    },
    {
     "data": {
      "image/png": "[encoded data removed]",
      "text/plain": [
       "<Figure size 2160x1080 with 1 Axes>"
      ]
     },
     "metadata": {
      "needs_background": "light"
     },
     "output_type": "display_data"
    },
    {
     "data": {
      "text/plain": [
       "[[8, 10, 0.0714285714285714, 2],\n",
       " [7, 9, 0.07142857142857151, 2],\n",
       " [2, 3, 0.14285714285714285, 2],\n",
       " [6, 11, 0.1428571428571429, 2],\n",
       " [0, 1, 0.17437936593905287, 2],\n",
       " [15, 17, 0.2176313858168653, 4],\n",
       " [4, 16, 0.22289036095775178, 3],\n",
       " [12, 14, 0.2694495361626317, 3],\n",
       " [5, 19, 0.31302705657407515, 5],\n",
       " [13, 22, 0.4745491993187841, 6],\n",
       " [20, 21, 0.5175575371779451, 6],\n",
       " [18, 24, 0.6770324690297006, 8],\n",
       " [23, 25, 0.784963189028133, 14]]"
      ]
     },
     "execution_count": 103,
     "metadata": {},
     "output_type": "execute_result"
    }
   ],
   "source": [
    "CHA(data_2D_norm, 'average', verbose=True,dendrogramme=True)"
   ]
  },
  {
   "cell_type": "markdown",
   "metadata": {},
   "source": [
    "## Ajout des fonctions dans la librairie `iads`\n",
    "\n",
    "<font size=\"+1\" color=\"RED\"><b>[Q]</b></font> Ajouter les fonctions de clustering dans votre librairie `iads`. Pour cela, créer un nouveau fichier de nom `Clustering.py` dans votre répertoire `iads`. \n",
    "Utiliser les premières lignes du fichier `Classifiers.py` pour débuter votre fichier `Clustering.py`, puis rajouter dans ce fichier les fonctions de clustering hiérarchique (tous linkages) de ce notebook, ainsi que les fonctions qu'elles utilisent."
   ]
  },
  {
   "cell_type": "markdown",
   "metadata": {},
   "source": [
    "## Phase 2 : application à des données réelles"
   ]
  },
  {
   "cell_type": "markdown",
   "metadata": {},
   "source": [
    "### Données: traitement des déchets de la ville de Paris"
   ]
  },
  {
   "cell_type": "markdown",
   "metadata": {},
   "source": [
    "Pour tester votre implémentation, vous allez utiliser les données publiques de traitement des déchets de la ville de Paris qui sont fournies dans le fichier `base-Paris.csv`.\n",
    "\n",
    "**Attention**: il faut préparer cette base afin de pouvoir appliquer l'algorithme de clustering: en particulier, certaines colonnes (Granularité, Total...) ne sont pas à utilisables dans le calcul des distances, il faut donc les éliminer. Il faut aussi prévoir de conserver le nom de l'arrondissement afin de pouvoir à la fin analyser le résultat du clustering.\n",
    "\n",
    "\n",
    "<font size=\"+1\" color=\"RED\"><b>[Q]</b></font> Etudier cette base et les clusters qui peuvent être mis en évidence.\n"
   ]
  },
  {
   "cell_type": "code",
   "execution_count": 109,
   "metadata": {},
   "outputs": [],
   "source": [
    "data_Paris = pd.read_csv('data/base-Paris.csv')"
   ]
  },
  {
   "cell_type": "code",
   "execution_count": 110,
   "metadata": {},
   "outputs": [
    {
     "data": {
      "text/html": [
       "<div>\n",
       "<style scoped>\n",
       "    .dataframe tbody tr th:only-of-type {\n",
       "        vertical-align: middle;\n",
       "    }\n",
       "\n",
       "    .dataframe tbody tr th {\n",
       "        vertical-align: top;\n",
       "    }\n",
       "\n",
       "    .dataframe thead th {\n",
       "        text-align: right;\n",
       "    }\n",
       "</style>\n",
       "<table border=\"1\" class=\"dataframe\">\n",
       "  <thead>\n",
       "    <tr style=\"text-align: right;\">\n",
       "      <th></th>\n",
       "      <th>Granularité</th>\n",
       "      <th>janv-11</th>\n",
       "      <th>févr-11</th>\n",
       "      <th>mars-11</th>\n",
       "      <th>avr-11</th>\n",
       "      <th>mai-11</th>\n",
       "      <th>juin-11</th>\n",
       "      <th>juil-11</th>\n",
       "      <th>août-11</th>\n",
       "      <th>sept-11</th>\n",
       "      <th>oct-11</th>\n",
       "      <th>nov-11</th>\n",
       "      <th>déc-11</th>\n",
       "      <th>Total-2011</th>\n",
       "    </tr>\n",
       "  </thead>\n",
       "  <tbody>\n",
       "    <tr>\n",
       "      <th>0</th>\n",
       "      <td>75001</td>\n",
       "      <td>75.3</td>\n",
       "      <td>60.4</td>\n",
       "      <td>71.2</td>\n",
       "      <td>59.5</td>\n",
       "      <td>73.9</td>\n",
       "      <td>72.0</td>\n",
       "      <td>57.9</td>\n",
       "      <td>56.4</td>\n",
       "      <td>75.5</td>\n",
       "      <td>75.7</td>\n",
       "      <td>65.8</td>\n",
       "      <td>79.1</td>\n",
       "      <td>822.7</td>\n",
       "    </tr>\n",
       "    <tr>\n",
       "      <th>1</th>\n",
       "      <td>75002</td>\n",
       "      <td>153.0</td>\n",
       "      <td>125.8</td>\n",
       "      <td>136.6</td>\n",
       "      <td>126.6</td>\n",
       "      <td>133.2</td>\n",
       "      <td>127.6</td>\n",
       "      <td>126.7</td>\n",
       "      <td>114.3</td>\n",
       "      <td>144.3</td>\n",
       "      <td>145.1</td>\n",
       "      <td>129.5</td>\n",
       "      <td>129.8</td>\n",
       "      <td>1592.5</td>\n",
       "    </tr>\n",
       "    <tr>\n",
       "      <th>2</th>\n",
       "      <td>75003</td>\n",
       "      <td>183.9</td>\n",
       "      <td>173.1</td>\n",
       "      <td>204.2</td>\n",
       "      <td>183.0</td>\n",
       "      <td>203.2</td>\n",
       "      <td>181.9</td>\n",
       "      <td>191.2</td>\n",
       "      <td>153.6</td>\n",
       "      <td>208.6</td>\n",
       "      <td>186.5</td>\n",
       "      <td>192.9</td>\n",
       "      <td>189.9</td>\n",
       "      <td>2252.0</td>\n",
       "    </tr>\n",
       "    <tr>\n",
       "      <th>3</th>\n",
       "      <td>75004</td>\n",
       "      <td>116.3</td>\n",
       "      <td>115.7</td>\n",
       "      <td>133.4</td>\n",
       "      <td>115.0</td>\n",
       "      <td>123.2</td>\n",
       "      <td>120.5</td>\n",
       "      <td>114.5</td>\n",
       "      <td>97.6</td>\n",
       "      <td>130.5</td>\n",
       "      <td>123.0</td>\n",
       "      <td>124.3</td>\n",
       "      <td>133.7</td>\n",
       "      <td>1447.7</td>\n",
       "    </tr>\n",
       "    <tr>\n",
       "      <th>4</th>\n",
       "      <td>75005</td>\n",
       "      <td>247.0</td>\n",
       "      <td>211.0</td>\n",
       "      <td>251.0</td>\n",
       "      <td>218.0</td>\n",
       "      <td>185.0</td>\n",
       "      <td>224.0</td>\n",
       "      <td>213.3</td>\n",
       "      <td>162.9</td>\n",
       "      <td>203.4</td>\n",
       "      <td>232.1</td>\n",
       "      <td>227.6</td>\n",
       "      <td>251.6</td>\n",
       "      <td>2626.9</td>\n",
       "    </tr>\n",
       "    <tr>\n",
       "      <th>5</th>\n",
       "      <td>75006</td>\n",
       "      <td>222.0</td>\n",
       "      <td>189.0</td>\n",
       "      <td>218.0</td>\n",
       "      <td>192.0</td>\n",
       "      <td>180.0</td>\n",
       "      <td>199.0</td>\n",
       "      <td>171.8</td>\n",
       "      <td>134.8</td>\n",
       "      <td>183.1</td>\n",
       "      <td>195.5</td>\n",
       "      <td>213.8</td>\n",
       "      <td>204.1</td>\n",
       "      <td>2303.1</td>\n",
       "    </tr>\n",
       "    <tr>\n",
       "      <th>6</th>\n",
       "      <td>75007</td>\n",
       "      <td>288.1</td>\n",
       "      <td>249.1</td>\n",
       "      <td>303.7</td>\n",
       "      <td>255.8</td>\n",
       "      <td>287.8</td>\n",
       "      <td>288.4</td>\n",
       "      <td>249.6</td>\n",
       "      <td>185.6</td>\n",
       "      <td>281.3</td>\n",
       "      <td>284.3</td>\n",
       "      <td>296.4</td>\n",
       "      <td>301.1</td>\n",
       "      <td>3271.2</td>\n",
       "    </tr>\n",
       "    <tr>\n",
       "      <th>7</th>\n",
       "      <td>75008</td>\n",
       "      <td>252.6</td>\n",
       "      <td>246.7</td>\n",
       "      <td>252.9</td>\n",
       "      <td>232.5</td>\n",
       "      <td>199.4</td>\n",
       "      <td>236.4</td>\n",
       "      <td>175.4</td>\n",
       "      <td>189.4</td>\n",
       "      <td>266.6</td>\n",
       "      <td>230.3</td>\n",
       "      <td>257.7</td>\n",
       "      <td>224.4</td>\n",
       "      <td>2764.3</td>\n",
       "    </tr>\n",
       "    <tr>\n",
       "      <th>8</th>\n",
       "      <td>75009</td>\n",
       "      <td>208.3</td>\n",
       "      <td>197.1</td>\n",
       "      <td>220.4</td>\n",
       "      <td>197.9</td>\n",
       "      <td>151.7</td>\n",
       "      <td>206.9</td>\n",
       "      <td>199.9</td>\n",
       "      <td>163.3</td>\n",
       "      <td>223.8</td>\n",
       "      <td>203.6</td>\n",
       "      <td>213.8</td>\n",
       "      <td>235.7</td>\n",
       "      <td>2422.4</td>\n",
       "    </tr>\n",
       "    <tr>\n",
       "      <th>9</th>\n",
       "      <td>75010</td>\n",
       "      <td>273.0</td>\n",
       "      <td>248.6</td>\n",
       "      <td>292.2</td>\n",
       "      <td>255.2</td>\n",
       "      <td>284.3</td>\n",
       "      <td>267.3</td>\n",
       "      <td>246.6</td>\n",
       "      <td>210.3</td>\n",
       "      <td>280.6</td>\n",
       "      <td>275.6</td>\n",
       "      <td>284.6</td>\n",
       "      <td>283.2</td>\n",
       "      <td>3201.5</td>\n",
       "    </tr>\n",
       "    <tr>\n",
       "      <th>10</th>\n",
       "      <td>75011</td>\n",
       "      <td>487.2</td>\n",
       "      <td>422.2</td>\n",
       "      <td>491.0</td>\n",
       "      <td>437.0</td>\n",
       "      <td>466.0</td>\n",
       "      <td>443.0</td>\n",
       "      <td>373.5</td>\n",
       "      <td>367.5</td>\n",
       "      <td>511.9</td>\n",
       "      <td>490.6</td>\n",
       "      <td>469.2</td>\n",
       "      <td>487.9</td>\n",
       "      <td>5447.0</td>\n",
       "    </tr>\n",
       "    <tr>\n",
       "      <th>11</th>\n",
       "      <td>75012</td>\n",
       "      <td>484.2</td>\n",
       "      <td>445.9</td>\n",
       "      <td>517.0</td>\n",
       "      <td>452.0</td>\n",
       "      <td>402.0</td>\n",
       "      <td>488.0</td>\n",
       "      <td>456.0</td>\n",
       "      <td>409.0</td>\n",
       "      <td>506.0</td>\n",
       "      <td>495.0</td>\n",
       "      <td>493.0</td>\n",
       "      <td>502.0</td>\n",
       "      <td>5650.1</td>\n",
       "    </tr>\n",
       "    <tr>\n",
       "      <th>12</th>\n",
       "      <td>75013</td>\n",
       "      <td>596.5</td>\n",
       "      <td>540.2</td>\n",
       "      <td>618.5</td>\n",
       "      <td>558.6</td>\n",
       "      <td>595.9</td>\n",
       "      <td>581.7</td>\n",
       "      <td>539.2</td>\n",
       "      <td>490.5</td>\n",
       "      <td>597.8</td>\n",
       "      <td>575.7</td>\n",
       "      <td>580.5</td>\n",
       "      <td>601.4</td>\n",
       "      <td>6876.5</td>\n",
       "    </tr>\n",
       "    <tr>\n",
       "      <th>13</th>\n",
       "      <td>75014</td>\n",
       "      <td>464.0</td>\n",
       "      <td>404.9</td>\n",
       "      <td>465.3</td>\n",
       "      <td>420.2</td>\n",
       "      <td>405.3</td>\n",
       "      <td>446.0</td>\n",
       "      <td>412.9</td>\n",
       "      <td>348.7</td>\n",
       "      <td>449.3</td>\n",
       "      <td>446.3</td>\n",
       "      <td>453.1</td>\n",
       "      <td>484.3</td>\n",
       "      <td>5200.3</td>\n",
       "    </tr>\n",
       "    <tr>\n",
       "      <th>14</th>\n",
       "      <td>75015</td>\n",
       "      <td>903.1</td>\n",
       "      <td>801.4</td>\n",
       "      <td>937.5</td>\n",
       "      <td>835.5</td>\n",
       "      <td>876.8</td>\n",
       "      <td>888.6</td>\n",
       "      <td>628.8</td>\n",
       "      <td>674.8</td>\n",
       "      <td>913.3</td>\n",
       "      <td>878.7</td>\n",
       "      <td>895.7</td>\n",
       "      <td>935.8</td>\n",
       "      <td>10170.0</td>\n",
       "    </tr>\n",
       "    <tr>\n",
       "      <th>15</th>\n",
       "      <td>75016</td>\n",
       "      <td>584.1</td>\n",
       "      <td>571.2</td>\n",
       "      <td>684.7</td>\n",
       "      <td>590.3</td>\n",
       "      <td>563.4</td>\n",
       "      <td>666.3</td>\n",
       "      <td>570.4</td>\n",
       "      <td>433.2</td>\n",
       "      <td>679.7</td>\n",
       "      <td>656.1</td>\n",
       "      <td>662.6</td>\n",
       "      <td>699.9</td>\n",
       "      <td>7361.9</td>\n",
       "    </tr>\n",
       "    <tr>\n",
       "      <th>16</th>\n",
       "      <td>75017</td>\n",
       "      <td>451.1</td>\n",
       "      <td>412.4</td>\n",
       "      <td>491.6</td>\n",
       "      <td>422.7</td>\n",
       "      <td>363.6</td>\n",
       "      <td>446.4</td>\n",
       "      <td>409.5</td>\n",
       "      <td>332.3</td>\n",
       "      <td>416.4</td>\n",
       "      <td>451.5</td>\n",
       "      <td>475.1</td>\n",
       "      <td>513.5</td>\n",
       "      <td>5186.1</td>\n",
       "    </tr>\n",
       "    <tr>\n",
       "      <th>17</th>\n",
       "      <td>75018</td>\n",
       "      <td>427.0</td>\n",
       "      <td>394.3</td>\n",
       "      <td>455.2</td>\n",
       "      <td>419.9</td>\n",
       "      <td>458.3</td>\n",
       "      <td>456.6</td>\n",
       "      <td>418.0</td>\n",
       "      <td>361.8</td>\n",
       "      <td>464.6</td>\n",
       "      <td>453.4</td>\n",
       "      <td>478.5</td>\n",
       "      <td>470.9</td>\n",
       "      <td>5258.5</td>\n",
       "    </tr>\n",
       "    <tr>\n",
       "      <th>18</th>\n",
       "      <td>75019</td>\n",
       "      <td>323.4</td>\n",
       "      <td>287.3</td>\n",
       "      <td>350.3</td>\n",
       "      <td>317.8</td>\n",
       "      <td>336.9</td>\n",
       "      <td>340.7</td>\n",
       "      <td>311.6</td>\n",
       "      <td>281.0</td>\n",
       "      <td>345.6</td>\n",
       "      <td>335.6</td>\n",
       "      <td>367.0</td>\n",
       "      <td>354.5</td>\n",
       "      <td>3951.7</td>\n",
       "    </tr>\n",
       "    <tr>\n",
       "      <th>19</th>\n",
       "      <td>75020</td>\n",
       "      <td>394.1</td>\n",
       "      <td>366.3</td>\n",
       "      <td>422.7</td>\n",
       "      <td>367.1</td>\n",
       "      <td>273.5</td>\n",
       "      <td>381.7</td>\n",
       "      <td>353.4</td>\n",
       "      <td>297.0</td>\n",
       "      <td>414.0</td>\n",
       "      <td>350.0</td>\n",
       "      <td>410.6</td>\n",
       "      <td>410.0</td>\n",
       "      <td>4440.4</td>\n",
       "    </tr>\n",
       "    <tr>\n",
       "      <th>20</th>\n",
       "      <td>Tous</td>\n",
       "      <td>7134.2</td>\n",
       "      <td>6462.6</td>\n",
       "      <td>7517.4</td>\n",
       "      <td>6656.6</td>\n",
       "      <td>6563.4</td>\n",
       "      <td>7063.0</td>\n",
       "      <td>6220.2</td>\n",
       "      <td>5464.0</td>\n",
       "      <td>7296.3</td>\n",
       "      <td>7084.6</td>\n",
       "      <td>7291.7</td>\n",
       "      <td>7492.8</td>\n",
       "      <td>82246.8</td>\n",
       "    </tr>\n",
       "  </tbody>\n",
       "</table>\n",
       "</div>"
      ],
      "text/plain": [
       "   Granularité  janv-11  févr-11  mars-11  avr-11  mai-11  juin-11  juil-11  \\\n",
       "0        75001     75.3     60.4     71.2    59.5    73.9     72.0     57.9   \n",
       "1        75002    153.0    125.8    136.6   126.6   133.2    127.6    126.7   \n",
       "2        75003    183.9    173.1    204.2   183.0   203.2    181.9    191.2   \n",
       "3        75004    116.3    115.7    133.4   115.0   123.2    120.5    114.5   \n",
       "4        75005    247.0    211.0    251.0   218.0   185.0    224.0    213.3   \n",
       "5        75006    222.0    189.0    218.0   192.0   180.0    199.0    171.8   \n",
       "6        75007    288.1    249.1    303.7   255.8   287.8    288.4    249.6   \n",
       "7        75008    252.6    246.7    252.9   232.5   199.4    236.4    175.4   \n",
       "8        75009    208.3    197.1    220.4   197.9   151.7    206.9    199.9   \n",
       "9        75010    273.0    248.6    292.2   255.2   284.3    267.3    246.6   \n",
       "10       75011    487.2    422.2    491.0   437.0   466.0    443.0    373.5   \n",
       "11       75012    484.2    445.9    517.0   452.0   402.0    488.0    456.0   \n",
       "12       75013    596.5    540.2    618.5   558.6   595.9    581.7    539.2   \n",
       "13       75014    464.0    404.9    465.3   420.2   405.3    446.0    412.9   \n",
       "14       75015    903.1    801.4    937.5   835.5   876.8    888.6    628.8   \n",
       "15       75016    584.1    571.2    684.7   590.3   563.4    666.3    570.4   \n",
       "16       75017    451.1    412.4    491.6   422.7   363.6    446.4    409.5   \n",
       "17       75018    427.0    394.3    455.2   419.9   458.3    456.6    418.0   \n",
       "18       75019    323.4    287.3    350.3   317.8   336.9    340.7    311.6   \n",
       "19       75020    394.1    366.3    422.7   367.1   273.5    381.7    353.4   \n",
       "20        Tous   7134.2   6462.6   7517.4  6656.6  6563.4   7063.0   6220.2   \n",
       "\n",
       "    août-11  sept-11  oct-11  nov-11  déc-11  Total-2011  \n",
       "0      56.4     75.5    75.7    65.8    79.1       822.7  \n",
       "1     114.3    144.3   145.1   129.5   129.8      1592.5  \n",
       "2     153.6    208.6   186.5   192.9   189.9      2252.0  \n",
       "3      97.6    130.5   123.0   124.3   133.7      1447.7  \n",
       "4     162.9    203.4   232.1   227.6   251.6      2626.9  \n",
       "5     134.8    183.1   195.5   213.8   204.1      2303.1  \n",
       "6     185.6    281.3   284.3   296.4   301.1      3271.2  \n",
       "7     189.4    266.6   230.3   257.7   224.4      2764.3  \n",
       "8     163.3    223.8   203.6   213.8   235.7      2422.4  \n",
       "9     210.3    280.6   275.6   284.6   283.2      3201.5  \n",
       "10    367.5    511.9   490.6   469.2   487.9      5447.0  \n",
       "11    409.0    506.0   495.0   493.0   502.0      5650.1  \n",
       "12    490.5    597.8   575.7   580.5   601.4      6876.5  \n",
       "13    348.7    449.3   446.3   453.1   484.3      5200.3  \n",
       "14    674.8    913.3   878.7   895.7   935.8     10170.0  \n",
       "15    433.2    679.7   656.1   662.6   699.9      7361.9  \n",
       "16    332.3    416.4   451.5   475.1   513.5      5186.1  \n",
       "17    361.8    464.6   453.4   478.5   470.9      5258.5  \n",
       "18    281.0    345.6   335.6   367.0   354.5      3951.7  \n",
       "19    297.0    414.0   350.0   410.6   410.0      4440.4  \n",
       "20   5464.0   7296.3  7084.6  7291.7  7492.8     82246.8  "
      ]
     },
     "execution_count": 110,
     "metadata": {},
     "output_type": "execute_result"
    }
   ],
   "source": [
    "data_Paris"
   ]
  },
  {
   "cell_type": "markdown",
   "metadata": {
    "collapsed": true
   },
   "source": [
    "<font size=\"+1\" color=\"RED\"><b>[Q]</b></font> Préparer un rapport d'analyse (c'est-à-dire, compléter votre notebook en rajoutant à la suite tout un ensemble d'expérimentations et de résultats obtenus sur la base) réalisé sur cette base qui mette en évidence les clusters existants à différents niveaux de distance, et en utilisant différentes distances.\n"
   ]
  },
  {
   "cell_type": "code",
   "execution_count": 111,
   "metadata": {},
   "outputs": [
    {
     "ename": "TypeError",
     "evalue": "unsupported operand type(s) for -: 'str' and 'str'",
     "output_type": "error",
     "traceback": [
      "\u001b[0;31m---------------------------------------------------------------------------\u001b[0m",
      "\u001b[0;31mTypeError\u001b[0m                                 Traceback (most recent call last)",
      "\u001b[0;32m~/anaconda3/lib/python3.9/site-packages/pandas/core/ops/array_ops.py\u001b[0m in \u001b[0;36m_na_arithmetic_op\u001b[0;34m(left, right, op, is_cmp)\u001b[0m\n\u001b[1;32m    164\u001b[0m     \u001b[0;32mtry\u001b[0m\u001b[0;34m:\u001b[0m\u001b[0;34m\u001b[0m\u001b[0;34m\u001b[0m\u001b[0m\n\u001b[0;32m--> 165\u001b[0;31m         \u001b[0mresult\u001b[0m \u001b[0;34m=\u001b[0m \u001b[0mfunc\u001b[0m\u001b[0;34m(\u001b[0m\u001b[0mleft\u001b[0m\u001b[0;34m,\u001b[0m \u001b[0mright\u001b[0m\u001b[0;34m)\u001b[0m\u001b[0;34m\u001b[0m\u001b[0;34m\u001b[0m\u001b[0m\n\u001b[0m\u001b[1;32m    166\u001b[0m     \u001b[0;32mexcept\u001b[0m \u001b[0mTypeError\u001b[0m\u001b[0;34m:\u001b[0m\u001b[0;34m\u001b[0m\u001b[0;34m\u001b[0m\u001b[0m\n",
      "\u001b[0;31mTypeError\u001b[0m: unsupported operand type(s) for -: 'str' and 'str'",
      "\nDuring handling of the above exception, another exception occurred:\n",
      "\u001b[0;31mTypeError\u001b[0m                                 Traceback (most recent call last)",
      "\u001b[0;32m/tmp/ipykernel_7111/533030648.py\u001b[0m in \u001b[0;36m<module>\u001b[0;34m\u001b[0m\n\u001b[0;32m----> 1\u001b[0;31m \u001b[0mdata_Paris_norm\u001b[0m \u001b[0;34m=\u001b[0m \u001b[0mnormalisation\u001b[0m\u001b[0;34m(\u001b[0m\u001b[0mdata_Paris\u001b[0m\u001b[0;34m)\u001b[0m\u001b[0;34m\u001b[0m\u001b[0;34m\u001b[0m\u001b[0m\n\u001b[0m",
      "\u001b[0;32m/tmp/ipykernel_7111/1226283533.py\u001b[0m in \u001b[0;36mnormalisation\u001b[0;34m(dataframe)\u001b[0m\n\u001b[1;32m      3\u001b[0m         \u001b[0mmini\u001b[0m \u001b[0;34m=\u001b[0m \u001b[0mmin\u001b[0m\u001b[0;34m(\u001b[0m\u001b[0mdataframe\u001b[0m\u001b[0;34m[\u001b[0m\u001b[0mc\u001b[0m\u001b[0;34m]\u001b[0m\u001b[0;34m)\u001b[0m\u001b[0;34m\u001b[0m\u001b[0;34m\u001b[0m\u001b[0m\n\u001b[1;32m      4\u001b[0m         \u001b[0mmaxi\u001b[0m \u001b[0;34m=\u001b[0m \u001b[0mmax\u001b[0m\u001b[0;34m(\u001b[0m\u001b[0mdataframe\u001b[0m\u001b[0;34m[\u001b[0m\u001b[0mc\u001b[0m\u001b[0;34m]\u001b[0m\u001b[0;34m)\u001b[0m\u001b[0;34m\u001b[0m\u001b[0;34m\u001b[0m\u001b[0m\n\u001b[0;32m----> 5\u001b[0;31m         \u001b[0mdataframe\u001b[0m\u001b[0;34m[\u001b[0m\u001b[0mc\u001b[0m\u001b[0;34m]\u001b[0m \u001b[0;34m=\u001b[0m \u001b[0mdataframe\u001b[0m\u001b[0;34m[\u001b[0m\u001b[0mc\u001b[0m\u001b[0;34m]\u001b[0m \u001b[0;34m-\u001b[0m \u001b[0mmini\u001b[0m\u001b[0;34m\u001b[0m\u001b[0;34m\u001b[0m\u001b[0m\n\u001b[0m\u001b[1;32m      6\u001b[0m         \u001b[0mdataframe\u001b[0m\u001b[0;34m[\u001b[0m\u001b[0mc\u001b[0m\u001b[0;34m]\u001b[0m \u001b[0;34m=\u001b[0m \u001b[0mdataframe\u001b[0m\u001b[0;34m[\u001b[0m\u001b[0mc\u001b[0m\u001b[0;34m]\u001b[0m\u001b[0;34m/\u001b[0m \u001b[0mmaxi\u001b[0m\u001b[0;34m\u001b[0m\u001b[0;34m\u001b[0m\u001b[0m\n\u001b[1;32m      7\u001b[0m \u001b[0;34m\u001b[0m\u001b[0m\n",
      "\u001b[0;32m~/anaconda3/lib/python3.9/site-packages/pandas/core/ops/common.py\u001b[0m in \u001b[0;36mnew_method\u001b[0;34m(self, other)\u001b[0m\n\u001b[1;32m     70\u001b[0m         \u001b[0mother\u001b[0m \u001b[0;34m=\u001b[0m \u001b[0mitem_from_zerodim\u001b[0m\u001b[0;34m(\u001b[0m\u001b[0mother\u001b[0m\u001b[0;34m)\u001b[0m\u001b[0;34m\u001b[0m\u001b[0;34m\u001b[0m\u001b[0m\n\u001b[1;32m     71\u001b[0m \u001b[0;34m\u001b[0m\u001b[0m\n\u001b[0;32m---> 72\u001b[0;31m         \u001b[0;32mreturn\u001b[0m \u001b[0mmethod\u001b[0m\u001b[0;34m(\u001b[0m\u001b[0mself\u001b[0m\u001b[0;34m,\u001b[0m \u001b[0mother\u001b[0m\u001b[0;34m)\u001b[0m\u001b[0;34m\u001b[0m\u001b[0;34m\u001b[0m\u001b[0m\n\u001b[0m\u001b[1;32m     73\u001b[0m \u001b[0;34m\u001b[0m\u001b[0m\n\u001b[1;32m     74\u001b[0m     \u001b[0;32mreturn\u001b[0m \u001b[0mnew_method\u001b[0m\u001b[0;34m\u001b[0m\u001b[0;34m\u001b[0m\u001b[0m\n",
      "\u001b[0;32m~/anaconda3/lib/python3.9/site-packages/pandas/core/arraylike.py\u001b[0m in \u001b[0;36m__sub__\u001b[0;34m(self, other)\u001b[0m\n\u001b[1;32m    108\u001b[0m     \u001b[0;34m@\u001b[0m\u001b[0munpack_zerodim_and_defer\u001b[0m\u001b[0;34m(\u001b[0m\u001b[0;34m\"__sub__\"\u001b[0m\u001b[0;34m)\u001b[0m\u001b[0;34m\u001b[0m\u001b[0;34m\u001b[0m\u001b[0m\n\u001b[1;32m    109\u001b[0m     \u001b[0;32mdef\u001b[0m \u001b[0m__sub__\u001b[0m\u001b[0;34m(\u001b[0m\u001b[0mself\u001b[0m\u001b[0;34m,\u001b[0m \u001b[0mother\u001b[0m\u001b[0;34m)\u001b[0m\u001b[0;34m:\u001b[0m\u001b[0;34m\u001b[0m\u001b[0;34m\u001b[0m\u001b[0m\n\u001b[0;32m--> 110\u001b[0;31m         \u001b[0;32mreturn\u001b[0m \u001b[0mself\u001b[0m\u001b[0;34m.\u001b[0m\u001b[0m_arith_method\u001b[0m\u001b[0;34m(\u001b[0m\u001b[0mother\u001b[0m\u001b[0;34m,\u001b[0m \u001b[0moperator\u001b[0m\u001b[0;34m.\u001b[0m\u001b[0msub\u001b[0m\u001b[0;34m)\u001b[0m\u001b[0;34m\u001b[0m\u001b[0;34m\u001b[0m\u001b[0m\n\u001b[0m\u001b[1;32m    111\u001b[0m \u001b[0;34m\u001b[0m\u001b[0m\n\u001b[1;32m    112\u001b[0m     \u001b[0;34m@\u001b[0m\u001b[0munpack_zerodim_and_defer\u001b[0m\u001b[0;34m(\u001b[0m\u001b[0;34m\"__rsub__\"\u001b[0m\u001b[0;34m)\u001b[0m\u001b[0;34m\u001b[0m\u001b[0;34m\u001b[0m\u001b[0m\n",
      "\u001b[0;32m~/anaconda3/lib/python3.9/site-packages/pandas/core/series.py\u001b[0m in \u001b[0;36m_arith_method\u001b[0;34m(self, other, op)\u001b[0m\n\u001b[1;32m   6257\u001b[0m     \u001b[0;32mdef\u001b[0m \u001b[0m_arith_method\u001b[0m\u001b[0;34m(\u001b[0m\u001b[0mself\u001b[0m\u001b[0;34m,\u001b[0m \u001b[0mother\u001b[0m\u001b[0;34m,\u001b[0m \u001b[0mop\u001b[0m\u001b[0;34m)\u001b[0m\u001b[0;34m:\u001b[0m\u001b[0;34m\u001b[0m\u001b[0;34m\u001b[0m\u001b[0m\n\u001b[1;32m   6258\u001b[0m         \u001b[0mself\u001b[0m\u001b[0;34m,\u001b[0m \u001b[0mother\u001b[0m \u001b[0;34m=\u001b[0m \u001b[0mops\u001b[0m\u001b[0;34m.\u001b[0m\u001b[0malign_method_SERIES\u001b[0m\u001b[0;34m(\u001b[0m\u001b[0mself\u001b[0m\u001b[0;34m,\u001b[0m \u001b[0mother\u001b[0m\u001b[0;34m)\u001b[0m\u001b[0;34m\u001b[0m\u001b[0;34m\u001b[0m\u001b[0m\n\u001b[0;32m-> 6259\u001b[0;31m         \u001b[0;32mreturn\u001b[0m \u001b[0mbase\u001b[0m\u001b[0;34m.\u001b[0m\u001b[0mIndexOpsMixin\u001b[0m\u001b[0;34m.\u001b[0m\u001b[0m_arith_method\u001b[0m\u001b[0;34m(\u001b[0m\u001b[0mself\u001b[0m\u001b[0;34m,\u001b[0m \u001b[0mother\u001b[0m\u001b[0;34m,\u001b[0m \u001b[0mop\u001b[0m\u001b[0;34m)\u001b[0m\u001b[0;34m\u001b[0m\u001b[0;34m\u001b[0m\u001b[0m\n\u001b[0m\u001b[1;32m   6260\u001b[0m \u001b[0;34m\u001b[0m\u001b[0m\n\u001b[1;32m   6261\u001b[0m \u001b[0;34m\u001b[0m\u001b[0m\n",
      "\u001b[0;32m~/anaconda3/lib/python3.9/site-packages/pandas/core/base.py\u001b[0m in \u001b[0;36m_arith_method\u001b[0;34m(self, other, op)\u001b[0m\n\u001b[1;32m   1323\u001b[0m \u001b[0;34m\u001b[0m\u001b[0m\n\u001b[1;32m   1324\u001b[0m         \u001b[0;32mwith\u001b[0m \u001b[0mnp\u001b[0m\u001b[0;34m.\u001b[0m\u001b[0merrstate\u001b[0m\u001b[0;34m(\u001b[0m\u001b[0mall\u001b[0m\u001b[0;34m=\u001b[0m\u001b[0;34m\"ignore\"\u001b[0m\u001b[0;34m)\u001b[0m\u001b[0;34m:\u001b[0m\u001b[0;34m\u001b[0m\u001b[0;34m\u001b[0m\u001b[0m\n\u001b[0;32m-> 1325\u001b[0;31m             \u001b[0mresult\u001b[0m \u001b[0;34m=\u001b[0m \u001b[0mops\u001b[0m\u001b[0;34m.\u001b[0m\u001b[0marithmetic_op\u001b[0m\u001b[0;34m(\u001b[0m\u001b[0mlvalues\u001b[0m\u001b[0;34m,\u001b[0m \u001b[0mrvalues\u001b[0m\u001b[0;34m,\u001b[0m \u001b[0mop\u001b[0m\u001b[0;34m)\u001b[0m\u001b[0;34m\u001b[0m\u001b[0;34m\u001b[0m\u001b[0m\n\u001b[0m\u001b[1;32m   1326\u001b[0m \u001b[0;34m\u001b[0m\u001b[0m\n\u001b[1;32m   1327\u001b[0m         \u001b[0;32mreturn\u001b[0m \u001b[0mself\u001b[0m\u001b[0;34m.\u001b[0m\u001b[0m_construct_result\u001b[0m\u001b[0;34m(\u001b[0m\u001b[0mresult\u001b[0m\u001b[0;34m,\u001b[0m \u001b[0mname\u001b[0m\u001b[0;34m=\u001b[0m\u001b[0mres_name\u001b[0m\u001b[0;34m)\u001b[0m\u001b[0;34m\u001b[0m\u001b[0;34m\u001b[0m\u001b[0m\n",
      "\u001b[0;32m~/anaconda3/lib/python3.9/site-packages/pandas/core/ops/array_ops.py\u001b[0m in \u001b[0;36marithmetic_op\u001b[0;34m(left, right, op)\u001b[0m\n\u001b[1;32m    224\u001b[0m         \u001b[0;31m# error: Argument 1 to \"_na_arithmetic_op\" has incompatible type\u001b[0m\u001b[0;34m\u001b[0m\u001b[0;34m\u001b[0m\u001b[0m\n\u001b[1;32m    225\u001b[0m         \u001b[0;31m# \"Union[ExtensionArray, ndarray[Any, Any]]\"; expected \"ndarray[Any, Any]\"\u001b[0m\u001b[0;34m\u001b[0m\u001b[0;34m\u001b[0m\u001b[0m\n\u001b[0;32m--> 226\u001b[0;31m         \u001b[0mres_values\u001b[0m \u001b[0;34m=\u001b[0m \u001b[0m_na_arithmetic_op\u001b[0m\u001b[0;34m(\u001b[0m\u001b[0mleft\u001b[0m\u001b[0;34m,\u001b[0m \u001b[0mright\u001b[0m\u001b[0;34m,\u001b[0m \u001b[0mop\u001b[0m\u001b[0;34m)\u001b[0m  \u001b[0;31m# type: ignore[arg-type]\u001b[0m\u001b[0;34m\u001b[0m\u001b[0;34m\u001b[0m\u001b[0m\n\u001b[0m\u001b[1;32m    227\u001b[0m \u001b[0;34m\u001b[0m\u001b[0m\n\u001b[1;32m    228\u001b[0m     \u001b[0;32mreturn\u001b[0m \u001b[0mres_values\u001b[0m\u001b[0;34m\u001b[0m\u001b[0;34m\u001b[0m\u001b[0m\n",
      "\u001b[0;32m~/anaconda3/lib/python3.9/site-packages/pandas/core/ops/array_ops.py\u001b[0m in \u001b[0;36m_na_arithmetic_op\u001b[0;34m(left, right, op, is_cmp)\u001b[0m\n\u001b[1;32m    170\u001b[0m             \u001b[0;31m# Don't do this for comparisons, as that will handle complex numbers\u001b[0m\u001b[0;34m\u001b[0m\u001b[0;34m\u001b[0m\u001b[0m\n\u001b[1;32m    171\u001b[0m             \u001b[0;31m#  incorrectly, see GH#32047\u001b[0m\u001b[0;34m\u001b[0m\u001b[0;34m\u001b[0m\u001b[0m\n\u001b[0;32m--> 172\u001b[0;31m             \u001b[0mresult\u001b[0m \u001b[0;34m=\u001b[0m \u001b[0m_masked_arith_op\u001b[0m\u001b[0;34m(\u001b[0m\u001b[0mleft\u001b[0m\u001b[0;34m,\u001b[0m \u001b[0mright\u001b[0m\u001b[0;34m,\u001b[0m \u001b[0mop\u001b[0m\u001b[0;34m)\u001b[0m\u001b[0;34m\u001b[0m\u001b[0;34m\u001b[0m\u001b[0m\n\u001b[0m\u001b[1;32m    173\u001b[0m         \u001b[0;32melse\u001b[0m\u001b[0;34m:\u001b[0m\u001b[0;34m\u001b[0m\u001b[0;34m\u001b[0m\u001b[0m\n\u001b[1;32m    174\u001b[0m             \u001b[0;32mraise\u001b[0m\u001b[0;34m\u001b[0m\u001b[0;34m\u001b[0m\u001b[0m\n",
      "\u001b[0;32m~/anaconda3/lib/python3.9/site-packages/pandas/core/ops/array_ops.py\u001b[0m in \u001b[0;36m_masked_arith_op\u001b[0;34m(x, y, op)\u001b[0m\n\u001b[1;32m    127\u001b[0m \u001b[0;34m\u001b[0m\u001b[0m\n\u001b[1;32m    128\u001b[0m         \u001b[0;32mif\u001b[0m \u001b[0mmask\u001b[0m\u001b[0;34m.\u001b[0m\u001b[0many\u001b[0m\u001b[0;34m(\u001b[0m\u001b[0;34m)\u001b[0m\u001b[0;34m:\u001b[0m\u001b[0;34m\u001b[0m\u001b[0;34m\u001b[0m\u001b[0m\n\u001b[0;32m--> 129\u001b[0;31m             \u001b[0mresult\u001b[0m\u001b[0;34m[\u001b[0m\u001b[0mmask\u001b[0m\u001b[0;34m]\u001b[0m \u001b[0;34m=\u001b[0m \u001b[0mop\u001b[0m\u001b[0;34m(\u001b[0m\u001b[0mxrav\u001b[0m\u001b[0;34m[\u001b[0m\u001b[0mmask\u001b[0m\u001b[0;34m]\u001b[0m\u001b[0;34m,\u001b[0m \u001b[0my\u001b[0m\u001b[0;34m)\u001b[0m\u001b[0;34m\u001b[0m\u001b[0;34m\u001b[0m\u001b[0m\n\u001b[0m\u001b[1;32m    130\u001b[0m \u001b[0;34m\u001b[0m\u001b[0m\n\u001b[1;32m    131\u001b[0m     \u001b[0mnp\u001b[0m\u001b[0;34m.\u001b[0m\u001b[0mputmask\u001b[0m\u001b[0;34m(\u001b[0m\u001b[0mresult\u001b[0m\u001b[0;34m,\u001b[0m \u001b[0;34m~\u001b[0m\u001b[0mmask\u001b[0m\u001b[0;34m,\u001b[0m \u001b[0mnp\u001b[0m\u001b[0;34m.\u001b[0m\u001b[0mnan\u001b[0m\u001b[0;34m)\u001b[0m\u001b[0;34m\u001b[0m\u001b[0;34m\u001b[0m\u001b[0m\n",
      "\u001b[0;31mTypeError\u001b[0m: unsupported operand type(s) for -: 'str' and 'str'"
     ]
    }
   ],
   "source": [
    "data_Paris_norm = normalisation(data_Paris)"
   ]
  },
  {
   "cell_type": "code",
   "execution_count": null,
   "metadata": {},
   "outputs": [],
   "source": []
  }
 ],
 "metadata": {
  "kernelspec": {
   "display_name": "Python 3 (ipykernel)",
   "language": "python",
   "name": "python3"
  },
  "language_info": {
   "codemirror_mode": {
    "name": "ipython",
    "version": 3
   },
   "file_extension": ".py",
   "mimetype": "text/x-python",
   "name": "python",
   "nbconvert_exporter": "python",
   "pygments_lexer": "ipython3",
   "version": "3.9.6"
  }
 },
 "nbformat": 4,
 "nbformat_minor": 1
}
