{
 "cells": [
  {
   "cell_type": "markdown",
   "metadata": {},
   "source": [
    "IA & Data science (LU3IN0226) -- 2022-2023\n",
    "--------\n",
    "*&copy; Equipe pédagogique: Christophe Marsala, Olivier Schwander, Jean-Noël Vittaut.*"
   ]
  },
  {
   "cell_type": "markdown",
   "metadata": {},
   "source": [
    "<font size=\"+1\" color=\"RED\"><b>[Q]</b></font> <font size=\"+1\"><b>Indiquer dans la boîte ci-dessous vos noms et prénoms :</b></font>"
   ]
  },
  {
   "cell_type": "markdown",
   "metadata": {},
   "source": [
    "*Double-cliquer ici et insérer les noms et prénoms de votre binôme*"
   ]
  },
  {
   "cell_type": "markdown",
   "metadata": {},
   "source": [
    "Ce projet peut être fait en binôme (et c'est fortement conseillé) ou tout seul.\n",
    "\n",
    "Le nom de chaque membre du binôme doit être indiqué, et un seul rendu sur un des deux comptes Moodle doit être fait.\n",
    "\n",
    "Les groupes de plus de 2 personnes ne sont pas autorisés."
   ]
  },
  {
   "cell_type": "markdown",
   "metadata": {},
   "source": [
    "<font color=\"RED\" size=\"+1\"><b>[Q]</b></font> **Renommer ce fichier ipython**\n",
    "\n",
    "Tout en haut de cette page, cliquer sur <tt>projet-2</tt> et rajouter à la suite de <tt>projet-2</tt> les noms des membres du binômes séparés par un tiret.\n",
    "\n",
    "<font color=\"RED\" size=\"+1\">IMPORTANT: soumission de votre fichier final</font>\n",
    "\n",
    "**Nom à donner au notebook** : *projet-2-Nom1_Nom2.ipynb* \n",
    "- *Nom1* et *Nom2* : noms des membres du binôme\n",
    "\n",
    "**Le compte-rendu doit être rendu sur la page Moodle.**"
   ]
  },
  {
   "cell_type": "markdown",
   "metadata": {},
   "source": [
    "# Projet 2 - avril-mai 2023\n",
    "\n",
    "\n",
    "<font size=\"+1\" color=\"RED\"><b>Date de rendu : lundi 22 mai 2023, avant 18h</b></font>\n",
    "    \n",
    "<b>Attention! le site Moodle ferme à 18h pile !</b> prévoyez de vous y connecter au moins 15mn avant la fermeture...\n",
    "\n",
    "Vous devez compléter ce notebook en rajoutant vos expérimentations avec vos algorithmes d'apprentissage sur les données fournies dans le répertoire `data`.\n",
    "\n",
    "## Travail à faire\n",
    "\n",
    "Appliquer les algorithmes d'apprentissage vus tout au long du semestre sur les données afin de mettre en évidence des résultats intéressants.\n",
    "Deux problèmes, au moins, doivent être traités:\n",
    "- un problème d'apprentissage supervisé\n",
    "- un problème d'apprentissage non supervisé\n",
    "\n",
    "\n",
    "## Travail à rendre\n",
    "Ce qui doit être remis avant la date limite : un fichier archive (`.tar`, `.tgz`, ou `.zip` uniquement) contenant:\n",
    "- ce notebook complété. Il doit pouvoir être exécuté sans autre apport (pensez à vous en assurer avant de le rendre). \n",
    "- votre librairie iads sous la forme d'une archive avec votre répertoire `iads/` contenant tous les fichiers nécessaires \n",
    "- un fichier PDF dont le nom est de la forme: *projet-1-Nom1_Nom2.pdf* qui correspond à un poster décrivant l'ensemble des expérimentations menées et les résultats obtenus.\n",
    "\n",
    "\n",
    "<b>IMPORTANT</b>: \n",
    "- Les fichiers de données ne doivent pas être inclus dans votre archive ! \n",
    "- Pensez à vérifier que votre archive contient bien tous les fichiers demandés et QUE les fichiers demandés.\n",
    "\n",
    "## Soutenance des projets\n",
    "La soutenance aura lieu le <font size=\"+1\" color=\"RED\">**mercredi 24 mai 2023**</font>, à partir de 14h. Un ordre de passage ainsi que la salle de TME où aura lieu les soutenances seront affichées sur le Moodle la veille.\n",
    "\n",
    "La <b>soutenance est obligatoire</b> : tout projet pour lequel une soutenance n'a pas eu lieu sera noté $0$.\n",
    "\n",
    "Modalités de la soutenance:\n",
    "- durée de la soutenance : 10 mn pour un binôme, 7 mn pour un monôme ;\n",
    "- elle a lieu devant un ordinateur avec le notebook et le poster comme support ;\n",
    "    - elle commence par une rapide présentation des expérimentations réalisées et résultats obtenus (max. 4 à 5mns)\n",
    "    - puis elle se poursuit par des questions posées individuellement aux membres du binômes sur les expériences ou le code python réalisé.\n",
    "- la note de soutenance est individuelle pour chaque membre d'un binôme.\n",
    "\n",
    "\n"
   ]
  },
  {
   "cell_type": "markdown",
   "metadata": {},
   "source": [
    "**Très important** : les fichiers de données doivent être placés de façon à respecter la structure de fichiers suivante :\n",
    "\n",
    "          --iads/\n",
    "              -- Classifiers.py\n",
    "              -- etc.\n",
    "          -- projet/\n",
    "              -- ce_notebook.ipynb\n",
    "              -- data/\n",
    "                  -- AGRIBALYSE3-ingredients.csv\n",
    "                  -- AGRIBALYSE3-etapes.csv\n",
    "                  -- AGRIBALYSE3-synthese.csv\n",
    "\n",
    "\n",
    "Dans le notebook que vous rendrez, le chargement des fichiers de données considèrera donc cette arborescence.\n"
   ]
  },
  {
   "cell_type": "markdown",
   "metadata": {},
   "source": [
    "# Les données Agribalyse (version 3.1)\n",
    "\n",
    "Les données sont issues des données publiques du site de l'ADEME: https://agribalyse.ademe.fr/\n",
    "Il est conseillé de parcourir la documentation de ces données sur le site ci-dessus pour se familiariser avec les différentes informations qu'elles fournissent.\n",
    "\n",
    "Pour ce projet, vous travaillerez sur les données sur les produits alimentaires dont la version originale est visible ici : https://doc.agribalyse.fr/documentation/acces-donnees\n",
    "\n",
    "Si vous n'arrivez pas à télécharger ou à ouvrir ce fichier, des versions de ce fichier au format libreoffice et au format Excel 97 sont fournies dans l'archive `data_tableur`. Il est conseillé de regarder un de ces fichiers car vous y trouverez des informations complémentaires sur les noms des colonnes des 3 fichiers CSV de `data` décrits ci-dessous.\n",
    "\n",
    "Pour vous aider à manipuler les données nous vous fournissons dans l'archive `data` : les 3 tables du fichiers sont fournies sous la forme de 3 fichiers CSV directement lisibles par la commande `read_csv` de Pandas (le séparateur de colonnes est le `';'`). Ce sont ces 3 fichiers à utiliser dans votre notebook. Un exemple de chargement est donné plus loin dans ce notebook. Les fichiers sont:\n",
    "- AGRIBALYSE3-ingredients.csv\n",
    "- AGRIBALYSE3-etapes.csv\n",
    "- AGRIBALYSE3-synthese.csv\n",
    "\n",
    "**Remarque**: les données Agribalyse de 2021 ont fait l'objet du projet de l'an dernier, cette année c'est une nouvelle version étendue de ces données qui sont utilisées pour ce projet, nous attendons donc des analyses qui tirent partie des nouveautés de cette nouvelle version."
   ]
  },
  {
   "cell_type": "markdown",
   "metadata": {},
   "source": [
    "## Exemples"
   ]
  },
  {
   "cell_type": "code",
   "execution_count": 103,
   "metadata": {},
   "outputs": [
    {
     "name": "stdout",
     "output_type": "stream",
     "text": [
      "The autoreload extension is already loaded. To reload it, use:\n",
      "  %reload_ext autoreload\n"
     ]
    }
   ],
   "source": [
    "# Importation des librairies standards:\n",
    "import numpy as np\n",
    "import copy\n",
    "import statistics\n",
    "import pandas as pd\n",
    "import matplotlib.pyplot as plt\n",
    "import time\n",
    "%matplotlib inline  \n",
    "\n",
    "# Importation de votre librairie iads:\n",
    "# La ligne suivante permet de préciser le chemin d'accès à la librairie iads\n",
    "import sys\n",
    "sys.path.append('../')   # iads doit être dans le répertoire frère du répertoire courant !\n",
    "\n",
    "# Importation de la librairie iads\n",
    "import iads as iads\n",
    "\n",
    "# importation de Classifiers\n",
    "from iads import Classifiers as cl\n",
    "\n",
    "# importation de utils\n",
    "from iads import utils as ut\n",
    "\n",
    "# importation de evaluation\n",
    "from iads import evaluation as ev\n",
    "\n",
    "# importation de Clustering\n",
    "from iads import Clustering as clust\n",
    "\n",
    "# commande TRES utile pour recharger automatiquement le code que vous modifiez dans les modules\n",
    "%load_ext autoreload\n",
    "%autoreload 2"
   ]
  },
  {
   "cell_type": "code",
   "execution_count": 2,
   "metadata": {},
   "outputs": [
    {
     "name": "stdout",
     "output_type": "stream",
     "text": [
      "Nombre de lignes:  2517\n",
      "Nombre de colonnes:  29\n"
     ]
    }
   ],
   "source": [
    "data_synthese = pd.read_csv(\"data/AGRIBALYSE3-synthese.csv\", sep=';') \n",
    "data_synthese.columns\n",
    "print(\"Nombre de lignes: \",len(data_synthese))\n",
    "print(\"Nombre de colonnes: \",len(data_synthese.columns))"
   ]
  },
  {
   "cell_type": "code",
   "execution_count": 3,
   "metadata": {},
   "outputs": [
    {
     "name": "stdout",
     "output_type": "stream",
     "text": [
      "col  0 :  Code AGB\n",
      "col  1 :  Code CIQUAL\n",
      "col  2 :  Groupe d'aliment\n",
      "col  3 :  Sous-groupe d'aliment\n",
      "col  4 :  Nom du Produit en Français\n",
      "col  5 :  LCI Name\n",
      "col  6 :  code saison\n",
      "col  7 :  code avion\n",
      "col  8 :  Livraison\n",
      "col  9 :  Matériau d'emballage\n",
      "col  10 :  Préparation\n",
      "col  11 :  DQR \tmoyenne =  2.7681644815256257\n",
      "col  12 :  Score unique EF 3.1 \tmoyenne =  0.6889596344854987\n",
      "col  13 :  Changement climatique \tmoyenne =  5.420519666269368\n",
      "col  14 :  Appauvrissement de la couche d'ozone \tmoyenne =  5.383361620977354e-07\n",
      "col  15 :  Rayonnements ionisants \tmoyenne =  1.016821692491061\n",
      "col  16 :  Formation photochimique d'ozone \tmoyenne =  0.021625918156535556\n",
      "col  17 :  Particules fines \tmoyenne =  5.735583075089393e-07\n",
      "col  18 :  Effets toxicologiques sur la santé humaine : substances non-cancérogènes \tmoyenne =  1.0743762415574097e-07\n",
      "col  19 :  Effets toxicologiques sur la santé humaine : substances cancérogènes \tmoyenne =  3.8854543504171635e-09\n",
      "col  20 :  Acidification terrestre et eaux douces \tmoyenne =  0.07895298053237983\n",
      "col  21 :  Eutrophisation eaux douces \tmoyenne =  0.0008419094557012317\n",
      "col  22 :  Eutrophisation marine \tmoyenne =  0.028193528009535167\n",
      "col  23 :  Eutrophisation terrestre \tmoyenne =  0.31052913388955106\n",
      "col  24 :  Écotoxicité pour écosystèmes aquatiques d'eau douce \tmoyenne =  54.213323798172425\n",
      "col  25 :  Utilisation du sol \tmoyenne =  328.598126340882\n",
      "col  26 :  Épuisement des ressources eau \tmoyenne =  5.726230393325387\n",
      "col  27 :  Épuisement des ressources énergétiques \tmoyenne =  49.79915772745332\n",
      "col  28 :  Épuisement des ressources minéraux \tmoyenne =  2.2019833929280892e-05\n"
     ]
    }
   ],
   "source": [
    "for i in range(0,len(data_synthese.columns)):\n",
    "    if i>10:\n",
    "        print(\"col \",i,\": \",data_synthese.columns[i], \"\\tmoyenne = \",data_synthese[data_synthese.columns[i]].mean())\n",
    "    else:\n",
    "        print(\"col \",i,\": \",data_synthese.columns[i])"
   ]
  },
  {
   "cell_type": "code",
   "execution_count": 4,
   "metadata": {},
   "outputs": [
    {
     "name": "stdout",
     "output_type": "stream",
     "text": [
      "Nombre de lignes:  2517\n",
      "Nombre de colonnes:  132\n"
     ]
    }
   ],
   "source": [
    "data_etapes = pd.read_csv(\"data/AGRIBALYSE3-etapes.csv\", sep=';') \n",
    "data_etapes.columns\n",
    "print(\"Nombre de lignes: \",len(data_etapes))\n",
    "print(\"Nombre de colonnes: \",len(data_etapes.columns))"
   ]
  },
  {
   "cell_type": "code",
   "execution_count": 5,
   "metadata": {
    "scrolled": false
   },
   "outputs": [
    {
     "name": "stdout",
     "output_type": "stream",
     "text": [
      "col  0 :  Code AGB\n",
      "col  1 :  Code CIQUAL\n",
      "col  2 :  Groupe d aliment\n",
      "col  3 :  Sous-groupe d aliment\n",
      "col  4 :  Nom du Produit en Français\n",
      "col  5 :  LCI Name\n",
      "col  6 :  DQR\n",
      "col  7 :  Nom et code\n",
      "col  8 :  Agriculture\n",
      "col  9 :  Transformation\n",
      "col  10 :  Emballage\n",
      "col  11 :  Transport\n",
      "col  12 :  Supermarché et distribution\n",
      "col  13 :  Consommation\n",
      "col  14 :  Total\n",
      "col  15 :  Agriculture.1\n",
      "col  16 :  Transformation.1\n",
      "col  17 :  Emballage.1\n",
      "col  18 :  Transport.1\n",
      "col  19 :  Supermarché et distribution.1\n",
      "col  20 :  Consommation.1\n",
      "col  21 :  Total.1\n",
      "col  22 :  Agriculture.2\n",
      "col  23 :  Transformation.2\n",
      "col  24 :  Emballage.2\n",
      "col  25 :  Transport.2\n",
      "col  26 :  Supermarché et distribution.2\n",
      "col  27 :  Consommation.2\n",
      "col  28 :  Total.2\n",
      "col  29 :  Agriculture.3\n",
      "col  30 :  Transformation.3\n",
      "col  31 :  Emballage.3\n",
      "col  32 :  Transport.3\n",
      "col  33 :  Supermarché et distribution.3\n",
      "col  34 :  Consommation.3\n",
      "col  35 :  Total.3\n",
      "col  36 :  Agriculture.4\n",
      "col  37 :  Transformation.4\n",
      "col  38 :  Emballage.4\n",
      "col  39 :  Transport.4\n",
      "col  40 :  Supermarché et distribution.4\n",
      "col  41 :  Consommation.4\n",
      "col  42 :  Total.4\n",
      "col  43 :  Agriculture.5\n",
      "col  44 :  Transformation.5\n",
      "col  45 :  Emballage.5\n",
      "col  46 :  Transport.5\n",
      "col  47 :  Supermarché et distribution.5\n",
      "col  48 :  Consommation.5\n",
      "col  49 :  Total.5\n",
      "col  50 :  Agriculture.6\n",
      "col  51 :  Transformation.6\n",
      "col  52 :  Emballage.6\n",
      "col  53 :  Transport.6\n",
      "col  54 :  Supermarché et distribution.6\n",
      "col  55 :  Consommation.6\n",
      "col  56 :  Total.6\n",
      "col  57 :  Agriculture.7\n",
      "col  58 :  Transformation.7\n",
      "col  59 :  Emballage.7\n",
      "col  60 :  Transport.7\n",
      "col  61 :  Supermarché et distribution.7\n",
      "col  62 :  Consommation.7\n",
      "col  63 :  Total.7\n",
      "col  64 :  Agriculture.8\n",
      "col  65 :  Transformation.8\n",
      "col  66 :  Emballage.8\n",
      "col  67 :  Transport.8\n",
      "col  68 :  Supermarché et distribution.8\n",
      "col  69 :  Consommation.8\n",
      "col  70 :  Total.8\n",
      "col  71 :  Agriculture.9\n",
      "col  72 :  Transformation.9\n",
      "col  73 :  Emballage.9\n",
      "col  74 :  Transport.9\n",
      "col  75 :  Supermarché et distribution.9\n",
      "col  76 :  Consommation.9\n",
      "col  77 :  Total.9\n",
      "col  78 :  Agriculture.10\n",
      "col  79 :  Transformation.10\n",
      "col  80 :  Emballage.10\n",
      "col  81 :  Transport.10\n",
      "col  82 :  Supermarché et distribution.10\n",
      "col  83 :  Consommation.10\n",
      "col  84 :  Total.10\n",
      "col  85 :  Agriculture.11\n",
      "col  86 :  Transformation.11\n",
      "col  87 :  Emballage.11\n",
      "col  88 :  Transport.11\n",
      "col  89 :  Supermarché et distribution.11\n",
      "col  90 :  Consommation.11\n",
      "col  91 :  Total.11\n",
      "col  92 :  Agriculture.12\n",
      "col  93 :  Transformation.12\n",
      "col  94 :  Emballage.12\n",
      "col  95 :  Transport.12\n",
      "col  96 :  Supermarché et distribution.12\n",
      "col  97 :  Consommation.12\n",
      "col  98 :  Total.12\n",
      "col  99 :  Agriculture.13\n",
      "col  100 :  Transformation.13\n",
      "col  101 :  Emballage.13\n",
      "col  102 :  Transport.13\n",
      "col  103 :  Supermarché et distribution.13\n",
      "col  104 :  Consommation.13\n",
      "col  105 :  Total.13\n",
      "col  106 :  Agriculture.14\n",
      "col  107 :  Transformation.14\n",
      "col  108 :  Emballage.14\n",
      "col  109 :  Transport.14\n",
      "col  110 :  Supermarché et distribution.14\n",
      "col  111 :  Consommation.14\n",
      "col  112 :  Total.14\n",
      "col  113 :  Agriculture.15\n",
      "col  114 :  Transformation.15\n",
      "col  115 :  Emballage.15\n",
      "col  116 :  Transport.15\n",
      "col  117 :  Supermarché et distribution.15\n",
      "col  118 :  Consommation.15\n",
      "col  119 :  Total.15\n",
      "col  120 :  Agriculture.16\n",
      "col  121 :  Transformation.16\n",
      "col  122 :  Emballage.16\n",
      "col  123 :  Transport.16\n",
      "col  124 :  Supermarché et distribution.16\n",
      "col  125 :  Consommation.16\n",
      "col  126 :  Total.16\n",
      "col  127 :  DQR Overall\n",
      "col  128 :  P\n",
      "col  129 :  TiR\n",
      "col  130 :  GR\n",
      "col  131 :  TeR\n"
     ]
    }
   ],
   "source": [
    "for i in range(0,len(data_etapes.columns)):\n",
    "    print(\"col \",i,\": \",data_etapes.columns[i])"
   ]
  },
  {
   "cell_type": "code",
   "execution_count": 6,
   "metadata": {
    "scrolled": false
   },
   "outputs": [
    {
     "name": "stdout",
     "output_type": "stream",
     "text": [
      "Quelques infos :\n",
      "----\n",
      "Agriculture \tmoyenne =  0.5684966870458402\n",
      "Transformation \tmoyenne =  0.056136918226633296\n",
      "Emballage \tmoyenne =  0.02242675546471593\n",
      "Transport \tmoyenne =  0.026165883152808902\n",
      "Supermarché et distribution \tmoyenne =  0.007877125406877234\n",
      "Consommation \tmoyenne =  0.007633790367775129\n",
      "Total \tmoyenne =  0.6887371596646508\n",
      "----\n",
      "Agriculture.1 \tmoyenne =  4.2834051017208985\n",
      "Transformation.1 \tmoyenne =  0.49566790046860953\n",
      "Emballage.1 \tmoyenne =  0.2551146021668653\n",
      "Transport.1 \tmoyenne =  0.31395988182510925\n",
      "Supermarché et distribution.1 \tmoyenne =  0.03147132845606277\n",
      "Consommation.1 \tmoyenne =  0.042848097985971396\n",
      "Total.1 \tmoyenne =  5.422466912623516\n",
      "----\n",
      "Agriculture.2 \tmoyenne =  3.3849700977868895e-07\n",
      "Transformation.2 \tmoyenne =  3.346837165345689e-08\n",
      "Emballage.2 \tmoyenne =  8.733627654263806e-08\n",
      "Transport.2 \tmoyenne =  7.395954808027414e-08\n",
      "Supermarché et distribution.2 \tmoyenne =  2.4693114096368693e-09\n",
      "Consommation.2 \tmoyenne =  2.6369538328196267e-09\n",
      "Total.2 \tmoyenne =  5.38367471297594e-07\n",
      "----\n",
      "Agriculture.3 \tmoyenne =  0.22347594415358202\n",
      "Transformation.3 \tmoyenne =  0.5096895828840635\n",
      "Emballage.3 \tmoyenne =  0.026443116230250297\n",
      "Transport.3 \tmoyenne =  0.020708397043810094\n",
      "Supermarché et distribution.3 \tmoyenne =  0.12428980926908742\n",
      "Consommation.3 \tmoyenne =  0.11212322565223579\n",
      "Total.3 \tmoyenne =  1.016730075233029\n",
      "----\n",
      "Agriculture.4 \tmoyenne =  0.018124962240729993\n",
      "Transformation.4 \tmoyenne =  0.0011453623181971711\n",
      "Emballage.4 \tmoyenne =  0.0007314176762902265\n",
      "Transport.4 \tmoyenne =  0.0014836005704080254\n",
      "Supermarché et distribution.4 \tmoyenne =  6.676431156404052e-05\n",
      "Consommation.4 \tmoyenne =  7.666149406531981e-05\n",
      "Total.4 \tmoyenne =  0.02162876861125478\n",
      "----\n",
      "Agriculture.5 \tmoyenne =  0.000521405112709536\n",
      "Transformation.5 \tmoyenne =  1.912008494381248e-05\n",
      "Emballage.5 \tmoyenne =  1.1335613299139849e-05\n",
      "Transport.5 \tmoyenne =  1.9328471702804928e-05\n",
      "Supermarché et distribution.5 \tmoyenne =  1.3286906450673422e-06\n",
      "Consommation.5 \tmoyenne =  1.2579847468561782e-06\n",
      "Total.5 \tmoyenne =  0.0005737759580472168\n",
      "----\n",
      "Agriculture.6 \tmoyenne =  9.718748033812476e-05\n",
      "Transformation.6 \tmoyenne =  4.748341800434684e-06\n",
      "Emballage.6 \tmoyenne =  1.5496776170369488e-06\n",
      "Transport.6 \tmoyenne =  2.6674671603893524e-06\n",
      "Supermarché et distribution.6 \tmoyenne =  6.102224520907033e-07\n",
      "Consommation.6 \tmoyenne =  6.866494222022248e-07\n",
      "Total.6 \tmoyenne =  0.00010744983879027864\n",
      "----\n",
      "Agriculture.7 \tmoyenne =  0.0003271399459962495\n",
      "Transformation.7 \tmoyenne =  2.7288002301783866e-05\n",
      "Emballage.7 \tmoyenne =  1.6013641315341676e-05\n",
      "Transport.7 \tmoyenne =  1.2757204312951928e-05\n",
      "Supermarché et distribution.7 \tmoyenne =  2.612588474352404e-06\n",
      "Consommation.7 \tmoyenne =  2.654884403709575e-06\n",
      "Total.7 \tmoyenne =  0.00038846626680438893\n",
      "----\n",
      "Agriculture.8 \tmoyenne =  0.07411992747055454\n",
      "Transformation.8 \tmoyenne =  0.001929420653405244\n",
      "Emballage.8 \tmoyenne =  0.0009938508669833136\n",
      "Transport.8 \tmoyenne =  0.0016654054182892331\n",
      "Supermarché et distribution.8 \tmoyenne =  0.0001337620897774732\n",
      "Consommation.8 \tmoyenne =  0.00012646567892165276\n",
      "Total.8 \tmoyenne =  0.07896883217793148\n",
      "----\n",
      "Agriculture.9 \tmoyenne =  0.0006482900240314145\n",
      "Transformation.9 \tmoyenne =  9.650625283613507e-05\n",
      "Emballage.9 \tmoyenne =  4.770915136690505e-05\n",
      "Transport.9 \tmoyenne =  2.1808963516626936e-05\n",
      "Supermarché et distribution.9 \tmoyenne =  7.89633153203377e-06\n",
      "Consommation.9 \tmoyenne =  9.623633183190307e-06\n",
      "Total.9 \tmoyenne =  0.0008318343564663055\n",
      "----\n",
      "Agriculture.10 \tmoyenne =  0.02606458948192888\n",
      "Transformation.10 \tmoyenne =  0.0013067283733852206\n",
      "Emballage.10 \tmoyenne =  0.00021445496123043305\n",
      "Transport.10 \tmoyenne =  0.0004683217044035757\n",
      "Supermarché et distribution.10 \tmoyenne =  2.9835140009026618e-05\n",
      "Consommation.10 \tmoyenne =  4.7425795057620184e-05\n",
      "Total.10 \tmoyenne =  0.028131355456014757\n",
      "----\n",
      "Agriculture.11 \tmoyenne =  0.29734929464111165\n",
      "Transformation.11 \tmoyenne =  0.005652233602072864\n",
      "Emballage.11 \tmoyenne =  0.0019908671240210568\n",
      "Transport.11 \tmoyenne =  0.005119353187081843\n",
      "Supermarché et distribution.11 \tmoyenne =  0.0002525249092678188\n",
      "Consommation.11 \tmoyenne =  0.00024866463985077474\n",
      "Total.11 \tmoyenne =  0.310612938103406\n",
      "----\n",
      "Agriculture.12 \tmoyenne =  48.988839142870084\n",
      "Transformation.12 \tmoyenne =  2.5497224944965\n",
      "Emballage.12 \tmoyenne =  0.7692215217318236\n",
      "Transport.12 \tmoyenne =  1.5533179060325786\n",
      "Supermarché et distribution.12 \tmoyenne =  0.13806092456130314\n",
      "Consommation.12 \tmoyenne =  0.18844663102526818\n",
      "Total.12 \tmoyenne =  54.187608620717555\n",
      "----\n",
      "Agriculture.13 \tmoyenne =  310.9915033641982\n",
      "Transformation.13 \tmoyenne =  13.675075234293013\n",
      "Emballage.13 \tmoyenne =  1.3458717057608263\n",
      "Transport.13 \tmoyenne =  2.2850328640659514\n",
      "Supermarché et distribution.13 \tmoyenne =  0.1424060331910608\n",
      "Consommation.13 \tmoyenne =  0.13453906984119982\n",
      "Total.13 \tmoyenne =  328.57442827135026\n",
      "----\n",
      "Agriculture.14 \tmoyenne =  5.38537441847862\n",
      "Transformation.14 \tmoyenne =  0.14930567352159593\n",
      "Emballage.14 \tmoyenne =  0.1369397340264998\n",
      "Transport.14 \tmoyenne =  0.013780953101468018\n",
      "Supermarché et distribution.14 \tmoyenne =  0.027973004035097334\n",
      "Consommation.14 \tmoyenne =  0.01083712614700143\n",
      "Total.14 \tmoyenne =  5.7242109093102815\n",
      "----\n",
      "Agriculture.15 \tmoyenne =  21.537600423417558\n",
      "Transformation.15 \tmoyenne =  14.029094337067582\n",
      "Emballage.15 \tmoyenne =  4.567783046302344\n",
      "Transport.15 \tmoyenne =  4.288577241244735\n",
      "Supermarché et distribution.15 \tmoyenne =  2.7700836827310287\n",
      "Consommation.15 \tmoyenne =  2.5497975612275727\n",
      "Total.15 \tmoyenne =  49.74293629199082\n",
      "----\n",
      "Agriculture.16 \tmoyenne =  0.015244014435140167\n",
      "Transformation.16 \tmoyenne =  0.002301493984470651\n",
      "Emballage.16 \tmoyenne =  0.0016628438444557013\n",
      "Transport.16 \tmoyenne =  0.0012823188364461662\n",
      "Supermarché et distribution.16 \tmoyenne =  0.0007804375020440605\n",
      "Consommation.16 \tmoyenne =  0.0007088726532150302\n",
      "Total.16 \tmoyenne =  0.021979981255771774\n"
     ]
    }
   ],
   "source": [
    "print(\"Quelques infos :\")\n",
    "for i in range(0,17):\n",
    "    print(\"----\")\n",
    "    for col in ['Agriculture', 'Transformation', 'Emballage', 'Transport', 'Supermarché et distribution', \\\n",
    "                'Consommation', 'Total']:\n",
    "        if i>0:\n",
    "            nom_col = col + \".\" +str(i)\n",
    "        else:\n",
    "            nom_col = col\n",
    "        print(nom_col,\"\\tmoyenne = \",data_etapes[nom_col].mean())"
   ]
  },
  {
   "cell_type": "code",
   "execution_count": 7,
   "metadata": {},
   "outputs": [
    {
     "name": "stdout",
     "output_type": "stream",
     "text": [
      "Nombre de lignes:  6856\n",
      "Nombre de colonnes:  27\n"
     ]
    }
   ],
   "source": [
    "data_ingredients = pd.read_csv(\"data/AGRIBALYSE3-ingredients.csv\",sep=\";\")\n",
    "data_ingredients.columns\n",
    "print(\"Nombre de lignes: \",len(data_ingredients))\n",
    "print(\"Nombre de colonnes: \",len(data_ingredients.columns))"
   ]
  },
  {
   "cell_type": "code",
   "execution_count": 8,
   "metadata": {},
   "outputs": [
    {
     "name": "stdout",
     "output_type": "stream",
     "text": [
      "0 :  Ciqual AGB\n",
      "1 :  Ciqual code\n",
      "2 :  Groupe d'aliment\n",
      "3 :  Sous-groupe d'aliment\n",
      "4 :  Nom Français\n",
      "5 :  LCI Name\n",
      "6 :  Ingredients\n",
      "7 :  Code et Nom\n",
      "8 :  Groupe\n",
      "9 :  Sous-groupe\n",
      "10 :  Formation photochimique d'ozone \tmoyennne =  0.14901077587806652\n",
      "11 :  Particules fines \tmoyennne =  1.1694919040652128\n",
      "12 :  Effets toxicologiques sur la santé humaine : substances non-cancérogènes \tmoyennne =  9.663670448533454e-08\n",
      "13 :  Effets toxicologiques sur la santé humaine : substances cancérogènes \tmoyennne =  0.32177220746506685\n",
      "14 :  Acidification terrestre et eaux douces \tmoyennne =  0.0038680513541169783\n",
      "15 :  Eutrophisation eaux douces \tmoyennne =  1.1525166083035649e-07\n",
      "16 :  Eutrophisation marine \tmoyennne =  2.5530761424091264e-08\n",
      "17 :  Eutrophisation terrestre \tmoyennne =  9.025745752722688e-10\n",
      "18 :  Écotoxicité pour écosystèmes aquatiques d'eau douce \tmoyennne =  0.01583401820414365\n",
      "19 :  Utilisation du sol \tmoyennne =  0.00017051056352429376\n",
      "20 :  Épuisement des ressources eau \tmoyennne =  0.005420029504769152\n",
      "21 :  Épuisement des ressources énergétiques \tmoyennne =  0.06377478486649878\n",
      "22 :  Épuisement des ressources minéraux \tmoyennne =  13.456044581692224\n",
      "23 :  Pt/kg de produit \tmoyennne =  70.52662867740445\n",
      "24 :  m3 depriv./kg de produit \tmoyennne =  1.3622131901908805\n",
      "25 :  MJ/kg de produit \tmoyennne =  12.915748203498433\n",
      "26 :  kg Sb eq/kg de produit \tmoyennne =  4.652159787008745e-06\n"
     ]
    }
   ],
   "source": [
    "for i in range(0,len(data_ingredients.columns)):\n",
    "    if i<10:\n",
    "        print(i,\": \", data_ingredients.columns[i])\n",
    "    else:\n",
    "        print(i,\": \", data_ingredients.columns[i], \\\n",
    "              \"\\tmoyennne = \", data_ingredients[data_ingredients.columns[i]].mean())"
   ]
  },
  {
   "cell_type": "markdown",
   "metadata": {},
   "source": [
    "# Sommaire"
   ]
  },
  {
   "cell_type": "markdown",
   "metadata": {},
   "source": [
    "## Idées problématiques\n",
    "\n",
    "- prédire si un aliment est un fromage  \n",
    "\n",
    "- prédire sa catégorie en fonction de son impact environnemental\n",
    "\n",
    "**KNN et Perceptron**\n",
    "1. dataset avec pour label -1 des aliments non fromage (exemple) et 1 fromage \n",
    "2. entrainement des données\n",
    "3. test \n",
    "\n",
    "=> test des differents k pour knn et (si pas la flemme test de w et epsilon)\n",
    "\n",
    "**Clustering hierarchique et K-Moyenne**\n",
    "\n",
    "### Etapes \n",
    "supervisé : KNN, Perceptron et Arbre\n",
    "non supervisé : clustering, kmoyenne"
   ]
  },
  {
   "cell_type": "markdown",
   "metadata": {},
   "source": [
    "### Extraction des données pour la prédiction fromage"
   ]
  },
  {
   "cell_type": "code",
   "execution_count": 9,
   "metadata": {},
   "outputs": [
    {
     "name": "stdout",
     "output_type": "stream",
     "text": [
      "Index(['Code AGB', 'Code CIQUAL', 'Groupe d'aliment', 'Sous-groupe d'aliment',\n",
      "       'Nom du Produit en Français', 'LCI Name', 'code saison', 'code avion',\n",
      "       'Livraison', 'Matériau d'emballage', 'Préparation', 'DQR',\n",
      "       'Score unique EF 3.1', 'Changement climatique',\n",
      "       'Appauvrissement de la couche d'ozone', 'Rayonnements ionisants',\n",
      "       'Formation photochimique d'ozone', 'Particules fines',\n",
      "       'Effets toxicologiques sur la santé humaine : substances non-cancérogènes',\n",
      "       'Effets toxicologiques sur la santé humaine : substances cancérogènes',\n",
      "       'Acidification terrestre et eaux douces', 'Eutrophisation eaux douces',\n",
      "       'Eutrophisation marine', 'Eutrophisation terrestre',\n",
      "       'Écotoxicité pour écosystèmes aquatiques d'eau douce',\n",
      "       'Utilisation du sol', 'Épuisement des ressources eau',\n",
      "       'Épuisement des ressources énergétiques',\n",
      "       'Épuisement des ressources minéraux'],\n",
      "      dtype='object')\n"
     ]
    }
   ],
   "source": [
    "data_synthese = pd.read_csv(\"data/AGRIBALYSE3-synthese.csv\", sep=';')\n",
    "print(str(data_synthese.columns))\n",
    "data_synthese.drop(['Code AGB', 'Code CIQUAL', 'Nom du Produit en Français', 'LCI Name', 'code saison', 'code avion',\n",
    "       'Livraison', 'Matériau d\\'emballage'], axis=1, inplace = True)\n",
    "\n",
    "#print(\"\\n\" + str(data_synthese.columns))\n",
    "#data_synthese = data_synthese.to_numpy()\n",
    "#print(str(type(data_synthese)))\n",
    "#print(data_synthese[:10])"
   ]
  },
  {
   "cell_type": "code",
   "execution_count": 10,
   "metadata": {},
   "outputs": [
    {
     "name": "stdout",
     "output_type": "stream",
     "text": [
      "(121, 18)\n",
      "(121,)\n",
      "       DQR  Score unique EF 3.1  Changement climatique  \\\n",
      "1164  2.24                0.591                   6.19   \n",
      "1165  2.24                0.570                   5.96   \n",
      "1166  2.24                0.571                   5.97   \n",
      "1167  2.24                0.529                   5.56   \n",
      "1171  2.24                0.487                   5.11   \n",
      "...    ...                  ...                    ...   \n",
      "1363  2.28                0.547                   5.76   \n",
      "1364  2.28                0.540                   5.68   \n",
      "1365  1.85                0.544                   5.72   \n",
      "1366  2.28                0.540                   5.68   \n",
      "1367  2.45                0.982                   6.65   \n",
      "\n",
      "      Appauvrissement de la couche d'ozone  Rayonnements ionisants  \\\n",
      "1164                          2.410000e-07                   0.669   \n",
      "1165                          2.390000e-07                   0.677   \n",
      "1166                          2.400000e-07                   0.676   \n",
      "1167                          2.100000e-07                   0.566   \n",
      "1171                          2.050000e-07                   0.568   \n",
      "...                                    ...                     ...   \n",
      "1363                          2.130000e-07                   0.565   \n",
      "1364                          2.120000e-07                   0.566   \n",
      "1365                          2.120000e-07                   0.565   \n",
      "1366                          2.120000e-07                   0.566   \n",
      "1367                          3.010000e-07                   0.879   \n",
      "\n",
      "      Formation photochimique d'ozone  Particules fines  \\\n",
      "1164                          0.01080      4.590000e-07   \n",
      "1165                          0.01050      4.430000e-07   \n",
      "1166                          0.01050      4.430000e-07   \n",
      "1167                          0.00961      3.960000e-07   \n",
      "1171                          0.00892      3.610000e-07   \n",
      "...                               ...               ...   \n",
      "1363                          0.00991      4.110000e-07   \n",
      "1364                          0.00980      4.060000e-07   \n",
      "1365                          0.00986      4.090000e-07   \n",
      "1366                          0.00980      4.060000e-07   \n",
      "1367                          0.01420      1.160000e-06   \n",
      "\n",
      "      Effets toxicologiques sur la santé humaine : substances non-cancérogènes  \\\n",
      "1164                                       1.330000e-07                          \n",
      "1165                                       1.280000e-07                          \n",
      "1166                                       1.280000e-07                          \n",
      "1167                                       1.220000e-07                          \n",
      "1171                                       1.100000e-07                          \n",
      "...                                                 ...                          \n",
      "1363                                       1.270000e-07                          \n",
      "1364                                       1.250000e-07                          \n",
      "1365                                       1.260000e-07                          \n",
      "1366                                       1.250000e-07                          \n",
      "1367                                       9.730000e-08                          \n",
      "\n",
      "      Effets toxicologiques sur la santé humaine : substances cancérogènes  \\\n",
      "1164                                       3.790000e-09                      \n",
      "1165                                       3.640000e-09                      \n",
      "1166                                       3.640000e-09                      \n",
      "1167                                       3.400000e-09                      \n",
      "1171                                       3.110000e-09                      \n",
      "...                                                 ...                      \n",
      "1363                                       3.540000e-09                      \n",
      "1364                                       3.490000e-09                      \n",
      "1365                                       3.510000e-09                      \n",
      "1366                                       3.490000e-09                      \n",
      "1367                                       3.420000e-09                      \n",
      "\n",
      "      Acidification terrestre et eaux douces  Eutrophisation eaux douces  \\\n",
      "1164                                  0.0632                    0.000848   \n",
      "1165                                  0.0604                    0.000832   \n",
      "1166                                  0.0605                    0.000833   \n",
      "1167                                  0.0572                    0.000766   \n",
      "1171                                  0.0519                    0.000732   \n",
      "...                                      ...                         ...   \n",
      "1363                                  0.0595                    0.000781   \n",
      "1364                                  0.0586                    0.000776   \n",
      "1365                                  0.0591                    0.000779   \n",
      "1366                                  0.0586                    0.000776   \n",
      "1367                                  0.1630                    0.000906   \n",
      "\n",
      "      Eutrophisation marine  Eutrophisation terrestre  \\\n",
      "1164                 0.0210                     0.268   \n",
      "1165                 0.0201                     0.256   \n",
      "1166                 0.0202                     0.256   \n",
      "1167                 0.0189                     0.243   \n",
      "1171                 0.0173                     0.220   \n",
      "...                     ...                       ...   \n",
      "1363                 0.0196                     0.253   \n",
      "1364                 0.0194                     0.249   \n",
      "1365                 0.0195                     0.251   \n",
      "1366                 0.0194                     0.249   \n",
      "1367                 0.0312                     0.706   \n",
      "\n",
      "      Écotoxicité pour écosystèmes aquatiques d'eau douce  Utilisation du sol  \\\n",
      "1164                                               63.2                 333.0   \n",
      "1165                                               60.4                 318.0   \n",
      "1166                                               60.5                 318.0   \n",
      "1167                                               57.5                 301.0   \n",
      "1171                                               52.1                 271.0   \n",
      "...                                                 ...                   ...   \n",
      "1363                                               59.9                 314.0   \n",
      "1364                                               59.0                 309.0   \n",
      "1365                                               59.4                 312.0   \n",
      "1366                                               59.0                 309.0   \n",
      "1367                                               54.6                 483.0   \n",
      "\n",
      "      Épuisement des ressources eau  Épuisement des ressources énergétiques  \\\n",
      "1164                           2.15                                    33.3   \n",
      "1165                           2.08                                    33.4   \n",
      "1166                           2.08                                    33.4   \n",
      "1167                           2.02                                    28.5   \n",
      "1171                           1.89                                    28.2   \n",
      "...                             ...                                     ...   \n",
      "1363                           2.08                                    28.7   \n",
      "1364                           2.06                                    28.6   \n",
      "1365                           2.07                                    28.6   \n",
      "1366                           2.06                                    28.6   \n",
      "1367                           5.85                                    44.2   \n",
      "\n",
      "      Épuisement des ressources minéraux  \n",
      "1164                            0.000016  \n",
      "1165                            0.000016  \n",
      "1166                            0.000016  \n",
      "1167                            0.000015  \n",
      "1171                            0.000014  \n",
      "...                                  ...  \n",
      "1363                            0.000015  \n",
      "1364                            0.000015  \n",
      "1365                            0.000015  \n",
      "1366                            0.000015  \n",
      "1367                            0.000016  \n",
      "\n",
      "[121 rows x 18 columns]\n"
     ]
    }
   ],
   "source": [
    "data_fromage = copy.deepcopy(data_synthese[data_synthese['Sous-groupe d\\'aliment'] == 'fromages'])\n",
    "data_fromage.drop(['Groupe d\\'aliment', 'Sous-groupe d\\'aliment', 'Préparation'], axis=1, inplace = True)\n",
    "Xnoms = data_fromage.columns\n",
    "data_fromage.to_numpy()\n",
    "label_fromage = np.asarray([1 for i in range(len(data_fromage))])\n",
    "print(data_fromage.shape)\n",
    "print(label_fromage.shape)\n",
    "print(str(data_fromage))"
   ]
  },
  {
   "cell_type": "code",
   "execution_count": 11,
   "metadata": {},
   "outputs": [
    {
     "name": "stdout",
     "output_type": "stream",
     "text": [
      "(2396, 18)\n",
      "(2396,)\n",
      "       DQR  Score unique EF 3.1  Changement climatique  \\\n",
      "0     2.99               1.2300                  6.770   \n",
      "1     4.11               0.1030                  0.749   \n",
      "2     3.54               0.0638                  0.356   \n",
      "3     3.75               0.1320                  0.815   \n",
      "4     2.99               1.2300                  6.770   \n",
      "...    ...                  ...                    ...   \n",
      "2512  2.47               2.1800                 22.400   \n",
      "2513  2.45               2.2600                 23.600   \n",
      "2514  3.68               0.8160                  4.250   \n",
      "2515  3.56               1.0300                  5.160   \n",
      "2516  2.79               0.8610                  6.040   \n",
      "\n",
      "      Appauvrissement de la couche d'ozone  Rayonnements ionisants  \\\n",
      "0                             1.020000e-06                  11.100   \n",
      "1                             1.230000e-07                   0.171   \n",
      "2                             5.450000e-08                   0.143   \n",
      "3                             6.270000e-08                   0.141   \n",
      "4                             1.020000e-06                  11.100   \n",
      "...                                    ...                     ...   \n",
      "2512                          7.120000e-07                   1.870   \n",
      "2513                          7.740000e-07                   1.680   \n",
      "2514                          7.760000e-07                   0.425   \n",
      "2515                          9.570000e-07                   1.120   \n",
      "2516                          7.350000e-07                   3.140   \n",
      "\n",
      "      Formation photochimique d'ozone  Particules fines  \\\n",
      "0                             0.03890      7.170000e-07   \n",
      "1                             0.00293      8.250000e-08   \n",
      "2                             0.00107      2.330000e-08   \n",
      "3                             0.00256      6.900000e-08   \n",
      "4                             0.03890      7.170000e-07   \n",
      "...                               ...               ...   \n",
      "2512                          0.04180      1.520000e-06   \n",
      "2513                          0.04380      1.570000e-06   \n",
      "2514                          0.06480      7.260000e-07   \n",
      "2515                          0.07900      8.870000e-07   \n",
      "2516                          0.01350      7.380000e-07   \n",
      "\n",
      "      Effets toxicologiques sur la santé humaine : substances non-cancérogènes  \\\n",
      "0                                          7.440000e-08                          \n",
      "1                                          1.170000e-08                          \n",
      "2                                          7.450000e-09                          \n",
      "3                                          1.200000e-08                          \n",
      "4                                          7.440000e-08                          \n",
      "...                                                 ...                          \n",
      "2512                                       4.350000e-07                          \n",
      "2513                                       4.500000e-07                          \n",
      "2514                                       9.080000e-08                          \n",
      "2515                                       1.140000e-07                          \n",
      "2516                                       8.580000e-08                          \n",
      "\n",
      "      Effets toxicologiques sur la santé humaine : substances cancérogènes  \\\n",
      "0                                          6.480000e-09                      \n",
      "1                                          4.660000e-10                      \n",
      "2                                          2.980000e-10                      \n",
      "3                                          6.190000e-10                      \n",
      "4                                          6.480000e-09                      \n",
      "...                                                 ...                      \n",
      "2512                                       1.080000e-08                      \n",
      "2513                                       1.120000e-08                      \n",
      "2514                                       4.020000e-09                      \n",
      "2515                                       5.000000e-09                      \n",
      "2516                                       4.910000e-09                      \n",
      "\n",
      "      Acidification terrestre et eaux douces  Eutrophisation eaux douces  \\\n",
      "0                                    0.09970                    0.001870   \n",
      "1                                    0.00622                    0.000124   \n",
      "2                                    0.00200                    0.000068   \n",
      "3                                    0.00811                    0.000203   \n",
      "4                                    0.09970                    0.001870   \n",
      "...                                      ...                         ...   \n",
      "2512                                 0.22500                    0.002210   \n",
      "2513                                 0.23200                    0.002300   \n",
      "2514                                 0.09540                    0.000677   \n",
      "2515                                 0.11700                    0.000867   \n",
      "2516                                 0.10300                    0.000987   \n",
      "\n",
      "      Eutrophisation marine  Eutrophisation terrestre  \\\n",
      "0                   0.01330                   0.12700   \n",
      "1                   0.00232                   0.01270   \n",
      "2                   0.00212                   0.00628   \n",
      "3                   0.00405                   0.03120   \n",
      "4                   0.01330                   0.12700   \n",
      "...                     ...                       ...   \n",
      "2512                0.15600                   0.96000   \n",
      "2513                0.16000                   0.99000   \n",
      "2514                0.02250                   0.24400   \n",
      "2515                0.02750                   0.29900   \n",
      "2516                0.02660                   0.43700   \n",
      "\n",
      "      Écotoxicité pour écosystèmes aquatiques d'eau douce  Utilisation du sol  \\\n",
      "0                                                 44.60                  26.5   \n",
      "1                                                  5.83                  20.2   \n",
      "2                                                  4.09                  18.5   \n",
      "3                                                  5.68                  36.4   \n",
      "4                                                 44.60                  26.5   \n",
      "...                                                 ...                   ...   \n",
      "2512                                             193.00                1520.0   \n",
      "2513                                             200.00                1570.0   \n",
      "2514                                              24.10                  14.7   \n",
      "2515                                              29.30                  18.7   \n",
      "2516                                              86.10                 342.0   \n",
      "\n",
      "      Épuisement des ressources eau  Épuisement des ressources énergétiques  \\\n",
      "0                             3.100                                  315.00   \n",
      "1                             2.520                                   12.70   \n",
      "2                             3.020                                    6.23   \n",
      "3                             5.290                                   12.60   \n",
      "4                             3.100                                  315.00   \n",
      "...                             ...                                     ...   \n",
      "2512                          6.280                                  111.00   \n",
      "2513                          6.520                                  116.00   \n",
      "2514                          0.559                                   60.60   \n",
      "2515                          0.643                                   86.30   \n",
      "2516                          4.030                                   96.40   \n",
      "\n",
      "      Épuisement des ressources minéraux  \n",
      "0                               0.000088  \n",
      "1                               0.000007  \n",
      "2                               0.000004  \n",
      "3                               0.000005  \n",
      "4                               0.000088  \n",
      "...                                  ...  \n",
      "2512                            0.000038  \n",
      "2513                            0.000041  \n",
      "2514                            0.000163  \n",
      "2515                            0.000203  \n",
      "2516                            0.000025  \n",
      "\n",
      "[2396 rows x 18 columns]\n"
     ]
    }
   ],
   "source": [
    "data_non_fromage = copy.deepcopy(data_synthese[data_synthese['Sous-groupe d\\'aliment'] != 'fromages'])\n",
    "data_non_fromage.drop(['Groupe d\\'aliment', 'Sous-groupe d\\'aliment', 'Préparation'], axis=1, inplace = True)\n",
    "data_non_fromage.to_numpy()\n",
    "label_non_fromage = np.asarray([-1 for i in range(len(data_non_fromage))])\n",
    "print(data_non_fromage.shape)\n",
    "print(label_non_fromage.shape)\n",
    "print(str(data_non_fromage))"
   ]
  },
  {
   "cell_type": "code",
   "execution_count": 12,
   "metadata": {},
   "outputs": [],
   "source": [
    "X = np.vstack((data_fromage, data_non_fromage))\n",
    "Y = np.hstack((label_fromage, label_non_fromage))"
   ]
  },
  {
   "cell_type": "markdown",
   "metadata": {},
   "source": [
    "### Test de classification KNN"
   ]
  },
  {
   "cell_type": "code",
   "execution_count": 57,
   "metadata": {},
   "outputs": [
    {
     "data": {
      "image/png": "[encoded data removed]",
      "text/plain": [
       "<Figure size 432x288 with 1 Axes>"
      ]
     },
     "metadata": {
      "needs_background": "light"
     },
     "output_type": "display_data"
    },
    {
     "name": "stdout",
     "output_type": "stream",
     "text": [
      "Accuracy moyenne apprentissage :  0.9766990291262136\n",
      "Accuracy moyenne test :  0.9752988047808765\n"
     ]
    }
   ],
   "source": [
    "nb_iter = 10\n",
    "perf_app = []\n",
    "perf_test = []\n",
    "dim = 18\n",
    "#dim = len(data_fromage[0])\n",
    "#print(str(dim))\n",
    "\n",
    "# mélanger des exemples\n",
    "index = np.random.permutation(len(X)) # mélange des index\n",
    "Xm = X[index]\n",
    "Ym = Y[index]\n",
    "\n",
    "\n",
    "# réaliser une validation croisée \n",
    "for i in range(nb_iter):\n",
    "    Xapp,Yapp,Xtest,Ytest = ut.crossval_strat(Xm, Ym, nb_iter, i)\n",
    "    un_KNN = cl.ClassifierKNN(dim, 23)\n",
    "    un_KNN.train(Xapp, Yapp)\n",
    "    perf_app.append(un_KNN.accuracy(Xapp, Yapp))\n",
    "    perf_test.append(un_KNN.accuracy(Xtest, Ytest))\n",
    "    \n",
    "    \n",
    "# Traçage de la courbe des variations d'accuracy\n",
    "plt.plot(range(nb_iter),perf_app, perf_test)  \n",
    "plt.ylabel('Accuracy')\n",
    "plt.xlabel(\"Itération\")\n",
    "plt.legend(['perf_app','perf_test'])\n",
    "plt.show()\n",
    "\n",
    "#print(\"Accuracies apprentissage obtenues : \",perf_app)    \n",
    "#print(\"Accuracies test obtenues : \",perf_test)\n",
    "print(\"Accuracy moyenne apprentissage : \", statistics.mean(perf_app))\n",
    "print(\"Accuracy moyenne test : \", statistics.mean(perf_test))"
   ]
  },
  {
   "cell_type": "markdown",
   "metadata": {},
   "source": [
    "### Test de classification Perceptron"
   ]
  },
  {
   "cell_type": "code",
   "execution_count": 58,
   "metadata": {},
   "outputs": [
    {
     "name": "stdout",
     "output_type": "stream",
     "text": [
      "e = 0.09 Taux de bonne classification moyen (base test) : 0.9422310756972112\n",
      "e = 0.09 Taux de bonne classification moyen (base apprentissage): 0.9409532215357458\n"
     ]
    },
    {
     "data": {
      "image/png": "[encoded data removed]",
      "text/plain": [
       "<Figure size 432x288 with 1 Axes>"
      ]
     },
     "metadata": {
      "needs_background": "light"
     },
     "output_type": "display_data"
    },
    {
     "name": "stdout",
     "output_type": "stream",
     "text": [
      "Accuracy moyenne apprentissage :  0.9409532215357458\n",
      "Accuracy moyenne test :  0.9422310756972112\n"
     ]
    }
   ],
   "source": [
    "index = np.random.permutation(len(X)) # mélange des index\n",
    "Xm = X[index]\n",
    "Ym = Y[index]\n",
    "e = 0.09\n",
    "nb_iter = 10\n",
    "dim = 18\n",
    "\n",
    "perf = []\n",
    "perf_app = []\n",
    "for i in range(nb_iter):\n",
    "    Xapp,Yapp,Xtest,Ytest = ut.crossval_strat(Xm, Ym, nb_iter, i)\n",
    "    perceptron = cl.ClassifierPerceptron(dim,e,False)\n",
    "    perceptron.train(Xapp, Yapp)\n",
    "    perf.append(perceptron.accuracy(Xtest, Ytest))\n",
    "    perf_app.append(perceptron.accuracy(Xapp, Yapp))\n",
    "    \n",
    "acc_moy = statistics.mean(perf) #moyenne des accuracies de la validation croisée pour cette valeur de k\n",
    "acc_moy_app = statistics.mean(perf_app) \n",
    "\n",
    "print(\"e = \" + str(e) + \" Taux de bonne classification moyen (base test) : \" + str(acc_moy))\n",
    "print(\"e = \" + str(e) + \" Taux de bonne classification moyen (base apprentissage): \" + str(acc_moy_app))\n",
    "\n",
    "\n",
    "plt.plot(np.arange(0, nb_iter),perf, perf_app)  \n",
    "plt.ylabel('Accuracy moyenne')\n",
    "plt.xlabel(\"valeur de l'itération\")\n",
    "plt.legend(['perf_test','perf_app'])\n",
    "plt.show()\n",
    "\n",
    "#print(\"Accuracies apprentissage obtenues : \",perf_app)    \n",
    "#print(\"Accuracies test obtenues : \",perf)\n",
    "print(\"Accuracy moyenne apprentissage : \", statistics.mean(perf_app))\n",
    "print(\"Accuracy moyenne test : \", statistics.mean(perf))"
   ]
  },
  {
   "cell_type": "markdown",
   "metadata": {},
   "source": [
    "### Test de classification ArbreNumerique"
   ]
  },
  {
   "cell_type": "code",
   "execution_count": null,
   "metadata": {},
   "outputs": [],
   "source": [
    "seuils_entropie = np.arange(0.0, 1.01, 0.1)\n",
    "liste_perf_moy = []\n",
    "dim = 18\n",
    "nb_iter = 10\n",
    "\n",
    "\n",
    "for s in seuils_entropie :   \n",
    "    arbre = cl.ClassifierArbreNumerique(dim,s, Xnoms)\n",
    "    perf, perf_moy, perf_sd = cl.validation_croisee(arbre, (X,Y), nb_iter)\n",
    "    liste_perf_moy.append(perf_moy)\n",
    "    print(\"\\nseuil \", s, 'accuracy moyenne: {perf_moy:.3f}\\técart type: {perf_sd:.3f}')\n",
    "          \n",
    "          \n",
    "# affichage de la variation de l'accuracy en fonction du choix du seuil:\n",
    "plt.plot(liste_perf_moy,seuils_entropies)\n",
    "plt.ylabel('entropie')\n",
    "plt.xlabel('seuil')\n",
    "plt.show()"
   ]
  },
  {
   "cell_type": "markdown",
   "metadata": {},
   "source": [
    "# 2. Apprentissages non supervisées"
   ]
  },
  {
   "cell_type": "markdown",
   "metadata": {},
   "source": [
    "## <u>Problématique:</u> Peut-on catégoriser un groupe d'aliment en sous-groupe d'aliment et plus précisément les matières grasses?"
   ]
  },
  {
   "cell_type": "markdown",
   "metadata": {},
   "source": [
    "### 2.1 Clustering Hierarchique"
   ]
  },
  {
   "cell_type": "code",
   "execution_count": 104,
   "metadata": {},
   "outputs": [],
   "source": [
    "X_ref= pd.read_csv(\"data/AGRIBALYSE3-synthese.csv\",sep=\";\")\n",
    "\n",
    "X = copy.deepcopy(X_ref[X_ref['Groupe d\\'aliment'] == 'matières grasses'])\n",
    "X_ref= copy.deepcopy(X)\n",
    "\n",
    "X.drop(['Code AGB', 'Code CIQUAL', 'Groupe d\\'aliment', 'Sous-groupe d\\'aliment', 'Nom du Produit en Français',\n",
    "        'LCI Name', 'code saison','code avion', 'Livraison', 'Matériau d\\'emballage', 'Préparation', 'DQR','Score unique EF 3.1',\n",
    "        'Changement climatique','Appauvrissement de la couche d\\'ozone','Rayonnements ionisants','Formation photochimique d\\'ozone','Particules fines',\n",
    "        'Acidification terrestre et eaux douces','Eutrophisation eaux douces','Eutrophisation marine',\n",
    "        'Eutrophisation terrestre','Écotoxicité pour écosystèmes aquatiques d\\'eau douce','Utilisation du sol'\n",
    "        ], axis=1, inplace = True)"
   ]
  },
  {
   "cell_type": "code",
   "execution_count": 105,
   "metadata": {},
   "outputs": [
    {
     "name": "stdout",
     "output_type": "stream",
     "text": [
      "Distance minimale trouvée entre [3, 4] = 0.0\n",
      "Distance minimale trouvée entre [5, 6] = 0.0\n",
      "Distance minimale trouvée entre [8, 9] = 0.0\n",
      "Distance minimale trouvée entre [10, 11] = 0.0\n",
      "Distance minimale trouvée entre [17, 29] = 0.0\n",
      "Distance minimale trouvée entre [19, 20] = 0.0\n",
      "Distance minimale trouvée entre [27, 28] = 0.0\n",
      "Distance minimale trouvée entre [34, 55] = 0.0\n",
      "Distance minimale trouvée entre [37, 38] = 0.0\n",
      "Distance minimale trouvée entre [39, 40] = 0.0\n",
      "Distance minimale trouvée entre [58, 59] = 0.0\n",
      "Distance minimale trouvée entre [61, 62] = 0.0\n",
      "Distance minimale trouvée entre [16, 57] = 0.0013491365729261194\n",
      "Distance minimale trouvée entre [45, 47] = 0.0028790082909853705\n",
      "Distance minimale trouvée entre [1, 2] = 0.00313192252234308\n",
      "Distance minimale trouvée entre [56, 68] = 0.0034302537293368646\n",
      "Distance minimale trouvée entre [46, 48] = 0.014246176089541861\n",
      "Distance minimale trouvée entre [42, 51] = 0.014729432633811984\n",
      "Distance minimale trouvée entre [43, 44] = 0.015462839490611868\n",
      "Distance minimale trouvée entre [52, 53] = 0.01610125952618716\n",
      "Distance minimale trouvée entre [65, 75] = 0.017256357483474805\n",
      "Distance minimale trouvée entre [69, 72] = 0.024876609282679155\n",
      "Distance minimale trouvée entre [64, 76] = 0.02642615910332979\n",
      "Distance minimale trouvée entre [49, 54] = 0.026580041857636554\n",
      "Distance minimale trouvée entre [35, 36] = 0.030530293047872015\n",
      "Distance minimale trouvée entre [70, 71] = 0.03561602410363449\n",
      "Distance minimale trouvée entre [63, 66] = 0.04648220050705503\n",
      "Distance minimale trouvée entre [31, 33] = 0.057430313660911114\n",
      "Distance minimale trouvée entre [74, 78] = 0.0634707439394315\n",
      "Distance minimale trouvée entre [67, 82] = 0.0711920106663374\n",
      "Distance minimale trouvée entre [77, 79] = 0.07204623265280434\n",
      "Distance minimale trouvée entre [73, 84] = 0.07427196613546154\n",
      "Distance minimale trouvée entre [41, 81] = 0.07755332799142499\n",
      "Distance minimale trouvée entre [0, 88] = 0.07576964302408243\n",
      "Distance minimale trouvée entre [12, 13] = 0.08135110524301313\n",
      "Distance minimale trouvée entre [60, 90] = 0.0864903905734978\n",
      "Distance minimale trouvée entre [50, 80] = 0.09896486847273352\n",
      "Distance minimale trouvée entre [24, 25] = 0.10283184903633164\n",
      "Distance minimale trouvée entre [86, 87] = 0.11430841684819258\n",
      "Distance minimale trouvée entre [22, 93] = 0.1478711312597141\n",
      "Distance minimale trouvée entre [92, 94] = 0.15549189982402986\n",
      "Distance minimale trouvée entre [26, 95] = 0.15563481660238448\n",
      "Distance minimale trouvée entre [85, 96] = 0.16847819758776025\n",
      "Distance minimale trouvée entre [89, 91] = 0.1775334480945277\n",
      "Distance minimale trouvée entre [30, 97] = 0.22108223375511402\n",
      "Distance minimale trouvée entre [98, 100] = 0.21304701585625155\n",
      "Distance minimale trouvée entre [83, 99] = 0.23734588371970336\n",
      "Distance minimale trouvée entre [21, 32] = 0.26345676332117723\n",
      "Distance minimale trouvée entre [102, 103] = 0.26821983193947857\n",
      "Distance minimale trouvée entre [101, 104] = 0.3004713242194993\n",
      "Distance minimale trouvée entre [14, 18] = 0.42982003422459397\n",
      "Distance minimale trouvée entre [105, 106] = 0.5148001028749326\n",
      "Distance minimale trouvée entre [7, 107] = 0.6710973280465152\n",
      "Distance minimale trouvée entre [15, 108] = 1.1780246895622504\n",
      "Distance minimale trouvée entre [23, 109] = 1.4877441376670162\n"
     ]
    },
    {
     "data": {
      "image/png": "[encoded data removed]",
      "text/plain": [
       "<Figure size 2160x1080 with 1 Axes>"
      ]
     },
     "metadata": {
      "needs_background": "light"
     },
     "output_type": "display_data"
    }
   ],
   "source": [
    "clust.normalisation(X)\n",
    "start_time = time.time()\n",
    "res_centroid = clust.CHA(X,linkage='centroid',verbose=True,dendrogramme=True)\n",
    "\n",
    "tmp_centroide = time.time() - start_time"
   ]
  },
  {
   "cell_type": "code",
   "execution_count": 106,
   "metadata": {},
   "outputs": [
    {
     "name": "stdout",
     "output_type": "stream",
     "text": [
      "Distance minimale trouvée entre [3, 4] = 0.0\n",
      "Distance minimale trouvée entre [5, 6] = 0.0\n",
      "Distance minimale trouvée entre [8, 9] = 0.0\n",
      "Distance minimale trouvée entre [10, 11] = 0.0\n",
      "Distance minimale trouvée entre [17, 29] = 0.0\n",
      "Distance minimale trouvée entre [19, 20] = 0.0\n",
      "Distance minimale trouvée entre [27, 28] = 0.0\n",
      "Distance minimale trouvée entre [34, 55] = 0.0\n",
      "Distance minimale trouvée entre [37, 38] = 0.0\n",
      "Distance minimale trouvée entre [39, 40] = 0.0\n",
      "Distance minimale trouvée entre [58, 59] = 0.0\n",
      "Distance minimale trouvée entre [61, 62] = 0.0\n",
      "Distance minimale trouvée entre [16, 57] = 0.0013491365729261194\n",
      "Distance minimale trouvée entre [45, 47] = 0.0028790082909853705\n",
      "Distance minimale trouvée entre [1, 2] = 0.00313192252234308\n",
      "Distance minimale trouvée entre [56, 68] = 0.0037716182753400325\n",
      "Distance minimale trouvée entre [46, 48] = 0.014246176089541861\n",
      "Distance minimale trouvée entre [42, 51] = 0.014729432633811984\n",
      "Distance minimale trouvée entre [43, 44] = 0.015462839490611868\n",
      "Distance minimale trouvée entre [52, 53] = 0.01610125952618716\n",
      "Distance minimale trouvée entre [65, 75] = 0.020085728285827765\n",
      "Distance minimale trouvée entre [49, 54] = 0.026580041857636554\n",
      "Distance minimale trouvée entre [35, 36] = 0.030530293047872015\n",
      "Distance minimale trouvée entre [69, 72] = 0.033020656486974706\n",
      "Distance minimale trouvée entre [64, 76] = 0.0349814047195299\n",
      "Distance minimale trouvée entre [70, 71] = 0.036662155434127305\n",
      "Distance minimale trouvée entre [63, 66] = 0.04648220050705503\n",
      "Distance minimale trouvée entre [31, 33] = 0.057430313660911114\n",
      "Distance minimale trouvée entre [74, 80] = 0.07360774155081679\n",
      "Distance minimale trouvée entre [67, 82] = 0.0749708638210538\n",
      "Distance minimale trouvée entre [12, 13] = 0.08135110524301313\n",
      "Distance minimale trouvée entre [41, 81] = 0.08258609163139312\n",
      "Distance minimale trouvée entre [0, 87] = 0.08993470753999068\n",
      "Distance minimale trouvée entre [77, 79] = 0.09876882583356715\n",
      "Distance minimale trouvée entre [24, 25] = 0.10283184903633164\n",
      "Distance minimale trouvée entre [73, 84] = 0.10318686735344779\n",
      "Distance minimale trouvée entre [50, 78] = 0.10462074016518257\n",
      "Distance minimale trouvée entre [60, 86] = 0.10737905874968187\n",
      "Distance minimale trouvée entre [89, 92] = 0.1655915609392864\n",
      "Distance minimale trouvée entre [22, 30] = 0.17358520717681739\n",
      "Distance minimale trouvée entre [85, 91] = 0.1752580642618333\n",
      "Distance minimale trouvée entre [26, 90] = 0.2003130239130671\n",
      "Distance minimale trouvée entre [88, 93] = 0.22416056850697139\n",
      "Distance minimale trouvée entre [21, 32] = 0.26345676332117723\n",
      "Distance minimale trouvée entre [94, 95] = 0.27026809552217346\n",
      "Distance minimale trouvée entre [97, 100] = 0.3062687098600898\n",
      "Distance minimale trouvée entre [14, 99] = 0.3118102397465136\n",
      "Distance minimale trouvée entre [83, 98] = 0.31480669327762356\n",
      "Distance minimale trouvée entre [96, 101] = 0.38204038670225904\n",
      "Distance minimale trouvée entre [102, 103] = 0.4349364395559214\n",
      "Distance minimale trouvée entre [18, 105] = 0.6187509252334208\n",
      "Distance minimale trouvée entre [104, 106] = 0.7513550722501112\n",
      "Distance minimale trouvée entre [7, 107] = 0.8368648648531964\n",
      "Distance minimale trouvée entre [15, 23] = 1.2823127303288102\n",
      "Distance minimale trouvée entre [108, 109] = 1.7656090515221345\n"
     ]
    },
    {
     "data": {
      "image/png": "[encoded data removed]",
      "text/plain": [
       "<Figure size 2160x1080 with 1 Axes>"
      ]
     },
     "metadata": {
      "needs_background": "light"
     },
     "output_type": "display_data"
    }
   ],
   "source": [
    "start_time = time.time()\n",
    "res_centroid = clust.CHA(X,linkage='complete',verbose=True,dendrogramme=True)\n",
    "tmp_complete = time.time() - start_time"
   ]
  },
  {
   "cell_type": "code",
   "execution_count": 107,
   "metadata": {},
   "outputs": [
    {
     "name": "stdout",
     "output_type": "stream",
     "text": [
      "Distance minimale trouvée entre [3, 4] = 0.0\n",
      "Distance minimale trouvée entre [5, 6] = 0.0\n",
      "Distance minimale trouvée entre [8, 9] = 0.0\n",
      "Distance minimale trouvée entre [10, 11] = 0.0\n",
      "Distance minimale trouvée entre [17, 29] = 0.0\n",
      "Distance minimale trouvée entre [19, 20] = 0.0\n",
      "Distance minimale trouvée entre [27, 28] = 0.0\n",
      "Distance minimale trouvée entre [34, 55] = 0.0\n",
      "Distance minimale trouvée entre [37, 38] = 0.0\n",
      "Distance minimale trouvée entre [39, 40] = 0.0\n",
      "Distance minimale trouvée entre [58, 59] = 0.0\n",
      "Distance minimale trouvée entre [61, 62] = 0.0\n",
      "Distance minimale trouvée entre [16, 57] = 0.0013491365729261194\n",
      "Distance minimale trouvée entre [45, 47] = 0.0028790082909853705\n",
      "Distance minimale trouvée entre [1, 2] = 0.00313192252234308\n",
      "Distance minimale trouvée entre [56, 68] = 0.0033382827813323948\n",
      "Distance minimale trouvée entre [46, 48] = 0.014246176089541861\n",
      "Distance minimale trouvée entre [42, 51] = 0.014729432633811984\n",
      "Distance minimale trouvée entre [43, 44] = 0.015462839490611868\n",
      "Distance minimale trouvée entre [52, 53] = 0.01610125952618716\n",
      "Distance minimale trouvée entre [69, 72] = 0.016958623410845263\n",
      "Distance minimale trouvée entre [65, 75] = 0.01793746207209003\n",
      "Distance minimale trouvée entre [64, 77] = 0.02236437592700208\n",
      "Distance minimale trouvée entre [49, 54] = 0.026580041857636554\n",
      "Distance minimale trouvée entre [35, 36] = 0.030530293047872015\n",
      "Distance minimale trouvée entre [70, 71] = 0.034377199868903044\n",
      "Distance minimale trouvée entre [76, 79] = 0.04045131324446818\n",
      "Distance minimale trouvée entre [63, 66] = 0.04648220050705503\n",
      "Distance minimale trouvée entre [78, 82] = 0.052733228722806544\n",
      "Distance minimale trouvée entre [0, 81] = 0.05328885585865446\n",
      "Distance minimale trouvée entre [74, 84] = 0.05702265013906041\n",
      "Distance minimale trouvée entre [31, 33] = 0.057430313660911114\n",
      "Distance minimale trouvée entre [73, 86] = 0.05744620132105788\n",
      "Distance minimale trouvée entre [83, 88] = 0.06343757424011791\n",
      "Distance minimale trouvée entre [80, 85] = 0.06395121210832126\n",
      "Distance minimale trouvée entre [41, 90] = 0.07106515626448467\n",
      "Distance minimale trouvée entre [67, 89] = 0.07424511219172865\n",
      "Distance minimale trouvée entre [91, 92] = 0.07783259343241775\n",
      "Distance minimale trouvée entre [12, 13] = 0.08135110524301313\n",
      "Distance minimale trouvée entre [60, 94] = 0.08209698062215601\n",
      "Distance minimale trouvée entre [50, 93] = 0.09543919796254954\n",
      "Distance minimale trouvée entre [24, 25] = 0.10283184903633164\n",
      "Distance minimale trouvée entre [22, 97] = 0.12074303585828779\n",
      "Distance minimale trouvée entre [26, 98] = 0.12121239356644704\n",
      "Distance minimale trouvée entre [87, 95] = 0.12301224164660864\n",
      "Distance minimale trouvée entre [96, 99] = 0.13833909752314819\n",
      "Distance minimale trouvée entre [30, 101] = 0.17358520717681739\n",
      "Distance minimale trouvée entre [100, 102] = 0.17665474940591006\n",
      "Distance minimale trouvée entre [32, 103] = 0.21837820465493482\n",
      "Distance minimale trouvée entre [21, 104] = 0.26345676332117723\n",
      "Distance minimale trouvée entre [14, 105] = 0.3081268615444788\n",
      "Distance minimale trouvée entre [18, 106] = 0.42982003422459397\n",
      "Distance minimale trouvée entre [7, 107] = 0.5115982865933044\n",
      "Distance minimale trouvée entre [15, 108] = 0.8174589030003306\n",
      "Distance minimale trouvée entre [23, 109] = 1.0451338336797296\n"
     ]
    },
    {
     "data": {
      "image/png": "[encoded data removed]",
      "text/plain": [
       "<Figure size 2160x1080 with 1 Axes>"
      ]
     },
     "metadata": {
      "needs_background": "light"
     },
     "output_type": "display_data"
    }
   ],
   "source": [
    "start_time = time.time()\n",
    "res_centroid = clust.CHA(X,linkage='simple',verbose=True,dendrogramme=True)\n",
    "tmp_simple = time.time() - start_time"
   ]
  },
  {
   "cell_type": "code",
   "execution_count": 96,
   "metadata": {},
   "outputs": [
    {
     "name": "stdout",
     "output_type": "stream",
     "text": [
      "Distance minimale trouvée entre [3, 4] = 0.0\n",
      "Distance minimale trouvée entre [5, 6] = 0.0\n",
      "Distance minimale trouvée entre [8, 9] = 0.0\n",
      "Distance minimale trouvée entre [10, 11] = 0.0\n",
      "Distance minimale trouvée entre [17, 29] = 0.0\n",
      "Distance minimale trouvée entre [19, 20] = 0.0\n",
      "Distance minimale trouvée entre [27, 28] = 0.0\n",
      "Distance minimale trouvée entre [34, 55] = 0.0\n",
      "Distance minimale trouvée entre [37, 38] = 0.0\n",
      "Distance minimale trouvée entre [39, 40] = 0.0\n",
      "Distance minimale trouvée entre [58, 59] = 0.0\n",
      "Distance minimale trouvée entre [61, 62] = 0.0\n",
      "Distance minimale trouvée entre [16, 57] = 0.0014638967280593284\n",
      "Distance minimale trouvée entre [45, 47] = 0.003423635779244597\n",
      "Distance minimale trouvée entre [1, 2] = 0.003740197000063098\n",
      "Distance minimale trouvée entre [56, 68] = 0.0038488520576233803\n",
      "Distance minimale trouvée entre [46, 48] = 0.015019115076804581\n",
      "Distance minimale trouvée entre [52, 53] = 0.01728355034244802\n",
      "Distance minimale trouvée entre [65, 73] = 0.019981511736378337\n",
      "Distance minimale trouvée entre [69, 72] = 0.020167113234769062\n",
      "Distance minimale trouvée entre [42, 51] = 0.020180714083746845\n",
      "Distance minimale trouvée entre [43, 44] = 0.020773600760711254\n",
      "Distance minimale trouvée entre [64, 74] = 0.023785911040785035\n",
      "Distance minimale trouvée entre [35, 36] = 0.0316661936808897\n",
      "Distance minimale trouvée entre [49, 54] = 0.03307380021296347\n",
      "Distance minimale trouvée entre [70, 71] = 0.03556130205057513\n",
      "Distance minimale trouvée entre [75, 80] = 0.04792192105858142\n",
      "Distance minimale trouvée entre [0, 81] = 0.055164712099436866\n",
      "Distance minimale trouvée entre [63, 66] = 0.05955693951139037\n",
      "Distance minimale trouvée entre [76, 78] = 0.06104279246953914\n",
      "Distance minimale trouvée entre [31, 33] = 0.0632151290420355\n",
      "Distance minimale trouvée entre [84, 85] = 0.06555678944351176\n",
      "Distance minimale trouvée entre [79, 83] = 0.06613689409078521\n",
      "Distance minimale trouvée entre [82, 87] = 0.06643400632766\n",
      "Distance minimale trouvée entre [77, 89] = 0.07859847372650235\n",
      "Distance minimale trouvée entre [67, 90] = 0.08123299560690916\n",
      "Distance minimale trouvée entre [41, 88] = 0.08450557247119002\n",
      "Distance minimale trouvée entre [13, 60] = 0.08582427237319563\n",
      "Distance minimale trouvée entre [12, 93] = 0.08618993189490569\n",
      "Distance minimale trouvée entre [91, 92] = 0.0948724487947034\n",
      "Distance minimale trouvée entre [50, 95] = 0.10889912554065649\n",
      "Distance minimale trouvée entre [86, 94] = 0.1355896225079716\n",
      "Distance minimale trouvée entre [25, 26] = 0.13788330550929448\n",
      "Distance minimale trouvée entre [22, 98] = 0.13791701581799554\n",
      "Distance minimale trouvée entre [24, 99] = 0.14875905779657053\n",
      "Distance minimale trouvée entre [96, 100] = 0.14943738241874038\n",
      "Distance minimale trouvée entre [97, 101] = 0.20280773157198392\n",
      "Distance minimale trouvée entre [32, 102] = 0.223534103365822\n",
      "Distance minimale trouvée entre [30, 103] = 0.22375963811082938\n",
      "Distance minimale trouvée entre [21, 104] = 0.2837437380676793\n",
      "Distance minimale trouvée entre [14, 105] = 0.35136032921433685\n",
      "Distance minimale trouvée entre [18, 106] = 0.46407515853419484\n",
      "Distance minimale trouvée entre [7, 107] = 0.6112504857372267\n",
      "Distance minimale trouvée entre [15, 108] = 0.8822145334136232\n",
      "Distance minimale trouvée entre [23, 109] = 1.147416814774756\n"
     ]
    },
    {
     "data": {
      "image/png": "[encoded data removed]",
      "text/plain": [
       "<Figure size 2160x1080 with 1 Axes>"
      ]
     },
     "metadata": {
      "needs_background": "light"
     },
     "output_type": "display_data"
    }
   ],
   "source": [
    "start_time = time.time()\n",
    "res_centroid = clust.CHA(X,linkage='average',verbose=True,dendrogramme=True)\n",
    "tmp_average = time.time() - start_time"
   ]
  },
  {
   "cell_type": "markdown",
   "metadata": {},
   "source": [
    "#### Analyse des résultats: \n",
    "Les dendogrammes des différents linkage de l'algorithme de clustering hiérarchique, nous indiquent 2 catégories principales dans le classement des matières grasses."
   ]
  },
  {
   "cell_type": "markdown",
   "metadata": {},
   "source": [
    "#### Temps d'exécution"
   ]
  },
  {
   "cell_type": "code",
   "execution_count": 109,
   "metadata": {},
   "outputs": [
    {
     "name": "stdout",
     "output_type": "stream",
     "text": [
      "temps d'exécution centroïde : 16.304932355880737s\n",
      "temps d'exécution complete : 78.28051328659058s\n",
      "temps d'exécution simple : 72.87445092201233s\n"
     ]
    }
   ],
   "source": [
    "print(\"temps d'exécution centroïde : \" + str(tmp_centroide) + \"s\")\n",
    "print(\"temps d'exécution complete : \" + str(tmp_complete) + \"s\")\n",
    "print(\"temps d'exécution simple : \" + str(tmp_simple) + \"s\")\n",
    "#print(\"temps d'exécution average\" + str(tmp_average))"
   ]
  },
  {
   "cell_type": "markdown",
   "metadata": {},
   "source": [
    "### 2.2 Algorithme de K-Moyenne"
   ]
  },
  {
   "cell_type": "code",
   "execution_count": 111,
   "metadata": {},
   "outputs": [],
   "source": [
    "X_ref= pd.read_csv(\"data/AGRIBALYSE3-synthese.csv\",sep=\";\")\n",
    "\n",
    "X = copy.deepcopy(X_ref[X_ref['Groupe d\\'aliment'] == 'matières grasses'])\n",
    "X_ref= copy.deepcopy(X)\n",
    "\n",
    "X.drop(['Code AGB', 'Code CIQUAL', 'Groupe d\\'aliment', 'Sous-groupe d\\'aliment', 'Nom du Produit en Français',\n",
    "        'LCI Name', 'code saison','code avion', 'Livraison', 'Matériau d\\'emballage', 'Préparation', 'DQR','Score unique EF 3.1',\n",
    "        'Changement climatique','Appauvrissement de la couche d\\'ozone','Rayonnements ionisants','Formation photochimique d\\'ozone','Particules fines',\n",
    "        'Acidification terrestre et eaux douces','Eutrophisation eaux douces','Eutrophisation marine',\n",
    "        'Eutrophisation terrestre','Écotoxicité pour écosystèmes aquatiques d\\'eau douce','Utilisation du sol'\n",
    "        ], axis=1, inplace = True)"
   ]
  },
  {
   "cell_type": "markdown",
   "metadata": {},
   "source": [
    "D'après le clustering hierarchique qui a déduit 2 catégories dans les matières grasses, on peut poser K=2"
   ]
  },
  {
   "cell_type": "code",
   "execution_count": 116,
   "metadata": {},
   "outputs": [
    {
     "name": "stdout",
     "output_type": "stream",
     "text": [
      "iteration 0 Inertie : 14687.390035689044 Difference: 14687.390035689044\n",
      "iteration 1 Inertie : 11174.628435547356 Difference: 3512.761600141688\n",
      "iteration 2 Inertie : 8573.08784298546 Difference: 2601.540592561896\n",
      "iteration 3 Inertie : 8039.436122986226 Difference: 533.651719999234\n",
      "iteration 4 Inertie : 7685.779070408224 Difference: 353.65705257800255\n",
      "iteration 5 Inertie : 7685.779070408224 Difference: 0.0\n",
      "\n",
      "index de dunn: 0.5427537895322111\n",
      "index de xie-beni: 32.60786127734864\n"
     ]
    },
    {
     "data": {
      "image/png": "[encoded data removed]",
      "text/plain": [
       "<Figure size 432x288 with 1 Axes>"
      ]
     },
     "metadata": {
      "needs_background": "light"
     },
     "output_type": "display_data"
    }
   ],
   "source": [
    "K = 2\n",
    "epsilon = 0.05\n",
    "iter_max = 1000\n",
    "\n",
    "start_time = time.time()\n",
    "les_centres, l_affectation = clust.kmoyennes(K, X, epsilon, iter_max)\n",
    "tmp_kmoyenne = time.time() - start_time\n",
    "\n",
    "idu = clust.dunn_index(les_centres, l_affectation)\n",
    "print(\"\\nindex de dunn: \" + str(idu))\n",
    "ix = clust.xie_beni_index(les_centres, l_affectation)\n",
    "print(\"index de xie-beni: \" + str(ix))\n",
    "\n",
    "clust.affiche_resultat(X,les_centres,l_affectation)"
   ]
  },
  {
   "cell_type": "markdown",
   "metadata": {},
   "source": [
    "#### Analyse du résultat\n",
    "\n",
    "On sait que plus l'index de dunn est élevé, mieux est la séparation entre les clusters.\n",
    "Et contrairement à l'index de dunn, plus l'index de xie-beni est faible, plus compacts et mieux séparés sont les clusters."
   ]
  },
  {
   "cell_type": "markdown",
   "metadata": {},
   "source": [
    "Cependant, en observant le sous-groupe de chaques exemples des différents clusters ci-dessous.\n",
    "On peut observer 4 sous-groupe différents.\n",
    "\n",
    "Cela peut s'expliquer par le fait que la description des différents exemples soient trop similaires et donc a du mal à être catégoriser."
   ]
  },
  {
   "cell_type": "code",
   "execution_count": 117,
   "metadata": {},
   "outputs": [
    {
     "name": "stdout",
     "output_type": "stream",
     "text": [
      "\n",
      "--------------- CHANGEMENT DE K --------------\n",
      "\n",
      "beurres\n",
      "beurres\n",
      "beurres\n",
      "beurres\n",
      "beurres\n",
      "beurres\n",
      "beurres\n",
      "huiles et graisses végétales\n",
      "autres matières grasses\n",
      "autres matières grasses\n",
      "autres matières grasses\n",
      "autres matières grasses\n",
      "huiles et graisses végétales\n",
      "huiles et graisses végétales\n",
      "huiles et graisses végétales\n",
      "beurres\n",
      "huiles et graisses végétales\n",
      "huiles de poissons\n",
      "huiles de poissons\n",
      "huiles et graisses végétales\n",
      "huiles et graisses végétales\n",
      "huiles et graisses végétales\n",
      "huiles et graisses végétales\n",
      "huiles et graisses végétales\n",
      "huiles de poissons\n",
      "huiles de poissons\n",
      "huiles et graisses végétales\n",
      "huiles et graisses végétales\n",
      "huiles et graisses végétales\n",
      "huiles et graisses végétales\n",
      "huiles et graisses végétales\n",
      "autres matières grasses\n",
      "beurres\n",
      "beurres\n",
      "margarines\n",
      "margarines\n",
      "margarines\n",
      "margarines\n",
      "huiles et graisses végétales\n",
      "margarines\n",
      "margarines\n",
      "margarines\n",
      "margarines\n",
      "margarines\n",
      "margarines\n",
      "margarines\n",
      "margarines\n",
      "margarines\n",
      "margarines\n",
      "margarines\n",
      "margarines\n",
      "margarines\n",
      "autres matières grasses\n",
      "\n",
      "--------------- CHANGEMENT DE K --------------\n",
      "\n",
      "huiles et graisses végétales\n",
      "huiles et graisses végétales\n",
      "huiles et graisses végétales\n"
     ]
    }
   ],
   "source": [
    "for k in l_affectation:\n",
    "    print()\n",
    "    print(\"--------------- CHANGEMENT DE K --------------\")\n",
    "    print()\n",
    "    for i in l_affectation[k]:\n",
    "        e = X_ref.iloc[i]\n",
    "        print(e['Sous-groupe d\\'aliment'])"
   ]
  },
  {
   "cell_type": "markdown",
   "metadata": {},
   "source": [
    "#### Temps d'exécution"
   ]
  },
  {
   "cell_type": "code",
   "execution_count": 118,
   "metadata": {},
   "outputs": [
    {
     "name": "stdout",
     "output_type": "stream",
     "text": [
      "temps d'exécution k-moyenne: 0.03434419631958008s\n"
     ]
    }
   ],
   "source": [
    "print(\"temps d'exécution k-moyenne: \" + str(tmp_kmoyenne) + \"s\")"
   ]
  },
  {
   "cell_type": "code",
   "execution_count": null,
   "metadata": {},
   "outputs": [],
   "source": []
  }
 ],
 "metadata": {
  "kernelspec": {
   "display_name": "Python 3 (ipykernel)",
   "language": "python",
   "name": "python3"
  },
  "language_info": {
   "codemirror_mode": {
    "name": "ipython",
    "version": 3
   },
   "file_extension": ".py",
   "mimetype": "text/x-python",
   "name": "python",
   "nbconvert_exporter": "python",
   "pygments_lexer": "ipython3",
   "version": "3.9.7"
  }
 },
 "nbformat": 4,
 "nbformat_minor": 1
}
