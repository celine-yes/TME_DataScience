{
 "cells": [
  {
   "cell_type": "markdown",
   "metadata": {},
   "source": [
    "IA & Data science (LU3IN0226) -- 2022-2023\n",
    "--------\n",
    "*&copy; Equipe pédagogique: Christophe Marsala, Olivier Schwander, Jean-Noël Vittaut.*"
   ]
  },
  {
   "cell_type": "markdown",
   "metadata": {},
   "source": [
    "<font size=\"+1\" color=\"RED\"><b>[Q]</b></font> <font size=\"+1\"><b>Indiquer dans la boîte ci-dessous vos noms et prénoms :</b></font>"
   ]
  },
  {
   "cell_type": "markdown",
   "metadata": {},
   "source": [
    "*Double-cliquer ici et insérer les noms et prénoms de votre binôme*"
   ]
  },
  {
   "cell_type": "markdown",
   "metadata": {},
   "source": [
    "Ce projet peut être fait en binôme (et c'est fortement conseillé) ou tout seul.\n",
    "\n",
    "Le nom de chaque membre du binôme doit être indiqué, et un seul rendu sur un des deux comptes Moodle doit être fait.\n",
    "\n",
    "Les groupes de plus de 2 personnes ne sont pas autorisés."
   ]
  },
  {
   "cell_type": "markdown",
   "metadata": {},
   "source": [
    "<font color=\"RED\" size=\"+1\"><b>[Q]</b></font> **Renommer ce fichier ipython**\n",
    "\n",
    "Tout en haut de cette page, cliquer sur <tt>projet-2</tt> et rajouter à la suite de <tt>projet-2</tt> les noms des membres du binômes séparés par un tiret.\n",
    "\n",
    "<font color=\"RED\" size=\"+1\">IMPORTANT: soumission de votre fichier final</font>\n",
    "\n",
    "**Nom à donner au notebook** : *projet-2-Nom1_Nom2.ipynb* \n",
    "- *Nom1* et *Nom2* : noms des membres du binôme\n",
    "\n",
    "**Le compte-rendu doit être rendu sur la page Moodle.**"
   ]
  },
  {
   "cell_type": "markdown",
   "metadata": {},
   "source": [
    "# Projet 2 - avril-mai 2023\n",
    "\n",
    "\n",
    "<font size=\"+1\" color=\"RED\"><b>Date de rendu : lundi 22 mai 2023, avant 18h</b></font>\n",
    "    \n",
    "<b>Attention! le site Moodle ferme à 18h pile !</b> prévoyez de vous y connecter au moins 15mn avant la fermeture...\n",
    "\n",
    "Vous devez compléter ce notebook en rajoutant vos expérimentations avec vos algorithmes d'apprentissage sur les données fournies dans le répertoire `data`.\n",
    "\n",
    "## Travail à faire\n",
    "\n",
    "Appliquer les algorithmes d'apprentissage vus tout au long du semestre sur les données afin de mettre en évidence des résultats intéressants.\n",
    "Deux problèmes, au moins, doivent être traités:\n",
    "- un problème d'apprentissage supervisé\n",
    "- un problème d'apprentissage non supervisé\n",
    "\n",
    "\n",
    "## Travail à rendre\n",
    "Ce qui doit être remis avant la date limite : un fichier archive (`.tar`, `.tgz`, ou `.zip` uniquement) contenant:\n",
    "- ce notebook complété. Il doit pouvoir être exécuté sans autre apport (pensez à vous en assurer avant de le rendre). \n",
    "- votre librairie iads sous la forme d'une archive avec votre répertoire `iads/` contenant tous les fichiers nécessaires \n",
    "- un fichier PDF dont le nom est de la forme: *projet-1-Nom1_Nom2.pdf* qui correspond à un poster décrivant l'ensemble des expérimentations menées et les résultats obtenus.\n",
    "\n",
    "\n",
    "<b>IMPORTANT</b>: \n",
    "- Les fichiers de données ne doivent pas être inclus dans votre archive ! \n",
    "- Pensez à vérifier que votre archive contient bien tous les fichiers demandés et QUE les fichiers demandés.\n",
    "\n",
    "## Soutenance des projets\n",
    "La soutenance aura lieu le <font size=\"+1\" color=\"RED\">**mercredi 24 mai 2023**</font>, à partir de 14h. Un ordre de passage ainsi que la salle de TME où aura lieu les soutenances seront affichées sur le Moodle la veille.\n",
    "\n",
    "La <b>soutenance est obligatoire</b> : tout projet pour lequel une soutenance n'a pas eu lieu sera noté $0$.\n",
    "\n",
    "Modalités de la soutenance:\n",
    "- durée de la soutenance : 10 mn pour un binôme, 7 mn pour un monôme ;\n",
    "- elle a lieu devant un ordinateur avec le notebook et le poster comme support ;\n",
    "    - elle commence par une rapide présentation des expérimentations réalisées et résultats obtenus (max. 4 à 5mns)\n",
    "    - puis elle se poursuit par des questions posées individuellement aux membres du binômes sur les expériences ou le code python réalisé.\n",
    "- la note de soutenance est individuelle pour chaque membre d'un binôme.\n",
    "\n",
    "\n"
   ]
  },
  {
   "cell_type": "markdown",
   "metadata": {},
   "source": [
    "**Très important** : les fichiers de données doivent être placés de façon à respecter la structure de fichiers suivante :\n",
    "\n",
    "          --iads/\n",
    "              -- Classifiers.py\n",
    "              -- etc.\n",
    "          -- projet/\n",
    "              -- ce_notebook.ipynb\n",
    "              -- data/\n",
    "                  -- AGRIBALYSE3-ingredients.csv\n",
    "                  -- AGRIBALYSE3-etapes.csv\n",
    "                  -- AGRIBALYSE3-synthese.csv\n",
    "\n",
    "\n",
    "Dans le notebook que vous rendrez, le chargement des fichiers de données considèrera donc cette arborescence.\n"
   ]
  },
  {
   "cell_type": "markdown",
   "metadata": {},
   "source": [
    "# Les données Agribalyse (version 3.1)\n",
    "\n",
    "Les données sont issues des données publiques du site de l'ADEME: https://agribalyse.ademe.fr/\n",
    "Il est conseillé de parcourir la documentation de ces données sur le site ci-dessus pour se familiariser avec les différentes informations qu'elles fournissent.\n",
    "\n",
    "Pour ce projet, vous travaillerez sur les données sur les produits alimentaires dont la version originale est visible ici : https://doc.agribalyse.fr/documentation/acces-donnees\n",
    "\n",
    "Si vous n'arrivez pas à télécharger ou à ouvrir ce fichier, des versions de ce fichier au format libreoffice et au format Excel 97 sont fournies dans l'archive `data_tableur`. Il est conseillé de regarder un de ces fichiers car vous y trouverez des informations complémentaires sur les noms des colonnes des 3 fichiers CSV de `data` décrits ci-dessous.\n",
    "\n",
    "Pour vous aider à manipuler les données nous vous fournissons dans l'archive `data` : les 3 tables du fichiers sont fournies sous la forme de 3 fichiers CSV directement lisibles par la commande `read_csv` de Pandas (le séparateur de colonnes est le `';'`). Ce sont ces 3 fichiers à utiliser dans votre notebook. Un exemple de chargement est donné plus loin dans ce notebook. Les fichiers sont:\n",
    "- AGRIBALYSE3-ingredients.csv\n",
    "- AGRIBALYSE3-etapes.csv\n",
    "- AGRIBALYSE3-synthese.csv\n",
    "\n",
    "**Remarque**: les données Agribalyse de 2021 ont fait l'objet du projet de l'an dernier, cette année c'est une nouvelle version étendue de ces données qui sont utilisées pour ce projet, nous attendons donc des analyses qui tirent partie des nouveautés de cette nouvelle version."
   ]
  },
  {
   "cell_type": "markdown",
   "metadata": {},
   "source": [
    "## Exemples"
   ]
  },
  {
   "cell_type": "code",
   "execution_count": 12,
   "metadata": {},
   "outputs": [
    {
     "name": "stdout",
     "output_type": "stream",
     "text": [
      "The autoreload extension is already loaded. To reload it, use:\n",
      "  %reload_ext autoreload\n"
     ]
    }
   ],
   "source": [
    "# Importation des librairies standards:\n",
    "import numpy as np\n",
    "import copy\n",
    "import time\n",
    "import statistics\n",
    "import pandas as pd\n",
    "import matplotlib.pyplot as plt\n",
    "%matplotlib inline  \n",
    "\n",
    "# Importation de votre librairie iads:\n",
    "# La ligne suivante permet de préciser le chemin d'accès à la librairie iads\n",
    "import sys\n",
    "sys.path.append('../')   # iads doit être dans le répertoire frère du répertoire courant !\n",
    "\n",
    "# Importation de la librairie iads\n",
    "import iads as iads\n",
    "\n",
    "# importation de Classifiers\n",
    "from iads import Classifiers as cl\n",
    "\n",
    "# importation de utils\n",
    "from iads import utils as ut\n",
    "\n",
    "# importation de evaluation\n",
    "from iads import evaluation as ev\n",
    "\n",
    "# importation de Clustering\n",
    "from iads import Clustering as clust\n",
    "\n",
    "# commande TRES utile pour recharger automatiquement le code que vous modifiez dans les modules\n",
    "%load_ext autoreload\n",
    "%autoreload 2"
   ]
  },
  {
   "cell_type": "code",
   "execution_count": 3,
   "metadata": {},
   "outputs": [
    {
     "name": "stdout",
     "output_type": "stream",
     "text": [
      "Nombre de lignes:  2517\n",
      "Nombre de colonnes:  29\n"
     ]
    }
   ],
   "source": [
    "data_synthese = pd.read_csv(\"data/AGRIBALYSE3-synthese.csv\", sep=';') \n",
    "data_synthese.columns\n",
    "print(\"Nombre de lignes: \",len(data_synthese))\n",
    "print(\"Nombre de colonnes: \",len(data_synthese.columns))"
   ]
  },
  {
   "cell_type": "code",
   "execution_count": 3,
   "metadata": {},
   "outputs": [
    {
     "name": "stdout",
     "output_type": "stream",
     "text": [
      "col  0 :  Code AGB\n",
      "col  1 :  Code CIQUAL\n",
      "col  2 :  Groupe d'aliment\n",
      "col  3 :  Sous-groupe d'aliment\n",
      "col  4 :  Nom du Produit en Français\n",
      "col  5 :  LCI Name\n",
      "col  6 :  code saison\n",
      "col  7 :  code avion\n",
      "col  8 :  Livraison\n",
      "col  9 :  Matériau d'emballage\n",
      "col  10 :  Préparation\n",
      "col  11 :  DQR \tmoyenne =  2.7681644815256257\n",
      "col  12 :  Score unique EF 3.1 \tmoyenne =  0.6889596344854987\n",
      "col  13 :  Changement climatique \tmoyenne =  5.420519666269368\n",
      "col  14 :  Appauvrissement de la couche d'ozone \tmoyenne =  5.383361620977354e-07\n",
      "col  15 :  Rayonnements ionisants \tmoyenne =  1.016821692491061\n",
      "col  16 :  Formation photochimique d'ozone \tmoyenne =  0.021625918156535556\n",
      "col  17 :  Particules fines \tmoyenne =  5.735583075089393e-07\n",
      "col  18 :  Effets toxicologiques sur la santé humaine : substances non-cancérogènes \tmoyenne =  1.0743762415574097e-07\n",
      "col  19 :  Effets toxicologiques sur la santé humaine : substances cancérogènes \tmoyenne =  3.8854543504171635e-09\n",
      "col  20 :  Acidification terrestre et eaux douces \tmoyenne =  0.07895298053237983\n",
      "col  21 :  Eutrophisation eaux douces \tmoyenne =  0.0008419094557012317\n",
      "col  22 :  Eutrophisation marine \tmoyenne =  0.028193528009535167\n",
      "col  23 :  Eutrophisation terrestre \tmoyenne =  0.31052913388955106\n",
      "col  24 :  Écotoxicité pour écosystèmes aquatiques d'eau douce \tmoyenne =  54.213323798172425\n",
      "col  25 :  Utilisation du sol \tmoyenne =  328.598126340882\n",
      "col  26 :  Épuisement des ressources eau \tmoyenne =  5.726230393325387\n",
      "col  27 :  Épuisement des ressources énergétiques \tmoyenne =  49.79915772745332\n",
      "col  28 :  Épuisement des ressources minéraux \tmoyenne =  2.2019833929280892e-05\n"
     ]
    }
   ],
   "source": [
    "for i in range(0,len(data_synthese.columns)):\n",
    "    if i>10:\n",
    "        print(\"col \",i,\": \",data_synthese.columns[i], \"\\tmoyenne = \",data_synthese[data_synthese.columns[i]].mean())\n",
    "    else:\n",
    "        print(\"col \",i,\": \",data_synthese.columns[i])"
   ]
  },
  {
   "cell_type": "code",
   "execution_count": 4,
   "metadata": {},
   "outputs": [
    {
     "name": "stdout",
     "output_type": "stream",
     "text": [
      "Nombre de lignes:  2517\n",
      "Nombre de colonnes:  132\n"
     ]
    }
   ],
   "source": [
    "data_etapes = pd.read_csv(\"data/AGRIBALYSE3-etapes.csv\", sep=';') \n",
    "data_etapes.columns\n",
    "print(\"Nombre de lignes: \",len(data_etapes))\n",
    "print(\"Nombre de colonnes: \",len(data_etapes.columns))"
   ]
  },
  {
   "cell_type": "code",
   "execution_count": 5,
   "metadata": {
    "scrolled": false
   },
   "outputs": [
    {
     "name": "stdout",
     "output_type": "stream",
     "text": [
      "col  0 :  Code AGB\n",
      "col  1 :  Code CIQUAL\n",
      "col  2 :  Groupe d aliment\n",
      "col  3 :  Sous-groupe d aliment\n",
      "col  4 :  Nom du Produit en Français\n",
      "col  5 :  LCI Name\n",
      "col  6 :  DQR\n",
      "col  7 :  Nom et code\n",
      "col  8 :  Agriculture\n",
      "col  9 :  Transformation\n",
      "col  10 :  Emballage\n",
      "col  11 :  Transport\n",
      "col  12 :  Supermarché et distribution\n",
      "col  13 :  Consommation\n",
      "col  14 :  Total\n",
      "col  15 :  Agriculture.1\n",
      "col  16 :  Transformation.1\n",
      "col  17 :  Emballage.1\n",
      "col  18 :  Transport.1\n",
      "col  19 :  Supermarché et distribution.1\n",
      "col  20 :  Consommation.1\n",
      "col  21 :  Total.1\n",
      "col  22 :  Agriculture.2\n",
      "col  23 :  Transformation.2\n",
      "col  24 :  Emballage.2\n",
      "col  25 :  Transport.2\n",
      "col  26 :  Supermarché et distribution.2\n",
      "col  27 :  Consommation.2\n",
      "col  28 :  Total.2\n",
      "col  29 :  Agriculture.3\n",
      "col  30 :  Transformation.3\n",
      "col  31 :  Emballage.3\n",
      "col  32 :  Transport.3\n",
      "col  33 :  Supermarché et distribution.3\n",
      "col  34 :  Consommation.3\n",
      "col  35 :  Total.3\n",
      "col  36 :  Agriculture.4\n",
      "col  37 :  Transformation.4\n",
      "col  38 :  Emballage.4\n",
      "col  39 :  Transport.4\n",
      "col  40 :  Supermarché et distribution.4\n",
      "col  41 :  Consommation.4\n",
      "col  42 :  Total.4\n",
      "col  43 :  Agriculture.5\n",
      "col  44 :  Transformation.5\n",
      "col  45 :  Emballage.5\n",
      "col  46 :  Transport.5\n",
      "col  47 :  Supermarché et distribution.5\n",
      "col  48 :  Consommation.5\n",
      "col  49 :  Total.5\n",
      "col  50 :  Agriculture.6\n",
      "col  51 :  Transformation.6\n",
      "col  52 :  Emballage.6\n",
      "col  53 :  Transport.6\n",
      "col  54 :  Supermarché et distribution.6\n",
      "col  55 :  Consommation.6\n",
      "col  56 :  Total.6\n",
      "col  57 :  Agriculture.7\n",
      "col  58 :  Transformation.7\n",
      "col  59 :  Emballage.7\n",
      "col  60 :  Transport.7\n",
      "col  61 :  Supermarché et distribution.7\n",
      "col  62 :  Consommation.7\n",
      "col  63 :  Total.7\n",
      "col  64 :  Agriculture.8\n",
      "col  65 :  Transformation.8\n",
      "col  66 :  Emballage.8\n",
      "col  67 :  Transport.8\n",
      "col  68 :  Supermarché et distribution.8\n",
      "col  69 :  Consommation.8\n",
      "col  70 :  Total.8\n",
      "col  71 :  Agriculture.9\n",
      "col  72 :  Transformation.9\n",
      "col  73 :  Emballage.9\n",
      "col  74 :  Transport.9\n",
      "col  75 :  Supermarché et distribution.9\n",
      "col  76 :  Consommation.9\n",
      "col  77 :  Total.9\n",
      "col  78 :  Agriculture.10\n",
      "col  79 :  Transformation.10\n",
      "col  80 :  Emballage.10\n",
      "col  81 :  Transport.10\n",
      "col  82 :  Supermarché et distribution.10\n",
      "col  83 :  Consommation.10\n",
      "col  84 :  Total.10\n",
      "col  85 :  Agriculture.11\n",
      "col  86 :  Transformation.11\n",
      "col  87 :  Emballage.11\n",
      "col  88 :  Transport.11\n",
      "col  89 :  Supermarché et distribution.11\n",
      "col  90 :  Consommation.11\n",
      "col  91 :  Total.11\n",
      "col  92 :  Agriculture.12\n",
      "col  93 :  Transformation.12\n",
      "col  94 :  Emballage.12\n",
      "col  95 :  Transport.12\n",
      "col  96 :  Supermarché et distribution.12\n",
      "col  97 :  Consommation.12\n",
      "col  98 :  Total.12\n",
      "col  99 :  Agriculture.13\n",
      "col  100 :  Transformation.13\n",
      "col  101 :  Emballage.13\n",
      "col  102 :  Transport.13\n",
      "col  103 :  Supermarché et distribution.13\n",
      "col  104 :  Consommation.13\n",
      "col  105 :  Total.13\n",
      "col  106 :  Agriculture.14\n",
      "col  107 :  Transformation.14\n",
      "col  108 :  Emballage.14\n",
      "col  109 :  Transport.14\n",
      "col  110 :  Supermarché et distribution.14\n",
      "col  111 :  Consommation.14\n",
      "col  112 :  Total.14\n",
      "col  113 :  Agriculture.15\n",
      "col  114 :  Transformation.15\n",
      "col  115 :  Emballage.15\n",
      "col  116 :  Transport.15\n",
      "col  117 :  Supermarché et distribution.15\n",
      "col  118 :  Consommation.15\n",
      "col  119 :  Total.15\n",
      "col  120 :  Agriculture.16\n",
      "col  121 :  Transformation.16\n",
      "col  122 :  Emballage.16\n",
      "col  123 :  Transport.16\n",
      "col  124 :  Supermarché et distribution.16\n",
      "col  125 :  Consommation.16\n",
      "col  126 :  Total.16\n",
      "col  127 :  DQR Overall\n",
      "col  128 :  P\n",
      "col  129 :  TiR\n",
      "col  130 :  GR\n",
      "col  131 :  TeR\n"
     ]
    }
   ],
   "source": [
    "for i in range(0,len(data_etapes.columns)):\n",
    "    print(\"col \",i,\": \",data_etapes.columns[i])"
   ]
  },
  {
   "cell_type": "code",
   "execution_count": 6,
   "metadata": {
    "scrolled": false
   },
   "outputs": [
    {
     "name": "stdout",
     "output_type": "stream",
     "text": [
      "Quelques infos :\n",
      "----\n",
      "Agriculture \tmoyenne =  0.5684966870458402\n",
      "Transformation \tmoyenne =  0.056136918226633296\n",
      "Emballage \tmoyenne =  0.02242675546471593\n",
      "Transport \tmoyenne =  0.026165883152808902\n",
      "Supermarché et distribution \tmoyenne =  0.007877125406877234\n",
      "Consommation \tmoyenne =  0.007633790367775129\n",
      "Total \tmoyenne =  0.6887371596646508\n",
      "----\n",
      "Agriculture.1 \tmoyenne =  4.2834051017208985\n",
      "Transformation.1 \tmoyenne =  0.49566790046860953\n",
      "Emballage.1 \tmoyenne =  0.2551146021668653\n",
      "Transport.1 \tmoyenne =  0.31395988182510925\n",
      "Supermarché et distribution.1 \tmoyenne =  0.03147132845606277\n",
      "Consommation.1 \tmoyenne =  0.042848097985971396\n",
      "Total.1 \tmoyenne =  5.422466912623516\n",
      "----\n",
      "Agriculture.2 \tmoyenne =  3.3849700977868895e-07\n",
      "Transformation.2 \tmoyenne =  3.346837165345689e-08\n",
      "Emballage.2 \tmoyenne =  8.733627654263806e-08\n",
      "Transport.2 \tmoyenne =  7.395954808027414e-08\n",
      "Supermarché et distribution.2 \tmoyenne =  2.4693114096368693e-09\n",
      "Consommation.2 \tmoyenne =  2.6369538328196267e-09\n",
      "Total.2 \tmoyenne =  5.38367471297594e-07\n",
      "----\n",
      "Agriculture.3 \tmoyenne =  0.22347594415358202\n",
      "Transformation.3 \tmoyenne =  0.5096895828840635\n",
      "Emballage.3 \tmoyenne =  0.026443116230250297\n",
      "Transport.3 \tmoyenne =  0.020708397043810094\n",
      "Supermarché et distribution.3 \tmoyenne =  0.12428980926908742\n",
      "Consommation.3 \tmoyenne =  0.11212322565223579\n",
      "Total.3 \tmoyenne =  1.016730075233029\n",
      "----\n",
      "Agriculture.4 \tmoyenne =  0.018124962240729993\n",
      "Transformation.4 \tmoyenne =  0.0011453623181971711\n",
      "Emballage.4 \tmoyenne =  0.0007314176762902265\n",
      "Transport.4 \tmoyenne =  0.0014836005704080254\n",
      "Supermarché et distribution.4 \tmoyenne =  6.676431156404052e-05\n",
      "Consommation.4 \tmoyenne =  7.666149406531981e-05\n",
      "Total.4 \tmoyenne =  0.02162876861125478\n",
      "----\n",
      "Agriculture.5 \tmoyenne =  0.000521405112709536\n",
      "Transformation.5 \tmoyenne =  1.912008494381248e-05\n",
      "Emballage.5 \tmoyenne =  1.1335613299139849e-05\n",
      "Transport.5 \tmoyenne =  1.9328471702804928e-05\n",
      "Supermarché et distribution.5 \tmoyenne =  1.3286906450673422e-06\n",
      "Consommation.5 \tmoyenne =  1.2579847468561782e-06\n",
      "Total.5 \tmoyenne =  0.0005737759580472168\n",
      "----\n",
      "Agriculture.6 \tmoyenne =  9.718748033812476e-05\n",
      "Transformation.6 \tmoyenne =  4.748341800434684e-06\n",
      "Emballage.6 \tmoyenne =  1.5496776170369488e-06\n",
      "Transport.6 \tmoyenne =  2.6674671603893524e-06\n",
      "Supermarché et distribution.6 \tmoyenne =  6.102224520907033e-07\n",
      "Consommation.6 \tmoyenne =  6.866494222022248e-07\n",
      "Total.6 \tmoyenne =  0.00010744983879027864\n",
      "----\n",
      "Agriculture.7 \tmoyenne =  0.0003271399459962495\n",
      "Transformation.7 \tmoyenne =  2.7288002301783866e-05\n",
      "Emballage.7 \tmoyenne =  1.6013641315341676e-05\n",
      "Transport.7 \tmoyenne =  1.2757204312951928e-05\n",
      "Supermarché et distribution.7 \tmoyenne =  2.612588474352404e-06\n",
      "Consommation.7 \tmoyenne =  2.654884403709575e-06\n",
      "Total.7 \tmoyenne =  0.00038846626680438893\n",
      "----\n",
      "Agriculture.8 \tmoyenne =  0.07411992747055454\n",
      "Transformation.8 \tmoyenne =  0.001929420653405244\n",
      "Emballage.8 \tmoyenne =  0.0009938508669833136\n",
      "Transport.8 \tmoyenne =  0.0016654054182892331\n",
      "Supermarché et distribution.8 \tmoyenne =  0.0001337620897774732\n",
      "Consommation.8 \tmoyenne =  0.00012646567892165276\n",
      "Total.8 \tmoyenne =  0.07896883217793148\n",
      "----\n",
      "Agriculture.9 \tmoyenne =  0.0006482900240314145\n",
      "Transformation.9 \tmoyenne =  9.650625283613507e-05\n",
      "Emballage.9 \tmoyenne =  4.770915136690505e-05\n",
      "Transport.9 \tmoyenne =  2.1808963516626936e-05\n",
      "Supermarché et distribution.9 \tmoyenne =  7.89633153203377e-06\n",
      "Consommation.9 \tmoyenne =  9.623633183190307e-06\n",
      "Total.9 \tmoyenne =  0.0008318343564663055\n",
      "----\n",
      "Agriculture.10 \tmoyenne =  0.02606458948192888\n",
      "Transformation.10 \tmoyenne =  0.0013067283733852206\n",
      "Emballage.10 \tmoyenne =  0.00021445496123043305\n",
      "Transport.10 \tmoyenne =  0.0004683217044035757\n",
      "Supermarché et distribution.10 \tmoyenne =  2.9835140009026618e-05\n",
      "Consommation.10 \tmoyenne =  4.7425795057620184e-05\n",
      "Total.10 \tmoyenne =  0.028131355456014757\n",
      "----\n",
      "Agriculture.11 \tmoyenne =  0.29734929464111165\n",
      "Transformation.11 \tmoyenne =  0.005652233602072864\n",
      "Emballage.11 \tmoyenne =  0.0019908671240210568\n",
      "Transport.11 \tmoyenne =  0.005119353187081843\n",
      "Supermarché et distribution.11 \tmoyenne =  0.0002525249092678188\n",
      "Consommation.11 \tmoyenne =  0.00024866463985077474\n",
      "Total.11 \tmoyenne =  0.310612938103406\n",
      "----\n",
      "Agriculture.12 \tmoyenne =  48.988839142870084\n",
      "Transformation.12 \tmoyenne =  2.5497224944965\n",
      "Emballage.12 \tmoyenne =  0.7692215217318236\n",
      "Transport.12 \tmoyenne =  1.5533179060325786\n",
      "Supermarché et distribution.12 \tmoyenne =  0.13806092456130314\n",
      "Consommation.12 \tmoyenne =  0.18844663102526818\n",
      "Total.12 \tmoyenne =  54.187608620717555\n",
      "----\n",
      "Agriculture.13 \tmoyenne =  310.9915033641982\n",
      "Transformation.13 \tmoyenne =  13.675075234293013\n",
      "Emballage.13 \tmoyenne =  1.3458717057608263\n",
      "Transport.13 \tmoyenne =  2.2850328640659514\n",
      "Supermarché et distribution.13 \tmoyenne =  0.1424060331910608\n",
      "Consommation.13 \tmoyenne =  0.13453906984119982\n",
      "Total.13 \tmoyenne =  328.57442827135026\n",
      "----\n",
      "Agriculture.14 \tmoyenne =  5.38537441847862\n",
      "Transformation.14 \tmoyenne =  0.14930567352159593\n",
      "Emballage.14 \tmoyenne =  0.1369397340264998\n",
      "Transport.14 \tmoyenne =  0.013780953101468018\n",
      "Supermarché et distribution.14 \tmoyenne =  0.027973004035097334\n",
      "Consommation.14 \tmoyenne =  0.01083712614700143\n",
      "Total.14 \tmoyenne =  5.7242109093102815\n",
      "----\n",
      "Agriculture.15 \tmoyenne =  21.537600423417558\n",
      "Transformation.15 \tmoyenne =  14.029094337067582\n",
      "Emballage.15 \tmoyenne =  4.567783046302344\n",
      "Transport.15 \tmoyenne =  4.288577241244735\n",
      "Supermarché et distribution.15 \tmoyenne =  2.7700836827310287\n",
      "Consommation.15 \tmoyenne =  2.5497975612275727\n",
      "Total.15 \tmoyenne =  49.74293629199082\n",
      "----\n",
      "Agriculture.16 \tmoyenne =  0.015244014435140167\n",
      "Transformation.16 \tmoyenne =  0.002301493984470651\n",
      "Emballage.16 \tmoyenne =  0.0016628438444557013\n",
      "Transport.16 \tmoyenne =  0.0012823188364461662\n",
      "Supermarché et distribution.16 \tmoyenne =  0.0007804375020440605\n",
      "Consommation.16 \tmoyenne =  0.0007088726532150302\n",
      "Total.16 \tmoyenne =  0.021979981255771774\n"
     ]
    }
   ],
   "source": [
    "print(\"Quelques infos :\")\n",
    "for i in range(0,17):\n",
    "    print(\"----\")\n",
    "    for col in ['Agriculture', 'Transformation', 'Emballage', 'Transport', 'Supermarché et distribution', \\\n",
    "                'Consommation', 'Total']:\n",
    "        if i>0:\n",
    "            nom_col = col + \".\" +str(i)\n",
    "        else:\n",
    "            nom_col = col\n",
    "        print(nom_col,\"\\tmoyenne = \",data_etapes[nom_col].mean())"
   ]
  },
  {
   "cell_type": "code",
   "execution_count": 7,
   "metadata": {},
   "outputs": [
    {
     "name": "stdout",
     "output_type": "stream",
     "text": [
      "Nombre de lignes:  6856\n",
      "Nombre de colonnes:  27\n"
     ]
    }
   ],
   "source": [
    "data_ingredients = pd.read_csv(\"data/AGRIBALYSE3-ingredients.csv\",sep=\";\")\n",
    "data_ingredients.columns\n",
    "print(\"Nombre de lignes: \",len(data_ingredients))\n",
    "print(\"Nombre de colonnes: \",len(data_ingredients.columns))"
   ]
  },
  {
   "cell_type": "code",
   "execution_count": 8,
   "metadata": {},
   "outputs": [
    {
     "name": "stdout",
     "output_type": "stream",
     "text": [
      "0 :  Ciqual AGB\n",
      "1 :  Ciqual code\n",
      "2 :  Groupe d'aliment\n",
      "3 :  Sous-groupe d'aliment\n",
      "4 :  Nom Français\n",
      "5 :  LCI Name\n",
      "6 :  Ingredients\n",
      "7 :  Code et Nom\n",
      "8 :  Groupe\n",
      "9 :  Sous-groupe\n",
      "10 :  Formation photochimique d'ozone \tmoyennne =  0.14901077587806652\n",
      "11 :  Particules fines \tmoyennne =  1.1694919040652128\n",
      "12 :  Effets toxicologiques sur la santé humaine : substances non-cancérogènes \tmoyennne =  9.663670448533454e-08\n",
      "13 :  Effets toxicologiques sur la santé humaine : substances cancérogènes \tmoyennne =  0.32177220746506685\n",
      "14 :  Acidification terrestre et eaux douces \tmoyennne =  0.0038680513541169783\n",
      "15 :  Eutrophisation eaux douces \tmoyennne =  1.1525166083035649e-07\n",
      "16 :  Eutrophisation marine \tmoyennne =  2.5530761424091264e-08\n",
      "17 :  Eutrophisation terrestre \tmoyennne =  9.025745752722688e-10\n",
      "18 :  Écotoxicité pour écosystèmes aquatiques d'eau douce \tmoyennne =  0.01583401820414365\n",
      "19 :  Utilisation du sol \tmoyennne =  0.00017051056352429376\n",
      "20 :  Épuisement des ressources eau \tmoyennne =  0.005420029504769152\n",
      "21 :  Épuisement des ressources énergétiques \tmoyennne =  0.06377478486649878\n",
      "22 :  Épuisement des ressources minéraux \tmoyennne =  13.456044581692224\n",
      "23 :  Pt/kg de produit \tmoyennne =  70.52662867740445\n",
      "24 :  m3 depriv./kg de produit \tmoyennne =  1.3622131901908805\n",
      "25 :  MJ/kg de produit \tmoyennne =  12.915748203498433\n",
      "26 :  kg Sb eq/kg de produit \tmoyennne =  4.652159787008745e-06\n"
     ]
    }
   ],
   "source": [
    "for i in range(0,len(data_ingredients.columns)):\n",
    "    if i<10:\n",
    "        print(i,\": \", data_ingredients.columns[i])\n",
    "    else:\n",
    "        print(i,\": \", data_ingredients.columns[i], \\\n",
    "              \"\\tmoyennne = \", data_ingredients[data_ingredients.columns[i]].mean())"
   ]
  },
  {
   "cell_type": "markdown",
   "metadata": {},
   "source": [
    "# Sommaire\n",
    "\n",
    "## 1. Apprentissage supervisé\n",
    "#### 1.1 Extraction des données pour la prédiction fromage\n",
    "#### 1.2 Classification avec le KNN\n",
    "#### 1.3 Classification avec le Perceptron\n",
    "\n",
    "## 2. Apprentissage non supervisé\n",
    "#### 2.1 Classification avec le KNN\n",
    "#### 2.2 Classification avec le Perceptron\n",
    "\n"
   ]
  },
  {
   "cell_type": "markdown",
   "metadata": {},
   "source": [
    "## 1. **Apprentissage supervisé**\n",
    "Dans cette partie, nous allons essayer de classifier des données en utilisant deux algorithmes de classification avec apprentissage supervisé : le KNN et le Perceptron. \n",
    "\n",
    "### <u>Problématique:</u> Peut-on prédire si un exemple est un fromage ou non, à partir des informations qui lui sont associées ?"
   ]
  },
  {
   "cell_type": "markdown",
   "metadata": {},
   "source": [
    "### 1.1 **Extraction des données pour la prédiction fromage**\n",
    "\n",
    "Tout d'abord, il faut préparer les données en leur donnant un label et en ne gardant que les attributs qui nous intéressent pour la classification. Pour cela :\n",
    "- nous construisons un dataset qui contient une partie des exemples labelisés comme étant des fromages (label 1) et l'autre partie des exemples labelisés comme n'étant pas des fromages (label -1)\n",
    "- nous enlevons certains attributs, en particulier les attributs catégoriels sous forme de chaîne de caractères."
   ]
  },
  {
   "cell_type": "code",
   "execution_count": 58,
   "metadata": {},
   "outputs": [
    {
     "name": "stdout",
     "output_type": "stream",
     "text": [
      "Index(['Code AGB', 'Code CIQUAL', 'Groupe d'aliment', 'Sous-groupe d'aliment',\n",
      "       'Nom du Produit en Français', 'LCI Name', 'code saison', 'code avion',\n",
      "       'Livraison', 'Matériau d'emballage', 'Préparation', 'DQR',\n",
      "       'Score unique EF 3.1', 'Changement climatique',\n",
      "       'Appauvrissement de la couche d'ozone', 'Rayonnements ionisants',\n",
      "       'Formation photochimique d'ozone', 'Particules fines',\n",
      "       'Effets toxicologiques sur la santé humaine : substances non-cancérogènes',\n",
      "       'Effets toxicologiques sur la santé humaine : substances cancérogènes',\n",
      "       'Acidification terrestre et eaux douces', 'Eutrophisation eaux douces',\n",
      "       'Eutrophisation marine', 'Eutrophisation terrestre',\n",
      "       'Écotoxicité pour écosystèmes aquatiques d'eau douce',\n",
      "       'Utilisation du sol', 'Épuisement des ressources eau',\n",
      "       'Épuisement des ressources énergétiques',\n",
      "       'Épuisement des ressources minéraux'],\n",
      "      dtype='object')\n"
     ]
    }
   ],
   "source": [
    "#lecture des données \n",
    "data_synthese = pd.read_csv(\"data/AGRIBALYSE3-synthese.csv\", sep=';')\n",
    "print(str(data_synthese.columns))\n",
    "data_synthese.drop(['Code AGB', 'Code CIQUAL', 'Nom du Produit en Français', 'LCI Name', 'code saison', 'code avion',\n",
    "       'Livraison', 'Matériau d\\'emballage'], axis=1, inplace = True)"
   ]
  },
  {
   "cell_type": "code",
   "execution_count": 59,
   "metadata": {},
   "outputs": [],
   "source": [
    "# labelisation des exemples \"fromages\"\n",
    "data_fromage = copy.deepcopy(data_synthese[data_synthese['Sous-groupe d\\'aliment'] == 'fromages'])\n",
    "data_fromage.drop(['Groupe d\\'aliment', 'Sous-groupe d\\'aliment', 'Préparation'], axis=1, inplace = True)\n",
    "Xnoms = data_fromage.columns\n",
    "data_fromage.to_numpy()\n",
    "label_fromage = np.asarray([1 for i in range(len(data_fromage))])"
   ]
  },
  {
   "cell_type": "code",
   "execution_count": 60,
   "metadata": {},
   "outputs": [],
   "source": [
    "# labelisation des exemples \"non fromages\"\n",
    "data_non_fromage = copy.deepcopy(data_synthese[data_synthese['Sous-groupe d\\'aliment'] != 'fromages'])\n",
    "data_non_fromage.drop(['Groupe d\\'aliment', 'Sous-groupe d\\'aliment', 'Préparation'], axis=1, inplace = True)\n",
    "data_non_fromage.to_numpy()\n",
    "label_non_fromage = np.asarray([-1 for i in range(len(data_non_fromage))])"
   ]
  },
  {
   "cell_type": "code",
   "execution_count": 61,
   "metadata": {},
   "outputs": [],
   "source": [
    "# on construit les dataset à partir de ces deux sous ensembles\n",
    "X = np.vstack((data_fromage, data_non_fromage)) # data\n",
    "Y = np.hstack((label_fromage, label_non_fromage)) #label\n",
    "#print(X.shape[1])"
   ]
  },
  {
   "cell_type": "markdown",
   "metadata": {},
   "source": [
    "### 1.2 **Classification avec KNN**\n",
    "\n",
    "Dans cette partie nous essayons de répondre à notre problématique sur les fromages en utilisant le classifieur KNN. Nous utilisons les données qui ont été extraites ci-dessus. Les boîtes qui suivent ont pour objectif de :\n",
    "- 1 : trouver le k optimal pour le KNN\n",
    "- 2 : étudier l'évolution de l'accuracy au cours de l'apprentissage\n",
    "- 3 : effectuer un test avec validation croisée en 10\n",
    "- 4 : mesurer le temps d'exécution nécessaire pour la classification"
   ]
  },
  {
   "cell_type": "markdown",
   "metadata": {},
   "source": [
    "### Recherche du k optimal pour la classification\n",
    "On recherche le k qui donne le meilleur taux de bonne classification (accuracy). Pour chaque valeur de k, on effectue une validation croisée pour obtenir des réultats plus fiables."
   ]
  },
  {
   "cell_type": "code",
   "execution_count": 30,
   "metadata": {},
   "outputs": [
    {
     "data": {
      "image/png": "[encoded data removed]",
      "text/plain": [
       "<Figure size 640x480 with 1 Axes>"
      ]
     },
     "metadata": {},
     "output_type": "display_data"
    },
    {
     "name": "stdout",
     "output_type": "stream",
     "text": [
      "Accuracy maximum pour k = 1\n"
     ]
    }
   ],
   "source": [
    "index = np.random.permutation(len(X))\n",
    "Xm = X[index]\n",
    "Ym = Y[index]\n",
    "\n",
    "dim = X.shape[1]\n",
    "accuracies_test = []\n",
    "nb_iter = 10 #nombre d'itérations de la validation croisée\n",
    "seuil_k = 1000 # seuil max des valeurs de k à regarder:\n",
    "valeurs_k = [k for k in range(1,seuil_k,2)] # toutes les valeurs de k à regarder\n",
    "\n",
    "for k in valeurs_k:\n",
    "    perf_test = [] #tableau des accuracies pour cette valeur de k\n",
    "\n",
    "    #validation croisée\n",
    "    for i in range(nb_iter):\n",
    "        Xapp,Yapp,Xtest,Ytest = ut.crossval_strat(Xm, Ym, nb_iter, i)\n",
    "        un_KNN = cl.ClassifierKNN(dim, k)\n",
    "        un_KNN.train(Xapp, Yapp)\n",
    "        perf_test.append(un_KNN.accuracy(Xtest, Ytest))\n",
    "        \n",
    "    acc_moy_test = statistics.mean(perf_test) # moyenne des accuracies de la validation croisée pour cette valeur de k\n",
    "    accuracies_test.append(acc_moy_test)\n",
    "\n",
    "\n",
    "# Traçage de la courbe des variations d'accuracy\n",
    "plt.plot(valeurs_k,accuracies_test)  \n",
    "plt.ylabel('Accuracy moyenne')\n",
    "plt.xlabel(\"k\")\n",
    "plt.show()\n",
    "\n",
    "print(\"Accuracy maximum pour k =\", valeurs_k[accuracies_test.index(max(accuracies_test))])"
   ]
  },
  {
   "cell_type": "markdown",
   "metadata": {},
   "source": [
    "### Evolution de l'accuracy au cours de l'apprentissage\n",
    "Nous entraînons le classifier KNN plusieurs fois de suite avec le même ensemble de données, pour voir si l'accuracy augmente."
   ]
  },
  {
   "cell_type": "code",
   "execution_count": 31,
   "metadata": {},
   "outputs": [
    {
     "data": {
      "image/png": "[encoded data removed]",
      "text/plain": [
       "<Figure size 640x480 with 1 Axes>"
      ]
     },
     "metadata": {},
     "output_type": "display_data"
    },
    {
     "name": "stdout",
     "output_type": "stream",
     "text": [
      "Accuracy moyenne apprentissage :  1.0\n",
      "Accuracy moyenne test :  0.9892430278884462\n"
     ]
    }
   ],
   "source": [
    "nb_iter = 10\n",
    "perf_app = []\n",
    "perf_test = []\n",
    "dim = X.shape[1]\n",
    "\n",
    "index = np.random.permutation(len(X)) # mélange des index\n",
    "Xm = X[index]\n",
    "Ym = Y[index]\n",
    "\n",
    "\n",
    "# réaliser une validation croisée \n",
    "for i in range(nb_iter):\n",
    "    Xapp,Yapp,Xtest,Ytest = ut.crossval_strat(Xm, Ym, nb_iter, i)\n",
    "    un_KNN = cl.ClassifierKNN(dim, 1)\n",
    "    un_KNN.train(Xapp, Yapp)\n",
    "    perf_app.append(un_KNN.accuracy(Xapp, Yapp))\n",
    "    perf_test.append(un_KNN.accuracy(Xtest, Ytest))\n",
    "    \n",
    "    \n",
    "# Traçage de la courbe des variations d'accuracy\n",
    "plt.plot(range(nb_iter),perf_app, perf_test)  \n",
    "plt.ylabel('Accuracy')\n",
    "plt.xlabel(\"Itération\")\n",
    "plt.legend(['perf_app','perf_test'])\n",
    "plt.show()\n",
    "\n",
    "#print(\"Accuracies apprentissage obtenues : \",perf_app)    \n",
    "#print(\"Accuracies test obtenues : \",perf_test)\n",
    "print(\"Accuracy moyenne apprentissage : \", statistics.mean(perf_app))\n",
    "print(\"Accuracy moyenne test : \", statistics.mean(perf_test))"
   ]
  },
  {
   "cell_type": "markdown",
   "metadata": {},
   "source": [
    "### Validation croisée en 10\n",
    "Cette étude permet de mesurer la capacité du KNN à généraliser sur de nouvelles données (données de test différentes des données d'apprentissage) en utilisant la méthode de la validation croisée."
   ]
  },
  {
   "cell_type": "code",
   "execution_count": 8,
   "metadata": {},
   "outputs": [
    {
     "data": {
      "image/png": "[encoded data removed]",
      "text/plain": [
       "<Figure size 432x288 with 1 Axes>"
      ]
     },
     "metadata": {
      "needs_background": "light"
     },
     "output_type": "display_data"
    },
    {
     "name": "stdout",
     "output_type": "stream",
     "text": [
      "Accuracy moyenne apprentissage :  1.0\n",
      "Accuracy moyenne test :  0.9888446215139443\n"
     ]
    }
   ],
   "source": [
    "nb_iter = 10\n",
    "perf_app = []\n",
    "perf_test = []\n",
    "dim = X.shape[1]\n",
    "\n",
    "index = np.random.permutation(len(X)) # mélange des index\n",
    "Xm = X[index]\n",
    "Ym = Y[index]\n",
    "\n",
    "# réaliser une validation croisée \n",
    "for i in range(nb_iter):\n",
    "    Xapp,Yapp,Xtest,Ytest = ut.crossval_strat(Xm, Ym, nb_iter, i)\n",
    "    un_KNN = cl.ClassifierKNN(dim, 1)\n",
    "    un_KNN.train(Xapp, Yapp)\n",
    "    perf_app.append(un_KNN.accuracy(Xapp, Yapp))\n",
    "    perf_test.append(un_KNN.accuracy(Xtest, Ytest))\n",
    "    \n",
    "    \n",
    "# Traçage de la courbe des variations d'accuracy\n",
    "plt.plot(range(nb_iter),perf_app, perf_test)  \n",
    "plt.ylabel('Accuracy')\n",
    "plt.xlabel(\"Itération\")\n",
    "plt.legend(['perf_app','perf_test'])\n",
    "plt.show()\n",
    "\n",
    "\n",
    "#print(\"Accuracies apprentissage obtenues : \",perf_app)    \n",
    "#print(\"Accuracies test obtenues : \",perf_test)\n",
    "print(\"Accuracy moyenne apprentissage : \", statistics.mean(perf_app))\n",
    "print(\"Accuracy moyenne test : \", statistics.mean(perf_test))"
   ]
  },
  {
   "cell_type": "markdown",
   "metadata": {},
   "source": [
    "### Temps d'exécution\n",
    "Etude du temps que le KNN met à s'entraîner puis à classifier"
   ]
  },
  {
   "cell_type": "code",
   "execution_count": 56,
   "metadata": {},
   "outputs": [
    {
     "name": "stdout",
     "output_type": "stream",
     "text": [
      "Accuracy moyenne apprentissage :  1.0\n",
      "Accuracy moyenne test :  0.9900398406374502\n",
      "Temps d'entraînement moyen :  1.7642974853515626e-06\n",
      "Temps de prédiction moyen :  0.672178077697754\n"
     ]
    }
   ],
   "source": [
    "import time\n",
    "\n",
    "nb_iter = 10\n",
    "perf_app = []\n",
    "perf_test = []\n",
    "train_time = []\n",
    "predict_time = []\n",
    "dim = X.shape[1]\n",
    "\n",
    "index = np.random.permutation(len(X)) # mélange des index\n",
    "Xm = X[index]\n",
    "Ym = Y[index]\n",
    "\n",
    "for i in range(nb_iter):\n",
    "    Xapp,Yapp,Xtest,Ytest = ut.crossval_strat(Xm, Ym, nb_iter, i)\n",
    "    un_KNN = cl.ClassifierKNN(dim, 1)\n",
    "\n",
    "    start_time = time.time()\n",
    "    un_KNN.train(Xapp, Yapp)\n",
    "    train_time.append(time.time() - start_time)\n",
    "\n",
    "    start_time = time.time()\n",
    "    perf_app.append(un_KNN.accuracy(Xapp, Yapp))\n",
    "    perf_test.append(un_KNN.accuracy(Xtest, Ytest))\n",
    "    predict_time.append(time.time() - start_time)\n",
    "\n",
    "#print(\"Accuracies apprentissage obtenues : \",perf_app)    \n",
    "#print(\"Accuracies test obtenues : \",perf_test)\n",
    "print(\"Accuracy moyenne apprentissage : \", statistics.mean(perf_app))\n",
    "print(\"Accuracy moyenne test : \", statistics.mean(perf_test))\n",
    "print(\"Temps d'entraînement moyen : \", statistics.mean(train_time))\n",
    "print(\"Temps de prédiction moyen : \", statistics.mean(predict_time))"
   ]
  },
  {
   "cell_type": "markdown",
   "metadata": {},
   "source": [
    "### **Conclusion pour le KNN**"
   ]
  },
  {
   "cell_type": "markdown",
   "metadata": {},
   "source": [
    "### 1.3 **Classification avec Perceptron**\n",
    "\n",
    "Dans cette partie nous essayons de répondre à notre problématique sur les fromages en utilisant le classifieur Perceptron. Nous utilisons les données qui ont été extraites ci-dessus. Les boîtes qui suivent ont pour objectif de :\n",
    "- 1 & 2 : étude de l'impact des initialisations différentes de w et la variation du learning rate\n",
    "- 3 : étudier l'évolution du coût au cours de l'apprentissage\n",
    "- 4 : effectuer un test avec validation croisée en 10\n",
    "- 5 : mesurer le temps d'exécution nécessaire pour la classification"
   ]
  },
  {
   "cell_type": "markdown",
   "metadata": {},
   "source": [
    "### Variation de l'accuracy en fonction du learning rate, avec poids initial  w = 0"
   ]
  },
  {
   "cell_type": "code",
   "execution_count": 62,
   "metadata": {},
   "outputs": [
    {
     "data": {
      "image/png": "[encoded data removed]",
      "text/plain": [
       "<Figure size 432x288 with 1 Axes>"
      ]
     },
     "metadata": {
      "needs_background": "light"
     },
     "output_type": "display_data"
    }
   ],
   "source": [
    "index = np.random.permutation(len(X))\n",
    "Xm = X[index]\n",
    "Ym = Y[index]\n",
    "\n",
    "accuracies = []\n",
    "accuracies_app = []\n",
    "acc_moy = []\n",
    "acc_moy_app = []\n",
    "nb_iter = 10\n",
    "valeurs_e = np.arange(0.01, 0.11, 0.01)\n",
    "dim = X.shape[1]\n",
    "\n",
    "#on fait varier le paramètre learning_rate\n",
    "for e in valeurs_e:\n",
    "    perf = []\n",
    "    perf_app = []\n",
    "    for i in range(nb_iter):\n",
    "        Xapp,Yapp,Xtest,Ytest = ut.crossval_strat(Xm, Ym, nb_iter, i)\n",
    "        perceptron = cl.ClassifierPerceptron(dim,e)\n",
    "        perceptron.train(Xapp, Yapp)\n",
    "        perf.append(perceptron.accuracy(Xtest, Ytest))\n",
    "        perf_app.append(perceptron.accuracy(Xapp, Yapp))\n",
    "    \n",
    "    acc_moy = statistics.mean(perf) #moyenne des accuracies de la validation croisée pour cette valeur de k\n",
    "    acc_moy_app = statistics.mean(perf_app) \n",
    "    accuracies.append(acc_moy)\n",
    "    accuracies_app.append(acc_moy_app)\n",
    "    #print(\"test e = \" + str(e) + \" Taux de bonne classification moyen : \" + str(acc_moy))\n",
    "    #print(\"app e = \" + str(e) + \" Taux de bonne classification moyen : \" + str(acc_moy_app))\n",
    "\n",
    "\n",
    "# Traçage de la courbe des variations d'accuracy en fonction de learning_rate\n",
    "plt.plot(valeurs_e,accuracies)\n",
    "plt.plot(valeurs_e,accuracies_app)\n",
    "plt.ylabel('Accuracy moyenne')\n",
    "plt.xlabel(\"valeur de learning_rate\")\n",
    "plt.legend(['accuracies_test','accuracies_app'])\n",
    "plt.show()"
   ]
  },
  {
   "cell_type": "markdown",
   "metadata": {},
   "source": [
    "### Variation de l'accuracy en fonction du learning rate, avec poids initial  w = aléatoire"
   ]
  },
  {
   "cell_type": "code",
   "execution_count": 67,
   "metadata": {},
   "outputs": [
    {
     "data": {
      "image/png": "[encoded data removed]",
      "text/plain": [
       "<Figure size 432x288 with 1 Axes>"
      ]
     },
     "metadata": {
      "needs_background": "light"
     },
     "output_type": "display_data"
    }
   ],
   "source": [
    "index = np.random.permutation(len(X))\n",
    "Xm = X[index]\n",
    "Ym = Y[index]\n",
    "\n",
    "accuracies = []\n",
    "accuracies_app = []\n",
    "acc_moy = []\n",
    "acc_moy_app = []\n",
    "nb_iter = 10\n",
    "valeurs_e = np.arange(0.01, 0.11, 0.01)\n",
    "dim = X.shape[1]\n",
    "\n",
    "#on fait varier le paramètre learning_rate\n",
    "for e in valeurs_e:\n",
    "    perf = []\n",
    "    perf_app = []\n",
    "    for i in range(nb_iter):\n",
    "        Xapp,Yapp,Xtest,Ytest = ut.crossval_strat(Xm, Ym, nb_iter, i)\n",
    "        perceptron = cl.ClassifierPerceptron(dim,e, False)\n",
    "        perceptron.train(Xapp, Yapp)\n",
    "        perf.append(perceptron.accuracy(Xtest, Ytest))\n",
    "        perf_app.append(perceptron.accuracy(Xapp, Yapp))\n",
    "    \n",
    "    acc_moy = statistics.mean(perf) #moyenne des accuracies de la validation croisée pour cette valeur de k\n",
    "    acc_moy_app = statistics.mean(perf_app) \n",
    "    accuracies.append(acc_moy)\n",
    "    accuracies_app.append(acc_moy_app)\n",
    "    #print(\"e = \" + str(e) + \" Taux de bonne classification moyen : \" + str(acc_moy))\n",
    "    #print(\"e = \" + str(e) + \" Taux de bonne classification moyen : \" + str(acc_moy_app))\n",
    "\n",
    "\n",
    "# Traçage de la courbe des variations d'accuracy en fonction de learning_rate\n",
    "plt.plot(valeurs_e ,accuracies)\n",
    "plt.plot(valeurs_e ,accuracies_app)\n",
    "plt.ylabel('Accuracy moyenne')\n",
    "plt.xlabel(\"valeur de learning_rate\")\n",
    "plt.legend(['accuracies_test','accuracies_app'])\n",
    "plt.show()"
   ]
  },
  {
   "cell_type": "markdown",
   "metadata": {},
   "source": [
    "### Etude de l'évolution du coût au cours de l'apprentissage\n",
    "Ce test permet d'étudier la vitesse de convergence de l'algorithme, à l'aide de la variation du coût au fil de l'apprentissage"
   ]
  },
  {
   "cell_type": "code",
   "execution_count": 70,
   "metadata": {},
   "outputs": [
    {
     "name": "stdout",
     "output_type": "stream",
     "text": [
      "Nb iterations réalisées:  100\n"
     ]
    },
    {
     "data": {
      "text/plain": [
       "<matplotlib.legend.Legend at 0x7f633865ff28>"
      ]
     },
     "execution_count": 70,
     "metadata": {},
     "output_type": "execute_result"
    },
    {
     "data": {
      "image/png": "[encoded data removed]",
      "text/plain": [
       "<Figure size 432x288 with 1 Axes>"
      ]
     },
     "metadata": {
      "needs_background": "light"
     },
     "output_type": "display_data"
    }
   ],
   "source": [
    "# étude de la variation des poids (on en a besoin pour calculer le coût)\n",
    "\n",
    "index = np.random.permutation(len(X)) # mélange des index\n",
    "Xm2 = X[index]\n",
    "Ym2 = Y[index]\n",
    "\n",
    "# Paramètres pour le perceptron:\n",
    "dim = X.shape[1]\n",
    "eps = 0.09    # learning rate\n",
    "poids_0 = False   # valeur initiale des poids à 0\n",
    "\n",
    "perceptron = cl.ClassifierPerceptron(dim, learning_rate=eps, init=poids_0)\n",
    "\n",
    "les_differences = perceptron.train(Xm2, Ym2, nb_max=100)\n",
    "print(\"Nb iterations réalisées: \", len(les_differences))\n",
    "\n",
    "allw2 = np.array(perceptron.get_allw()) \n",
    "\n",
    "# Tracé de l'évolution des w:\n",
    "plt.figure()\n",
    "for i in range (dim):\n",
    "    plt.plot(allw2[:,i])\n",
    "\n",
    "plt.title('Evolution des w au cours des itérations du perceptron')\n",
    "plt.xlabel('iterations')\n",
    "plt.legend(['w1','w2'])"
   ]
  },
  {
   "cell_type": "code",
   "execution_count": 71,
   "metadata": {},
   "outputs": [
    {
     "name": "stdout",
     "output_type": "stream",
     "text": [
      "min_cout: 2902.280962186106\n",
      " -> w: [-9.42988611e-05  7.83514221e-04  8.74833611e-04  6.44191123e-04\n",
      " -7.29323740e-04 -7.44167230e-04  2.79507749e-04  7.47491298e-04\n",
      " -3.64066510e-05 -6.94035303e-04 -3.33935457e-04  8.00005716e-04\n",
      " -5.33727422e-04 -2.62331267e-04  5.42194623e-04  2.71159128e-04\n",
      "  1.43187631e-05 -7.86969870e-04]\n"
     ]
    },
    {
     "data": {
      "image/png": "[encoded data removed]",
      "text/plain": [
       "<Figure size 432x288 with 1 Axes>"
      ]
     },
     "metadata": {
      "needs_background": "light"
     },
     "output_type": "display_data"
    }
   ],
   "source": [
    "# étude de la variation du coût\n",
    "\n",
    "# on considère les poids générés dans la boite précédente:\n",
    "allw2 = np.array(perceptron.get_allw()) \n",
    "\n",
    "# ------------------------  A COMPLETER :\n",
    "tabc = []\n",
    "for w in allw2:\n",
    "    cout = 0\n",
    "    for i in range(len(Xm2)):\n",
    "        score = np.dot(w, Xm2[i])\n",
    "        if score * Ym2[i] < 1:\n",
    "            cout += max(0, 1 - score * Ym2[i])\n",
    "    tabc.append(cout)\n",
    "\n",
    "print(\"min_cout: \" + str(min(tabc)))\n",
    "print(\" -> w: \" + str(allw2[tabc.index(min(tabc))]))\n",
    "plt.figure()\n",
    "plt.plot(tabc)\n",
    "plt.xlabel('Iterations')\n",
    "plt.ylabel('Coût')\n",
    "plt.title('Évolution du coût au cours de l\\'apprentissage')\n",
    "plt.show() "
   ]
  },
  {
   "cell_type": "markdown",
   "metadata": {},
   "source": [
    "### Validation croisée en 10"
   ]
  },
  {
   "cell_type": "code",
   "execution_count": 66,
   "metadata": {},
   "outputs": [
    {
     "name": "stdout",
     "output_type": "stream",
     "text": [
      "e = 0.09 Taux de bonne classification moyen : 0.9454183266932271\n",
      "e = 0.09 Taux de bonne classification moyen : 0.9459399823477493\n"
     ]
    },
    {
     "data": {
      "image/png": "[encoded data removed]",
      "text/plain": [
       "<Figure size 432x288 with 1 Axes>"
      ]
     },
     "metadata": {
      "needs_background": "light"
     },
     "output_type": "display_data"
    },
    {
     "name": "stdout",
     "output_type": "stream",
     "text": [
      "Accuracy moyenne apprentissage :  0.9459399823477493\n",
      "Accuracy moyenne test :  0.9454183266932271\n"
     ]
    }
   ],
   "source": [
    "index = np.random.permutation(len(X)) # mélange des index\n",
    "Xm = X[index]\n",
    "Ym = Y[index]\n",
    "\n",
    "nb_iter = 10\n",
    "e = 0.09\n",
    "perf = []\n",
    "perf_app = []\n",
    "dim = X.shape[1]\n",
    "\n",
    "for i in range(nb_iter):\n",
    "    Xapp,Yapp,Xtest,Ytest = ut.crossval_strat(Xm, Ym, nb_iter, i)\n",
    "    perceptron = cl.ClassifierPerceptron(dim,e,False)\n",
    "    perceptron.train(Xapp, Yapp)\n",
    "    perf.append(perceptron.accuracy(Xtest, Ytest))\n",
    "    perf_app.append(perceptron.accuracy(Xapp, Yapp))\n",
    "    \n",
    "acc_moy = statistics.mean(perf) #moyenne des accuracies de la validation croisée pour cette valeur de k\n",
    "acc_moy_app = statistics.mean(perf_app) \n",
    "\n",
    "print(\"e = \" + str(e) + \" Taux de bonne classification moyen : \" + str(acc_moy))\n",
    "print(\"e = \" + str(e) + \" Taux de bonne classification moyen : \" + str(acc_moy_app))\n",
    "\n",
    "\n",
    "plt.plot(np.arange(0, nb_iter),perf, perf_app)  \n",
    "plt.ylabel('Accuracy moyenne')\n",
    "plt.xlabel(\"valeur de l'itération\")\n",
    "plt.legend(['perf_test','perf_app'])\n",
    "plt.show()\n",
    "\n",
    "#print(\"Accuracies apprentissage obtenues : \",perf_app)    \n",
    "#print(\"Accuracies test obtenues : \",perf)\n",
    "print(\"Accuracy moyenne apprentissage : \", statistics.mean(perf_app))\n",
    "print(\"Accuracy moyenne test : \", statistics.mean(perf))"
   ]
  },
  {
   "cell_type": "markdown",
   "metadata": {},
   "source": [
    "### Temps d'exécution"
   ]
  },
  {
   "cell_type": "code",
   "execution_count": 57,
   "metadata": {},
   "outputs": [
    {
     "name": "stdout",
     "output_type": "stream",
     "text": [
      "Accuracy moyenne apprentissage :  0.9445719329214475\n",
      "Accuracy moyenne test :  0.9442231075697212\n",
      "Temps d'entraînement moyen :  16.57004318237305\n",
      "Temps de prédiction moyen :  0.003106236457824707\n"
     ]
    }
   ],
   "source": [
    "import time\n",
    "\n",
    "nb_iter = 10\n",
    "perf_app = []\n",
    "perf_test = []\n",
    "train_time = []\n",
    "predict_time = []\n",
    "dim = X.shape[1]\n",
    "\n",
    "index = np.random.permutation(len(X)) # mélange des index\n",
    "Xm = X[index]\n",
    "Ym = Y[index]\n",
    "\n",
    "for i in range(nb_iter):\n",
    "    Xapp,Yapp,Xtest,Ytest = ut.crossval_strat(Xm, Ym, nb_iter, i)\n",
    "    perceptron = cl.ClassifierPerceptron(dim,0.01, False)\n",
    "    start_time = time.time()\n",
    "    perceptron.train(Xapp, Yapp)\n",
    "    train_time.append(time.time() - start_time)\n",
    "\n",
    "    start_time = time.time()\n",
    "    perf_app.append(perceptron.accuracy(Xapp, Yapp))\n",
    "    perf_test.append(perceptron.accuracy(Xtest, Ytest))\n",
    "    predict_time.append(time.time() - start_time)\n",
    "\n",
    "#print(\"Accuracies apprentissage obtenues : \",perf_app)    \n",
    "#print(\"Accuracies test obtenues : \",perf_test)\n",
    "print(\"Accuracy moyenne apprentissage : \", statistics.mean(perf_app))\n",
    "print(\"Accuracy moyenne test : \", statistics.mean(perf_test))\n",
    "print(\"Temps d'entraînement moyen : \", statistics.mean(train_time))\n",
    "print(\"Temps de prédiction moyen : \", statistics.mean(predict_time))"
   ]
  },
  {
   "cell_type": "markdown",
   "metadata": {},
   "source": [
    "### Conclusion pour le Perceptron Biais"
   ]
  },
  {
   "cell_type": "markdown",
   "metadata": {},
   "source": [
    "## 2. **Apprentissage non supervisé**\n"
   ]
  },
  {
   "cell_type": "markdown",
   "metadata": {},
   "source": [
    "### <u>Problématique:</u> Peut-on catégoriser un groupe d'aliment en sous-groupe d'aliment et plus précisément les matières grasses?"
   ]
  },
  {
   "cell_type": "markdown",
   "metadata": {},
   "source": [
    "### 2.1 Classification Clustering Hiérarchique"
   ]
  },
  {
   "cell_type": "markdown",
   "metadata": {},
   "source": [
    "### Extraction des données"
   ]
  },
  {
   "cell_type": "code",
   "execution_count": 13,
   "metadata": {},
   "outputs": [],
   "source": [
    "X_ref= pd.read_csv(\"data/AGRIBALYSE3-synthese.csv\",sep=\";\")\n",
    "\n",
    "X = copy.deepcopy(X_ref[X_ref['Groupe d\\'aliment'] == 'matières grasses'])\n",
    "X_ref= copy.deepcopy(X)\n",
    "\n",
    "X.drop(['Code AGB', 'Code CIQUAL', 'Groupe d\\'aliment', 'Sous-groupe d\\'aliment', 'Nom du Produit en Français',\n",
    "        'LCI Name', 'code saison','code avion', 'Livraison', 'Matériau d\\'emballage', 'Préparation', 'DQR','Score unique EF 3.1',\n",
    "        'Changement climatique','Appauvrissement de la couche d\\'ozone','Rayonnements ionisants','Formation photochimique d\\'ozone','Particules fines',\n",
    "        'Acidification terrestre et eaux douces','Eutrophisation eaux douces','Eutrophisation marine',\n",
    "        'Eutrophisation terrestre','Écotoxicité pour écosystèmes aquatiques d\\'eau douce','Utilisation du sol'\n",
    "        ], axis=1, inplace = True)"
   ]
  },
  {
   "cell_type": "markdown",
   "metadata": {},
   "source": [
    "### Classification"
   ]
  },
  {
   "cell_type": "code",
   "execution_count": 14,
   "metadata": {},
   "outputs": [
    {
     "name": "stdout",
     "output_type": "stream",
     "text": [
      "Distance minimale trouvée entre [3, 4] = 0.0\n",
      "Distance minimale trouvée entre [5, 6] = 0.0\n",
      "Distance minimale trouvée entre [8, 9] = 0.0\n",
      "Distance minimale trouvée entre [10, 11] = 0.0\n",
      "Distance minimale trouvée entre [17, 29] = 0.0\n",
      "Distance minimale trouvée entre [19, 20] = 0.0\n",
      "Distance minimale trouvée entre [27, 28] = 0.0\n",
      "Distance minimale trouvée entre [34, 55] = 0.0\n",
      "Distance minimale trouvée entre [37, 38] = 0.0\n",
      "Distance minimale trouvée entre [39, 40] = 0.0\n",
      "Distance minimale trouvée entre [58, 59] = 0.0\n",
      "Distance minimale trouvée entre [61, 62] = 0.0\n",
      "Distance minimale trouvée entre [16, 57] = 0.0013491365729261194\n",
      "Distance minimale trouvée entre [45, 47] = 0.002879008290985356\n",
      "Distance minimale trouvée entre [1, 2] = 0.0031319225223431345\n",
      "Distance minimale trouvée entre [56, 68] = 0.003430253729336863\n",
      "Distance minimale trouvée entre [46, 48] = 0.0142461760895419\n",
      "Distance minimale trouvée entre [42, 51] = 0.014729432633811986\n",
      "Distance minimale trouvée entre [43, 44] = 0.01546283949061188\n",
      "Distance minimale trouvée entre [52, 53] = 0.016101259526187194\n",
      "Distance minimale trouvée entre [65, 75] = 0.0172563574834748\n",
      "Distance minimale trouvée entre [69, 72] = 0.024876609282679155\n",
      "Distance minimale trouvée entre [64, 76] = 0.026426159103329794\n",
      "Distance minimale trouvée entre [49, 54] = 0.02658004185763652\n",
      "Distance minimale trouvée entre [35, 36] = 0.03053029304787202\n",
      "Distance minimale trouvée entre [70, 71] = 0.03561602410363449\n",
      "Distance minimale trouvée entre [63, 66] = 0.04648220050705503\n",
      "Distance minimale trouvée entre [31, 33] = 0.05743031366091109\n",
      "Distance minimale trouvée entre [74, 78] = 0.0634707439394315\n",
      "Distance minimale trouvée entre [67, 82] = 0.07119201066633743\n",
      "Distance minimale trouvée entre [77, 79] = 0.07204623265280435\n",
      "Distance minimale trouvée entre [73, 84] = 0.07427196613546153\n",
      "Distance minimale trouvée entre [41, 81] = 0.07755332799142496\n",
      "Distance minimale trouvée entre [0, 88] = 0.07576964302408244\n",
      "Distance minimale trouvée entre [12, 13] = 0.08135110524301312\n",
      "Distance minimale trouvée entre [60, 90] = 0.08649039057349786\n",
      "Distance minimale trouvée entre [50, 80] = 0.09896486847273353\n",
      "Distance minimale trouvée entre [24, 25] = 0.10283184903633162\n",
      "Distance minimale trouvée entre [86, 87] = 0.1143084168481926\n",
      "Distance minimale trouvée entre [22, 93] = 0.1478711312597141\n",
      "Distance minimale trouvée entre [92, 94] = 0.15549189982402983\n",
      "Distance minimale trouvée entre [26, 95] = 0.15563481660238448\n",
      "Distance minimale trouvée entre [85, 96] = 0.16847819758776025\n",
      "Distance minimale trouvée entre [89, 91] = 0.17753344809452765\n",
      "Distance minimale trouvée entre [30, 97] = 0.22108223375511402\n",
      "Distance minimale trouvée entre [98, 100] = 0.21304701585625155\n",
      "Distance minimale trouvée entre [83, 99] = 0.23734588371970336\n",
      "Distance minimale trouvée entre [21, 32] = 0.26345676332117723\n",
      "Distance minimale trouvée entre [102, 103] = 0.2682198319394785\n",
      "Distance minimale trouvée entre [101, 104] = 0.3004713242194993\n",
      "Distance minimale trouvée entre [14, 18] = 0.42982003422459397\n",
      "Distance minimale trouvée entre [105, 106] = 0.5148001028749326\n",
      "Distance minimale trouvée entre [7, 107] = 0.6710973280465152\n",
      "Distance minimale trouvée entre [15, 108] = 1.1780246895622504\n",
      "Distance minimale trouvée entre [23, 109] = 1.4877441376670162\n"
     ]
    },
    {
     "data": {
      "image/png": "[encoded data removed]",
      "text/plain": [
       "<Figure size 2160x1080 with 1 Axes>"
      ]
     },
     "metadata": {
      "needs_background": "light"
     },
     "output_type": "display_data"
    }
   ],
   "source": [
    "clust.normalisation(X)\n",
    "start_time = time.time()\n",
    "res_centroid = clust.CHA(X,linkage='centroid',verbose=True,dendrogramme=True)\n",
    "\n",
    "tmp_centroide = time.time() - start_time"
   ]
  },
  {
   "cell_type": "code",
   "execution_count": 15,
   "metadata": {},
   "outputs": [
    {
     "name": "stdout",
     "output_type": "stream",
     "text": [
      "Distance minimale trouvée entre [3, 4] = 0.0\n",
      "Distance minimale trouvée entre [5, 6] = 0.0\n",
      "Distance minimale trouvée entre [8, 9] = 0.0\n",
      "Distance minimale trouvée entre [10, 11] = 0.0\n",
      "Distance minimale trouvée entre [17, 29] = 0.0\n",
      "Distance minimale trouvée entre [19, 20] = 0.0\n",
      "Distance minimale trouvée entre [27, 28] = 0.0\n",
      "Distance minimale trouvée entre [34, 55] = 0.0\n",
      "Distance minimale trouvée entre [37, 38] = 0.0\n",
      "Distance minimale trouvée entre [39, 40] = 0.0\n",
      "Distance minimale trouvée entre [58, 59] = 0.0\n",
      "Distance minimale trouvée entre [61, 62] = 0.0\n",
      "Distance minimale trouvée entre [16, 57] = 0.0013491365729261194\n",
      "Distance minimale trouvée entre [45, 47] = 0.002879008290985356\n",
      "Distance minimale trouvée entre [1, 2] = 0.0031319225223431345\n",
      "Distance minimale trouvée entre [56, 68] = 0.003771618275340048\n",
      "Distance minimale trouvée entre [46, 48] = 0.0142461760895419\n",
      "Distance minimale trouvée entre [42, 51] = 0.014729432633811986\n",
      "Distance minimale trouvée entre [43, 44] = 0.01546283949061188\n",
      "Distance minimale trouvée entre [52, 53] = 0.016101259526187194\n",
      "Distance minimale trouvée entre [65, 75] = 0.02008572828582776\n",
      "Distance minimale trouvée entre [49, 54] = 0.02658004185763652\n",
      "Distance minimale trouvée entre [35, 36] = 0.03053029304787202\n",
      "Distance minimale trouvée entre [69, 72] = 0.03302065648697469\n",
      "Distance minimale trouvée entre [64, 76] = 0.034981404719529915\n",
      "Distance minimale trouvée entre [70, 71] = 0.03666215543412735\n",
      "Distance minimale trouvée entre [63, 66] = 0.04648220050705503\n",
      "Distance minimale trouvée entre [31, 33] = 0.05743031366091109\n",
      "Distance minimale trouvée entre [74, 80] = 0.07360774155081679\n",
      "Distance minimale trouvée entre [67, 82] = 0.07497086382105381\n",
      "Distance minimale trouvée entre [12, 13] = 0.08135110524301312\n",
      "Distance minimale trouvée entre [41, 81] = 0.08258609163139315\n",
      "Distance minimale trouvée entre [0, 87] = 0.08993470753999068\n",
      "Distance minimale trouvée entre [77, 79] = 0.09876882583356711\n",
      "Distance minimale trouvée entre [24, 25] = 0.10283184903633162\n",
      "Distance minimale trouvée entre [73, 84] = 0.1031868673534478\n",
      "Distance minimale trouvée entre [50, 78] = 0.10462074016518261\n",
      "Distance minimale trouvée entre [60, 86] = 0.1073790587496819\n",
      "Distance minimale trouvée entre [89, 92] = 0.1655915609392864\n",
      "Distance minimale trouvée entre [22, 30] = 0.17358520717681739\n",
      "Distance minimale trouvée entre [85, 91] = 0.1752580642618333\n",
      "Distance minimale trouvée entre [26, 90] = 0.20031302391306707\n",
      "Distance minimale trouvée entre [88, 93] = 0.22416056850697133\n",
      "Distance minimale trouvée entre [21, 32] = 0.26345676332117723\n",
      "Distance minimale trouvée entre [94, 95] = 0.27026809552217346\n",
      "Distance minimale trouvée entre [97, 100] = 0.3062687098600898\n",
      "Distance minimale trouvée entre [14, 99] = 0.31181023974651356\n",
      "Distance minimale trouvée entre [83, 98] = 0.31480669327762356\n",
      "Distance minimale trouvée entre [96, 101] = 0.382040386702259\n",
      "Distance minimale trouvée entre [102, 103] = 0.4349364395559213\n",
      "Distance minimale trouvée entre [18, 105] = 0.6187509252334209\n",
      "Distance minimale trouvée entre [104, 106] = 0.7513550722501111\n",
      "Distance minimale trouvée entre [7, 107] = 0.8368648648531964\n",
      "Distance minimale trouvée entre [15, 23] = 1.2823127303288102\n",
      "Distance minimale trouvée entre [108, 109] = 1.7656090515221345\n"
     ]
    },
    {
     "data": {
      "image/png": "[encoded data removed]",
      "text/plain": [
       "<Figure size 2160x1080 with 1 Axes>"
      ]
     },
     "metadata": {
      "needs_background": "light"
     },
     "output_type": "display_data"
    }
   ],
   "source": [
    "start_time = time.time()\n",
    "res_centroid = clust.CHA(X,linkage='complete',verbose=True,dendrogramme=True)\n",
    "tmp_complete = time.time() - start_time"
   ]
  },
  {
   "cell_type": "code",
   "execution_count": 16,
   "metadata": {},
   "outputs": [
    {
     "name": "stdout",
     "output_type": "stream",
     "text": [
      "Distance minimale trouvée entre [3, 4] = 0.0\n",
      "Distance minimale trouvée entre [5, 6] = 0.0\n",
      "Distance minimale trouvée entre [8, 9] = 0.0\n",
      "Distance minimale trouvée entre [10, 11] = 0.0\n",
      "Distance minimale trouvée entre [17, 29] = 0.0\n",
      "Distance minimale trouvée entre [19, 20] = 0.0\n",
      "Distance minimale trouvée entre [27, 28] = 0.0\n",
      "Distance minimale trouvée entre [34, 55] = 0.0\n",
      "Distance minimale trouvée entre [37, 38] = 0.0\n",
      "Distance minimale trouvée entre [39, 40] = 0.0\n",
      "Distance minimale trouvée entre [58, 59] = 0.0\n",
      "Distance minimale trouvée entre [61, 62] = 0.0\n",
      "Distance minimale trouvée entre [16, 57] = 0.0013491365729261194\n",
      "Distance minimale trouvée entre [45, 47] = 0.002879008290985356\n",
      "Distance minimale trouvée entre [1, 2] = 0.0031319225223431345\n",
      "Distance minimale trouvée entre [56, 68] = 0.003338282781332383\n",
      "Distance minimale trouvée entre [46, 48] = 0.0142461760895419\n",
      "Distance minimale trouvée entre [42, 51] = 0.014729432633811986\n",
      "Distance minimale trouvée entre [43, 44] = 0.01546283949061188\n",
      "Distance minimale trouvée entre [52, 53] = 0.016101259526187194\n",
      "Distance minimale trouvée entre [69, 72] = 0.01695862341084524\n",
      "Distance minimale trouvée entre [65, 75] = 0.017937462072090057\n",
      "Distance minimale trouvée entre [64, 77] = 0.022364375927002057\n",
      "Distance minimale trouvée entre [49, 54] = 0.02658004185763652\n",
      "Distance minimale trouvée entre [35, 36] = 0.03053029304787202\n",
      "Distance minimale trouvée entre [70, 71] = 0.03437719986890304\n",
      "Distance minimale trouvée entre [76, 79] = 0.04045131324446818\n",
      "Distance minimale trouvée entre [63, 66] = 0.04648220050705503\n",
      "Distance minimale trouvée entre [78, 82] = 0.05273322872280657\n",
      "Distance minimale trouvée entre [0, 81] = 0.05328885585865442\n",
      "Distance minimale trouvée entre [74, 84] = 0.05702265013906041\n",
      "Distance minimale trouvée entre [31, 33] = 0.05743031366091109\n",
      "Distance minimale trouvée entre [73, 86] = 0.05744620132105788\n",
      "Distance minimale trouvée entre [83, 88] = 0.06343757424011792\n",
      "Distance minimale trouvée entre [80, 85] = 0.06395121210832128\n",
      "Distance minimale trouvée entre [41, 90] = 0.07106515626448463\n",
      "Distance minimale trouvée entre [67, 89] = 0.07424511219172866\n",
      "Distance minimale trouvée entre [91, 92] = 0.07783259343241777\n",
      "Distance minimale trouvée entre [12, 13] = 0.08135110524301312\n",
      "Distance minimale trouvée entre [60, 94] = 0.08209698062215605\n",
      "Distance minimale trouvée entre [50, 93] = 0.09543919796254954\n",
      "Distance minimale trouvée entre [24, 25] = 0.10283184903633162\n",
      "Distance minimale trouvée entre [22, 97] = 0.1207430358582878\n",
      "Distance minimale trouvée entre [26, 98] = 0.12121239356644706\n",
      "Distance minimale trouvée entre [87, 95] = 0.12301224164660866\n",
      "Distance minimale trouvée entre [96, 99] = 0.1383390975231482\n",
      "Distance minimale trouvée entre [30, 101] = 0.17358520717681739\n",
      "Distance minimale trouvée entre [100, 102] = 0.17665474940591003\n",
      "Distance minimale trouvée entre [32, 103] = 0.21837820465493485\n",
      "Distance minimale trouvée entre [21, 104] = 0.26345676332117723\n",
      "Distance minimale trouvée entre [14, 105] = 0.3081268615444788\n",
      "Distance minimale trouvée entre [18, 106] = 0.42982003422459397\n",
      "Distance minimale trouvée entre [7, 107] = 0.5115982865933044\n",
      "Distance minimale trouvée entre [15, 108] = 0.8174589030003306\n",
      "Distance minimale trouvée entre [23, 109] = 1.0451338336797296\n"
     ]
    },
    {
     "data": {
      "image/png": "[encoded data removed]",
      "text/plain": [
       "<Figure size 2160x1080 with 1 Axes>"
      ]
     },
     "metadata": {
      "needs_background": "light"
     },
     "output_type": "display_data"
    }
   ],
   "source": [
    "start_time = time.time()\n",
    "res_centroid = clust.CHA(X,linkage='simple',verbose=True,dendrogramme=True)\n",
    "tmp_simple = time.time() - start_time"
   ]
  },
  {
   "cell_type": "code",
   "execution_count": 17,
   "metadata": {},
   "outputs": [
    {
     "name": "stdout",
     "output_type": "stream",
     "text": [
      "Distance minimale trouvée entre [3, 4] = 0.0\n",
      "Distance minimale trouvée entre [5, 6] = 0.0\n",
      "Distance minimale trouvée entre [8, 9] = 0.0\n",
      "Distance minimale trouvée entre [10, 11] = 0.0\n",
      "Distance minimale trouvée entre [17, 29] = 0.0\n",
      "Distance minimale trouvée entre [19, 20] = 0.0\n",
      "Distance minimale trouvée entre [27, 28] = 0.0\n",
      "Distance minimale trouvée entre [34, 55] = 0.0\n",
      "Distance minimale trouvée entre [37, 38] = 0.0\n",
      "Distance minimale trouvée entre [39, 40] = 0.0\n",
      "Distance minimale trouvée entre [58, 59] = 0.0\n",
      "Distance minimale trouvée entre [61, 62] = 0.0\n",
      "Distance minimale trouvée entre [16, 57] = 0.0013491365729261194\n",
      "Distance minimale trouvée entre [45, 47] = 0.002879008290985356\n",
      "Distance minimale trouvée entre [1, 2] = 0.0031319225223431345\n",
      "Distance minimale trouvée entre [68, 56] = 0.0034827279460016044\n",
      "Distance minimale trouvée entre [46, 48] = 0.0142461760895419\n",
      "Distance minimale trouvée entre [42, 51] = 0.014729432633811986\n",
      "Distance minimale trouvée entre [43, 44] = 0.01546283949061188\n",
      "Distance minimale trouvée entre [52, 53] = 0.016101259526187194\n",
      "Distance minimale trouvée entre [65, 75] = 0.01901159517895891\n",
      "Distance minimale trouvée entre [69, 72] = 0.025013875518493517\n",
      "Distance minimale trouvée entre [49, 54] = 0.02658004185763652\n",
      "Distance minimale trouvée entre [64, 76] = 0.028015401197385846\n",
      "Distance minimale trouvée entre [35, 36] = 0.03053029304787202\n",
      "Distance minimale trouvée entre [70, 71] = 0.03567955792917284\n",
      "Distance minimale trouvée entre [63, 66] = 0.04648220050705503\n",
      "Distance minimale trouvée entre [31, 33] = 0.05743031366091109\n",
      "Distance minimale trouvée entre [74, 79] = 0.06542439417236992\n",
      "Distance minimale trouvée entre [77, 78] = 0.07217498937571333\n",
      "Distance minimale trouvée entre [67, 82] = 0.07448702940150372\n",
      "Distance minimale trouvée entre [0, 81] = 0.07877761730938292\n",
      "Distance minimale trouvée entre [73, 84] = 0.07958792836043226\n",
      "Distance minimale trouvée entre [41, 87] = 0.08023566814650765\n",
      "Distance minimale trouvée entre [12, 13] = 0.08135110524301312\n",
      "Distance minimale trouvée entre [60, 90] = 0.09473801968591897\n",
      "Distance minimale trouvée entre [50, 80] = 0.10002996906386608\n",
      "Distance minimale trouvée entre [24, 25] = 0.10283184903633162\n",
      "Distance minimale trouvée entre [88, 85] = 0.11830435576113799\n",
      "Distance minimale trouvée entre [22, 93] = 0.15316168012306247\n",
      "Distance minimale trouvée entre [89, 92] = 0.16366582067735957\n",
      "Distance minimale trouvée entre [94, 86] = 0.16673948603977579\n",
      "Distance minimale trouvée entre [26, 95] = 0.17190816245243848\n",
      "Distance minimale trouvée entre [96, 91] = 0.20543660143773404\n",
      "Distance minimale trouvée entre [30, 98] = 0.23675922621409623\n",
      "Distance minimale trouvée entre [99, 100] = 0.26210845321307163\n",
      "Distance minimale trouvée entre [21, 32] = 0.26345676332117723\n",
      "Distance minimale trouvée entre [101, 83] = 0.28883647828952963\n",
      "Distance minimale trouvée entre [103, 97] = 0.3029391682214174\n",
      "Distance minimale trouvée entre [14, 102] = 0.3099685506454962\n",
      "Distance minimale trouvée entre [18, 105] = 0.500801706634538\n",
      "Distance minimale trouvée entre [106, 104] = 0.5314395462987671\n",
      "Distance minimale trouvée entre [7, 107] = 0.7014191587494265\n",
      "Distance minimale trouvée entre [15, 108] = 1.1962598673426543\n",
      "Distance minimale trouvée entre [23, 109] = 1.503970870209618\n"
     ]
    },
    {
     "data": {
      "image/png": "[encoded data removed]",
      "text/plain": [
       "<Figure size 2160x1080 with 1 Axes>"
      ]
     },
     "metadata": {
      "needs_background": "light"
     },
     "output_type": "display_data"
    }
   ],
   "source": [
    "start_time = time.time()\n",
    "res_centroid = clust.CHA(X,linkage='average',verbose=True,dendrogramme=True)\n",
    "tmp_average = time.time() - start_time"
   ]
  },
  {
   "cell_type": "markdown",
   "metadata": {},
   "source": [
    "#### Analyse des résultats: \n",
    "Les dendogrammes des différents linkage de l'algorithme de clustering hiérarchique, nous indiquent 2 catégories principales dans le classement des matières grasses."
   ]
  },
  {
   "cell_type": "markdown",
   "metadata": {},
   "source": [
    "#### Temps d'exécution"
   ]
  },
  {
   "cell_type": "code",
   "execution_count": 25,
   "metadata": {},
   "outputs": [
    {
     "name": "stdout",
     "output_type": "stream",
     "text": [
      "temps d'exécution centroïde : 26.08559012413025s\n",
      "temps d'exécution complete : 80.36198687553406s\n",
      "temps d'exécution simple : 77.62487196922302s\n"
     ]
    }
   ],
   "source": [
    "print(\"temps d'exécution centroïde : \" + str(tmp_centroide) + \"s\")\n",
    "print(\"temps d'exécution complete : \" + str(tmp_complete) + \"s\")\n",
    "print(\"temps d'exécution simple : \" + str(tmp_simple) + \"s\")\n",
    "#print(\"temps d'exécution average\" + str(tmp_average))"
   ]
  },
  {
   "cell_type": "markdown",
   "metadata": {},
   "source": [
    "### 2.2 Classification avec K-means"
   ]
  },
  {
   "cell_type": "markdown",
   "metadata": {},
   "source": [
    "### Extraction des données"
   ]
  },
  {
   "cell_type": "code",
   "execution_count": 47,
   "metadata": {},
   "outputs": [],
   "source": [
    "X_ref= pd.read_csv(\"data/AGRIBALYSE3-synthese.csv\",sep=\";\")\n",
    "\n",
    "X = copy.deepcopy(X_ref[X_ref['Groupe d\\'aliment'] == 'matières grasses'])\n",
    "X_ref= copy.deepcopy(X)\n",
    "\n",
    "X.drop(['Code AGB', 'Code CIQUAL', 'Groupe d\\'aliment', 'Sous-groupe d\\'aliment', 'Nom du Produit en Français',\n",
    "        'LCI Name', 'code saison','code avion', 'Livraison', 'Matériau d\\'emballage', 'Préparation', 'DQR','Score unique EF 3.1',\n",
    "        'Changement climatique','Appauvrissement de la couche d\\'ozone','Rayonnements ionisants','Formation photochimique d\\'ozone','Particules fines',\n",
    "        'Acidification terrestre et eaux douces','Eutrophisation eaux douces','Eutrophisation marine',\n",
    "        'Eutrophisation terrestre','Écotoxicité pour écosystèmes aquatiques d\\'eau douce','Utilisation du sol'\n",
    "        ], axis=1, inplace = True)"
   ]
  },
  {
   "cell_type": "markdown",
   "metadata": {},
   "source": [
    "D'après le clustering hierarchique qui a déduit 2 catégories dans les matières grasses, on peut poser K=2"
   ]
  },
  {
   "cell_type": "markdown",
   "metadata": {},
   "source": [
    "### Classification"
   ]
  },
  {
   "cell_type": "code",
   "execution_count": 48,
   "metadata": {},
   "outputs": [
    {
     "name": "stdout",
     "output_type": "stream",
     "text": [
      "iteration 0 Inertie : 16666.14789244884 Difference: 16666.14789244884\n",
      "iteration 1 Inertie : 16220.109134847795 Difference: 446.0387576010453\n",
      "iteration 2 Inertie : 9678.282286452057 Difference: 6541.826848395738\n",
      "iteration 3 Inertie : 8039.436122986226 Difference: 1638.8461634658306\n",
      "iteration 4 Inertie : 7685.779070408224 Difference: 353.65705257800255\n",
      "iteration 5 Inertie : 7685.779070408224 Difference: 0.0\n",
      "\n",
      "index de dunn: 0.5427537895322111\n",
      "index de xie-beni: 32.60786127734864\n"
     ]
    },
    {
     "data": {
      "image/png": "[encoded data removed]",
      "text/plain": [
       "<Figure size 432x288 with 1 Axes>"
      ]
     },
     "metadata": {
      "needs_background": "light"
     },
     "output_type": "display_data"
    }
   ],
   "source": [
    "K = 2\n",
    "epsilon = 0.05\n",
    "iter_max = 1000\n",
    "\n",
    "start_time = time.time()\n",
    "les_centres, l_affectation = clust.kmoyennes(K, X, epsilon, iter_max)\n",
    "tmp_kmoyenne = time.time() - start_time\n",
    "\n",
    "idu = clust.dunn_index(les_centres, l_affectation)\n",
    "print(\"\\nindex de dunn: \" + str(idu))\n",
    "ix = clust.xie_beni_index(les_centres, l_affectation)\n",
    "print(\"index de xie-beni: \" + str(ix))\n",
    "\n",
    "clust.affiche_resultat(X,les_centres,l_affectation)"
   ]
  },
  {
   "cell_type": "code",
   "execution_count": 38,
   "metadata": {},
   "outputs": [
    {
     "name": "stdout",
     "output_type": "stream",
     "text": [
      "Classification pour K = 2\n",
      "\n",
      "--------------- CHANGEMENT DE K --------------\n",
      "\n",
      "huiles et graisses végétales\n",
      "huiles et graisses végétales\n",
      "huiles et graisses végétales\n",
      "\n",
      "--------------- CHANGEMENT DE K --------------\n",
      "\n",
      "beurres\n",
      "beurres\n",
      "beurres\n",
      "beurres\n",
      "beurres\n",
      "beurres\n",
      "beurres\n",
      "huiles et graisses végétales\n",
      "autres matières grasses\n",
      "autres matières grasses\n",
      "autres matières grasses\n",
      "autres matières grasses\n",
      "huiles et graisses végétales\n",
      "huiles et graisses végétales\n",
      "huiles et graisses végétales\n",
      "beurres\n",
      "huiles et graisses végétales\n",
      "huiles de poissons\n",
      "huiles de poissons\n",
      "huiles et graisses végétales\n",
      "huiles et graisses végétales\n",
      "huiles et graisses végétales\n",
      "huiles et graisses végétales\n",
      "huiles et graisses végétales\n",
      "huiles de poissons\n",
      "huiles de poissons\n",
      "huiles et graisses végétales\n",
      "huiles et graisses végétales\n",
      "huiles et graisses végétales\n",
      "huiles et graisses végétales\n",
      "huiles et graisses végétales\n",
      "autres matières grasses\n",
      "beurres\n",
      "beurres\n",
      "margarines\n",
      "margarines\n",
      "margarines\n",
      "margarines\n",
      "huiles et graisses végétales\n",
      "margarines\n",
      "margarines\n",
      "margarines\n",
      "margarines\n",
      "margarines\n",
      "margarines\n",
      "margarines\n",
      "margarines\n",
      "margarines\n",
      "margarines\n",
      "margarines\n",
      "margarines\n",
      "margarines\n",
      "autres matières grasses\n"
     ]
    }
   ],
   "source": [
    "print(\"Classification pour K = 2\")\n",
    "for k in l_affectation:\n",
    "    print()\n",
    "    print(\"--------------- CHANGEMENT DE K --------------\")\n",
    "    print()\n",
    "    for i in l_affectation[k]:\n",
    "        e = X_ref.iloc[i]\n",
    "        print(e['Sous-groupe d\\'aliment'])"
   ]
  },
  {
   "cell_type": "code",
   "execution_count": 39,
   "metadata": {},
   "outputs": [
    {
     "name": "stdout",
     "output_type": "stream",
     "text": [
      "iteration 0 Inertie : 16016.955563902377 Difference: 16016.955563902377\n",
      "iteration 1 Inertie : 14533.778787281997 Difference: 1483.1767766203793\n",
      "iteration 2 Inertie : 10465.943410308126 Difference: 4067.8353769738715\n",
      "iteration 3 Inertie : 7374.182525709551 Difference: 3091.760884598575\n",
      "iteration 4 Inertie : 6776.106569271909 Difference: 598.0759564376413\n",
      "iteration 5 Inertie : 6223.924841120814 Difference: 552.1817281510957\n",
      "iteration 6 Inertie : 4776.35588267432 Difference: 1447.5689584464935\n",
      "iteration 7 Inertie : 4776.35588267432 Difference: 0.0\n",
      "\n",
      "index de dunn: 0.11308838330540456\n",
      "index de xie-beni: 505.1909996344409\n"
     ]
    },
    {
     "data": {
      "image/png": "[encoded data removed]",
      "text/plain": [
       "<Figure size 432x288 with 1 Axes>"
      ]
     },
     "metadata": {
      "needs_background": "light"
     },
     "output_type": "display_data"
    }
   ],
   "source": [
    "K = 3\n",
    "epsilon = 0.05\n",
    "iter_max = 1000\n",
    "\n",
    "start_time = time.time()\n",
    "les_centres, l_affectation = clust.kmoyennes(K, X, epsilon, iter_max)\n",
    "tmp_kmoyenne = time.time() - start_time\n",
    "\n",
    "idu = clust.dunn_index(les_centres, l_affectation)\n",
    "print(\"\\nindex de dunn: \" + str(idu))\n",
    "ix = clust.xie_beni_index(les_centres, l_affectation)\n",
    "print(\"index de xie-beni: \" + str(ix))\n",
    "\n",
    "clust.affiche_resultat(X,les_centres,l_affectation)"
   ]
  },
  {
   "cell_type": "code",
   "execution_count": 40,
   "metadata": {},
   "outputs": [
    {
     "name": "stdout",
     "output_type": "stream",
     "text": [
      "Classification pour K = 3\n",
      "\n",
      "--------------- CHANGEMENT DE K --------------\n",
      "\n",
      "huiles et graisses végétales\n",
      "huiles et graisses végétales\n",
      "\n",
      "--------------- CHANGEMENT DE K --------------\n",
      "\n",
      "beurres\n",
      "beurres\n",
      "beurres\n",
      "beurres\n",
      "beurres\n",
      "beurres\n",
      "beurres\n",
      "huiles et graisses végétales\n",
      "huiles et graisses végétales\n",
      "beurres\n",
      "huiles et graisses végétales\n",
      "huiles et graisses végétales\n",
      "huiles et graisses végétales\n",
      "huiles et graisses végétales\n",
      "huiles et graisses végétales\n",
      "huiles et graisses végétales\n",
      "beurres\n",
      "beurres\n",
      "huiles et graisses végétales\n",
      "margarines\n",
      "\n",
      "--------------- CHANGEMENT DE K --------------\n",
      "\n",
      "autres matières grasses\n",
      "autres matières grasses\n",
      "autres matières grasses\n",
      "autres matières grasses\n",
      "huiles et graisses végétales\n",
      "huiles et graisses végétales\n",
      "huiles et graisses végétales\n",
      "huiles de poissons\n",
      "huiles de poissons\n",
      "huiles et graisses végétales\n",
      "huiles de poissons\n",
      "huiles de poissons\n",
      "huiles et graisses végétales\n",
      "huiles et graisses végétales\n",
      "huiles et graisses végétales\n",
      "huiles et graisses végétales\n",
      "autres matières grasses\n",
      "margarines\n",
      "margarines\n",
      "margarines\n",
      "margarines\n",
      "margarines\n",
      "margarines\n",
      "margarines\n",
      "margarines\n",
      "margarines\n",
      "margarines\n",
      "margarines\n",
      "margarines\n",
      "margarines\n",
      "margarines\n",
      "margarines\n",
      "margarines\n",
      "autres matières grasses\n"
     ]
    }
   ],
   "source": [
    "print(\"Classification pour K = 3\")\n",
    "for k in l_affectation:\n",
    "    print()\n",
    "    print(\"--------------- CHANGEMENT DE K --------------\")\n",
    "    print()\n",
    "    for i in l_affectation[k]:\n",
    "        e = X_ref.iloc[i]\n",
    "        print(e['Sous-groupe d\\'aliment'])"
   ]
  },
  {
   "cell_type": "code",
   "execution_count": 41,
   "metadata": {},
   "outputs": [
    {
     "name": "stdout",
     "output_type": "stream",
     "text": [
      "iteration 0 Inertie : 14561.843542534121 Difference: 14561.843542534121\n",
      "iteration 1 Inertie : 9378.191596603716 Difference: 5183.651945930405\n",
      "iteration 2 Inertie : 7098.9581592715585 Difference: 2279.2334373321573\n",
      "iteration 3 Inertie : 6449.175845168879 Difference: 649.7823141026793\n",
      "iteration 4 Inertie : 5920.680463783935 Difference: 528.4953813849443\n",
      "iteration 5 Inertie : 4522.95914229964 Difference: 1397.721321484295\n",
      "iteration 6 Inertie : 4479.264501477678 Difference: 43.69464082196191\n",
      "iteration 7 Inertie : 4460.9397969399915 Difference: 18.324704537686557\n",
      "iteration 8 Inertie : 4459.2302602653335 Difference: 1.7095366746580112\n",
      "iteration 9 Inertie : 4306.529500773573 Difference: 152.70075949176044\n",
      "iteration 10 Inertie : 3437.827930738559 Difference: 868.7015700350139\n",
      "iteration 11 Inertie : 3099.5862807737976 Difference: 338.24164996476156\n",
      "iteration 12 Inertie : 3099.5862807737976 Difference: 0.0\n",
      "\n",
      "index de dunn: 0.07639246659987489\n",
      "index de xie-beni: 832.1947281063902\n"
     ]
    },
    {
     "data": {
      "image/png": "[encoded data removed]",
      "text/plain": [
       "<Figure size 432x288 with 1 Axes>"
      ]
     },
     "metadata": {
      "needs_background": "light"
     },
     "output_type": "display_data"
    }
   ],
   "source": [
    "K = 4\n",
    "epsilon = 0.05\n",
    "iter_max = 1000\n",
    "\n",
    "start_time = time.time()\n",
    "les_centres, l_affectation = clust.kmoyennes(K, X, epsilon, iter_max)\n",
    "tmp_kmoyenne = time.time() - start_time\n",
    "\n",
    "idu = clust.dunn_index(les_centres, l_affectation)\n",
    "print(\"\\nindex de dunn: \" + str(idu))\n",
    "ix = clust.xie_beni_index(les_centres, l_affectation)\n",
    "print(\"index de xie-beni: \" + str(ix))\n",
    "\n",
    "clust.affiche_resultat(X,les_centres,l_affectation)"
   ]
  },
  {
   "cell_type": "code",
   "execution_count": 42,
   "metadata": {},
   "outputs": [
    {
     "name": "stdout",
     "output_type": "stream",
     "text": [
      "Classification pour K = 4\n",
      "\n",
      "--------------- CHANGEMENT DE K --------------\n",
      "\n",
      "huiles et graisses végétales\n",
      "huiles et graisses végétales\n",
      "huiles et graisses végétales\n",
      "\n",
      "--------------- CHANGEMENT DE K --------------\n",
      "\n",
      "beurres\n",
      "beurres\n",
      "beurres\n",
      "beurres\n",
      "beurres\n",
      "beurres\n",
      "beurres\n",
      "huiles et graisses végétales\n",
      "beurres\n",
      "huiles et graisses végétales\n",
      "huiles et graisses végétales\n",
      "huiles et graisses végétales\n",
      "huiles et graisses végétales\n",
      "huiles et graisses végétales\n",
      "huiles et graisses végétales\n",
      "huiles et graisses végétales\n",
      "huiles et graisses végétales\n",
      "beurres\n",
      "beurres\n",
      "huiles et graisses végétales\n",
      "margarines\n",
      "margarines\n",
      "margarines\n",
      "\n",
      "--------------- CHANGEMENT DE K --------------\n",
      "\n",
      "huiles et graisses végétales\n",
      "huiles et graisses végétales\n",
      "\n",
      "--------------- CHANGEMENT DE K --------------\n",
      "\n",
      "autres matières grasses\n",
      "autres matières grasses\n",
      "autres matières grasses\n",
      "autres matières grasses\n",
      "huiles et graisses végétales\n",
      "huiles de poissons\n",
      "huiles de poissons\n",
      "huiles de poissons\n",
      "huiles de poissons\n",
      "huiles et graisses végétales\n",
      "huiles et graisses végétales\n",
      "huiles et graisses végétales\n",
      "autres matières grasses\n",
      "margarines\n",
      "margarines\n",
      "margarines\n",
      "margarines\n",
      "margarines\n",
      "margarines\n",
      "margarines\n",
      "margarines\n",
      "margarines\n",
      "margarines\n",
      "margarines\n",
      "margarines\n",
      "margarines\n",
      "margarines\n",
      "autres matières grasses\n"
     ]
    }
   ],
   "source": [
    "print(\"Classification pour K = 4\")\n",
    "for k in l_affectation:\n",
    "    print()\n",
    "    print(\"--------------- CHANGEMENT DE K --------------\")\n",
    "    print()\n",
    "    for i in l_affectation[k]:\n",
    "        e = X_ref.iloc[i]\n",
    "        print(e['Sous-groupe d\\'aliment'])"
   ]
  },
  {
   "cell_type": "markdown",
   "metadata": {},
   "source": [
    "#### Analyse du résultat\n",
    "\n",
    "On sait que plus l'index de dunn est élevé, mieux est la séparation entre les clusters.\n",
    "Et contrairement à l'index de dunn, plus l'index de xie-beni est faible, plus compacts et mieux séparés sont les clusters.\n",
    "Cependant, en observant le sous-groupe de chaques exemples des différents clusters ci-dessous.\n",
    "On peut observer 4 sous-groupe différents.\n",
    "\n",
    "Cela peut s'expliquer par le fait que la description des différents exemples soient trop similaires et donc a du mal à être catégoriser."
   ]
  },
  {
   "cell_type": "markdown",
   "metadata": {},
   "source": [
    "#### Temps d'exécution"
   ]
  },
  {
   "cell_type": "code",
   "execution_count": 44,
   "metadata": {},
   "outputs": [
    {
     "name": "stdout",
     "output_type": "stream",
     "text": [
      "temps d'exécution k-moyenne: 0.32102417945861816s\n"
     ]
    }
   ],
   "source": [
    "print(\"temps d'exécution k-moyenne: \" + str(tmp_kmoyenne) + \"s\")"
   ]
  },
  {
   "cell_type": "code",
   "execution_count": null,
   "metadata": {},
   "outputs": [],
   "source": []
  },
  {
   "cell_type": "code",
   "execution_count": null,
   "metadata": {},
   "outputs": [],
   "source": []
  },
  {
   "cell_type": "code",
   "execution_count": null,
   "metadata": {},
   "outputs": [],
   "source": []
  }
 ],
 "metadata": {
  "kernelspec": {
   "display_name": "Python 3",
   "language": "python",
   "name": "python3"
  },
  "language_info": {
   "codemirror_mode": {
    "name": "ipython",
    "version": 3
   },
   "file_extension": ".py",
   "mimetype": "text/x-python",
   "name": "python",
   "nbconvert_exporter": "python",
   "pygments_lexer": "ipython3",
   "version": "3.7.3"
  }
 },
 "nbformat": 4,
 "nbformat_minor": 1
}
