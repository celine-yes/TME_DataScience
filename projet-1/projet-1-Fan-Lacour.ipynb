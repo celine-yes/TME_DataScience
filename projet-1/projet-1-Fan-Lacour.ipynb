{
 "cells": [
  {
   "cell_type": "markdown",
   "metadata": {},
   "source": [
    "IA & Data science (LU3IN0226) -- 2022-2023\n",
    "--------\n",
    "*&copy; Equipe pédagogique: Christophe Marsala, Olivier Schwander, Jean-Noël Vittaut.*"
   ]
  },
  {
   "cell_type": "markdown",
   "metadata": {},
   "source": [
    "<font size=\"+1\" color=\"RED\"><b>[Q]</b></font> <font size=\"+1\"><b>Indiquer dans la boîte ci-dessous vos noms et prénoms :</b></font>"
   ]
  },
  {
   "cell_type": "markdown",
   "metadata": {},
   "source": [
    "Mélissa Lacour & Céline Fan"
   ]
  },
  {
   "cell_type": "markdown",
   "metadata": {},
   "source": [
    "Ce projet peut être fait en binôme (d'un même groupe). Le nom de chaque membre du binôme doit être indiqué, et un seul rendu sur un des deux comptes Moodle doit être fait.\n",
    "\n",
    "Les groupes de plus de 2 personnes ne sont pas autorisés."
   ]
  },
  {
   "cell_type": "markdown",
   "metadata": {},
   "source": [
    "<font color=\"RED\" size=\"+1\"><b>[Q]</b></font> **Renommer ce fichier ipython**\n",
    "\n",
    "Tout en haut de cette page, cliquer sur <tt>projet-1</tt> et rajouter à la suite de <tt>projet-1</tt> les noms des membres du binômes séparés par un tiret.\n",
    "\n",
    "<font color=\"RED\" size=\"+1\">IMPORTANT: soumission de votre fichier final</font>\n",
    "\n",
    "**Nom à donner au notebook** : *projet-1-Nom1_Nom2.ipynb* \n",
    "- *Nom1* et *Nom2* : noms des membres du binôme\n",
    "\n",
    "**Le compte-rendu doit être rendu sur la page Moodle.**"
   ]
  },
  {
   "cell_type": "markdown",
   "metadata": {},
   "source": [
    "# Projet 1 - février-mars 2023\n",
    "\n",
    "\n",
    "<font size=\"+1\" color=\"RED\"><b>Date de rendu : jeudi 22 mars, 18h au plus tard</b></font>\n",
    "<br />\n",
    "\n",
    "\n",
    "Vous devez compléter ce notebook en rajoutant vos expérimentations avec vos algorithmes d'apprentissage sur les 2 datasets fournis dans le répertoire data-projet:\n",
    "- les données data-2D.pkl : données en 2 dimensions, 2 labels\n",
    "- les données data-5D.pkl : données en 5 dimensions, 2 labels\n",
    "\n",
    "## Travail à faire\n",
    "\n",
    "Pour chaque ensemble de données:\n",
    "- les 3 algorithmes d'apprentissage knn, perceptron et perceptron biais doivent être expérimentés et comparés (ATTENTION: on ne veut que des algorithmes que vous avez implémentés vous-même dans cette UE).\n",
    "- des résultats d'expérimentations doivent fournir une comparaison des taux de bonne classification apprentissage / test avec validation croisée en 10.\n",
    "- des courbes (coût, poids, variation d'accuracy,...) doivent être fournies pour étudier les modèles construits.\n",
    "\n",
    "Vos **expérimentations doivent être expliquées**... (utilisez des boîtes Markdown pour saisir vos explications):\n",
    "- une argumentation du type *\"pourquoi vous avez fait cette expérimentation\"* doit être fournie;\n",
    "- une analyse succincte du résultat fourni doit être aussi donnée.\n",
    "\n",
    "\n",
    "\n",
    "Par exemple (indicatif): choix de $k$ pour le knn:\n",
    "- argumentation : pour décider quelle peut être la valeur de $k$ optimale, on décide de tester plusieurs valeurs différentes et de comparer les taux de bonne classification sur la base de test obtenus.\n",
    "- analyse du résultat: on remarque que la valeur $k$ suivante fournie le meilleur résultat.\n",
    "- étude du temps d'exécution.\n",
    "\n",
    "\n",
    "## Travail à rendre\n",
    "Ce qui doit être rendu : un fichier archive (`.tar`, `.tgz`, ou `.zip` uniquement) contenant uniquement ce notebook, dans lequel vous avez reporté toutes les fonctions que vous utilisez : ce notebook doit pouvoir être exécuté sans autre apport (pensez à vous en assurer avant de le rendre). Les fichiers de données ne doivent pas être inclus dans votre archive !\n",
    "\n"
   ]
  },
  {
   "cell_type": "markdown",
   "metadata": {},
   "source": [
    "## Lecture des pickles\n",
    "\n"
   ]
  },
  {
   "cell_type": "code",
   "execution_count": 68,
   "metadata": {},
   "outputs": [
    {
     "name": "stdout",
     "output_type": "stream",
     "text": [
      "The autoreload extension is already loaded. To reload it, use:\n",
      "  %reload_ext autoreload\n"
     ]
    }
   ],
   "source": [
    "# Importation de librairies standards:\n",
    "import numpy as np\n",
    "import pandas as pd\n",
    "from datetime import datetime as dt\n",
    "import matplotlib.pyplot as plt\n",
    "import random\n",
    "%matplotlib inline\n",
    "\n",
    "import sys\n",
    "sys.path.append('../')   # iads doit être dans le répertoire père du répertoire courant !\n",
    "\n",
    "# Importation de la librairie iads\n",
    "import iads as iads\n",
    "\n",
    "# importation de Classifiers\n",
    "from iads import Classifiers as classif\n",
    "\n",
    "# importation de utils\n",
    "from iads import utils as ut\n",
    "\n",
    "# Importation de la librairie pickle\n",
    "import pickle as pkl\n",
    "\n",
    "%load_ext autoreload\n",
    "%autoreload 2\n",
    "\n",
    "# lecture des donnéees en dimension 2 dans un dataframe pandas\n",
    "data2D = pkl.load(open('data-projet/data-2D.pkl', 'rb')) \n",
    "X2D = np.array(data2D[['x1', 'x2']], dtype=float) # conversion de type pour une meilleure compatibilité\n",
    "Y2D = np.array(data2D['label'], dtype=float)\n",
    "\n",
    "\n",
    "# pour les données en dimension 5, la méthode est la même, modifier seulement les noms des colonnes\n",
    "data5D = pkl.load(open('data-projet/data-5D.pkl', 'rb')) \n",
    "X5D = np.array(data5D[['x1', 'x2','x3', 'x4', 'x5']], dtype=float) # conversion de type pour une meilleure compatibilité\n",
    "Y5D = np.array(data5D['label'], dtype=float)"
   ]
  },
  {
   "cell_type": "code",
   "execution_count": 31,
   "metadata": {},
   "outputs": [
    {
     "data": {
      "text/html": [
       "<div>\n",
       "<style scoped>\n",
       "    .dataframe tbody tr th:only-of-type {\n",
       "        vertical-align: middle;\n",
       "    }\n",
       "\n",
       "    .dataframe tbody tr th {\n",
       "        vertical-align: top;\n",
       "    }\n",
       "\n",
       "    .dataframe thead th {\n",
       "        text-align: right;\n",
       "    }\n",
       "</style>\n",
       "<table border=\"1\" class=\"dataframe\">\n",
       "  <thead>\n",
       "    <tr style=\"text-align: right;\">\n",
       "      <th></th>\n",
       "      <th>x1</th>\n",
       "      <th>x2</th>\n",
       "      <th>label</th>\n",
       "    </tr>\n",
       "  </thead>\n",
       "  <tbody>\n",
       "    <tr>\n",
       "      <th>0</th>\n",
       "      <td>0.830557</td>\n",
       "      <td>-2.250314</td>\n",
       "      <td>-1</td>\n",
       "    </tr>\n",
       "    <tr>\n",
       "      <th>1</th>\n",
       "      <td>0.627488</td>\n",
       "      <td>-2.533405</td>\n",
       "      <td>-1</td>\n",
       "    </tr>\n",
       "    <tr>\n",
       "      <th>2</th>\n",
       "      <td>-1.279837</td>\n",
       "      <td>-1.630564</td>\n",
       "      <td>-1</td>\n",
       "    </tr>\n",
       "    <tr>\n",
       "      <th>3</th>\n",
       "      <td>2.002088</td>\n",
       "      <td>-3.415239</td>\n",
       "      <td>-1</td>\n",
       "    </tr>\n",
       "    <tr>\n",
       "      <th>4</th>\n",
       "      <td>3.141847</td>\n",
       "      <td>-0.376081</td>\n",
       "      <td>-1</td>\n",
       "    </tr>\n",
       "  </tbody>\n",
       "</table>\n",
       "</div>"
      ],
      "text/plain": [
       "         x1        x2  label\n",
       "0  0.830557 -2.250314     -1\n",
       "1  0.627488 -2.533405     -1\n",
       "2 -1.279837 -1.630564     -1\n",
       "3  2.002088 -3.415239     -1\n",
       "4  3.141847 -0.376081     -1"
      ]
     },
     "execution_count": 31,
     "metadata": {},
     "output_type": "execute_result"
    }
   ],
   "source": [
    "data2D[0:5]"
   ]
  },
  {
   "cell_type": "code",
   "execution_count": 32,
   "metadata": {},
   "outputs": [
    {
     "data": {
      "text/html": [
       "<div>\n",
       "<style scoped>\n",
       "    .dataframe tbody tr th:only-of-type {\n",
       "        vertical-align: middle;\n",
       "    }\n",
       "\n",
       "    .dataframe tbody tr th {\n",
       "        vertical-align: top;\n",
       "    }\n",
       "\n",
       "    .dataframe thead th {\n",
       "        text-align: right;\n",
       "    }\n",
       "</style>\n",
       "<table border=\"1\" class=\"dataframe\">\n",
       "  <thead>\n",
       "    <tr style=\"text-align: right;\">\n",
       "      <th></th>\n",
       "      <th>x1</th>\n",
       "      <th>x2</th>\n",
       "      <th>x3</th>\n",
       "      <th>x4</th>\n",
       "      <th>x5</th>\n",
       "      <th>label</th>\n",
       "    </tr>\n",
       "  </thead>\n",
       "  <tbody>\n",
       "    <tr>\n",
       "      <th>0</th>\n",
       "      <td>-0.472352</td>\n",
       "      <td>-0.035994</td>\n",
       "      <td>0.572799</td>\n",
       "      <td>2.017446</td>\n",
       "      <td>-1.865967</td>\n",
       "      <td>-1</td>\n",
       "    </tr>\n",
       "    <tr>\n",
       "      <th>1</th>\n",
       "      <td>1.993913</td>\n",
       "      <td>0.984667</td>\n",
       "      <td>-1.180237</td>\n",
       "      <td>1.460067</td>\n",
       "      <td>-0.195743</td>\n",
       "      <td>-1</td>\n",
       "    </tr>\n",
       "    <tr>\n",
       "      <th>2</th>\n",
       "      <td>0.923188</td>\n",
       "      <td>1.194008</td>\n",
       "      <td>0.065319</td>\n",
       "      <td>0.909784</td>\n",
       "      <td>0.832256</td>\n",
       "      <td>-1</td>\n",
       "    </tr>\n",
       "    <tr>\n",
       "      <th>3</th>\n",
       "      <td>2.540148</td>\n",
       "      <td>-0.427836</td>\n",
       "      <td>-0.113014</td>\n",
       "      <td>3.257095</td>\n",
       "      <td>-1.689755</td>\n",
       "      <td>-1</td>\n",
       "    </tr>\n",
       "    <tr>\n",
       "      <th>4</th>\n",
       "      <td>4.331413</td>\n",
       "      <td>0.590868</td>\n",
       "      <td>-1.105335</td>\n",
       "      <td>4.475987</td>\n",
       "      <td>-1.790176</td>\n",
       "      <td>-1</td>\n",
       "    </tr>\n",
       "  </tbody>\n",
       "</table>\n",
       "</div>"
      ],
      "text/plain": [
       "         x1        x2        x3        x4        x5  label\n",
       "0 -0.472352 -0.035994  0.572799  2.017446 -1.865967     -1\n",
       "1  1.993913  0.984667 -1.180237  1.460067 -0.195743     -1\n",
       "2  0.923188  1.194008  0.065319  0.909784  0.832256     -1\n",
       "3  2.540148 -0.427836 -0.113014  3.257095 -1.689755     -1\n",
       "4  4.331413  0.590868 -1.105335  4.475987 -1.790176     -1"
      ]
     },
     "execution_count": 32,
     "metadata": {},
     "output_type": "execute_result"
    }
   ],
   "source": [
    "data5D[0:5]"
   ]
  },
  {
   "cell_type": "code",
   "execution_count": 33,
   "metadata": {},
   "outputs": [
    {
     "data": {
      "text/plain": [
       "array([[ 0.83055692, -2.25031368],\n",
       "       [ 0.62748844, -2.53340502],\n",
       "       [-1.27983681, -1.63056446],\n",
       "       [ 2.00208794, -3.41523902],\n",
       "       [ 3.14184699, -0.37608089]])"
      ]
     },
     "execution_count": 33,
     "metadata": {},
     "output_type": "execute_result"
    }
   ],
   "source": [
    "X2D[0:5]"
   ]
  },
  {
   "cell_type": "code",
   "execution_count": 34,
   "metadata": {},
   "outputs": [
    {
     "data": {
      "text/plain": [
       "array([[-0.4723522 , -0.03599385,  0.57279854,  2.01744639, -1.86596742],\n",
       "       [ 1.9939134 ,  0.9846668 , -1.18023654,  1.46006741, -0.19574327],\n",
       "       [ 0.92318832,  1.19400787,  0.06531872,  0.90978449,  0.83225595],\n",
       "       [ 2.54014784, -0.42783646, -0.11301444,  3.2570952 , -1.68975456],\n",
       "       [ 4.33141251,  0.59086794, -1.10533473,  4.47598742, -1.79017634]])"
      ]
     },
     "execution_count": 34,
     "metadata": {},
     "output_type": "execute_result"
    }
   ],
   "source": [
    "X5D[0:5]"
   ]
  },
  {
   "cell_type": "code",
   "execution_count": 11,
   "metadata": {},
   "outputs": [
    {
     "data": {
      "text/plain": [
       "array([-1., -1., -1., -1., -1.])"
      ]
     },
     "execution_count": 11,
     "metadata": {},
     "output_type": "execute_result"
    }
   ],
   "source": [
    "Y2D[0:5]"
   ]
  },
  {
   "cell_type": "code",
   "execution_count": 35,
   "metadata": {},
   "outputs": [
    {
     "data": {
      "text/plain": [
       "array([-1., -1., -1., -1., -1.])"
      ]
     },
     "execution_count": 35,
     "metadata": {},
     "output_type": "execute_result"
    }
   ],
   "source": [
    "Y5D[0:5]"
   ]
  },
  {
   "cell_type": "markdown",
   "metadata": {},
   "source": [
    "Voici la classe abstraite Classifier:"
   ]
  },
  {
   "cell_type": "code",
   "execution_count": 12,
   "metadata": {},
   "outputs": [],
   "source": [
    "class Classifier:\n",
    "    \"\"\" Classe (abstraite) pour représenter un classifieur\n",
    "        Attention: cette classe est ne doit pas être instanciée.\n",
    "    \"\"\"\n",
    "    \n",
    "    def __init__(self, input_dimension):\n",
    "        \"\"\" Constructeur de Classifier\n",
    "            Argument:\n",
    "                - intput_dimension (int) : dimension de la description des exemples\n",
    "            Hypothèse : input_dimension > 0\n",
    "        \"\"\"\n",
    "        raise NotImplementedError(\"Please Implement this method\")\n",
    "        \n",
    "    def train(self, desc_set, label_set):\n",
    "        \"\"\" Permet d'entrainer le modele sur l'ensemble donné\n",
    "            desc_set: ndarray avec des descriptions\n",
    "            label_set: ndarray avec les labels correspondants\n",
    "            Hypothèse: desc_set et label_set ont le même nombre de lignes\n",
    "        \"\"\"        \n",
    "        raise NotImplementedError(\"Please Implement this method\")\n",
    "    \n",
    "    def score(self,x):\n",
    "        \"\"\" rend le score de prédiction sur x (valeur réelle)\n",
    "            x: une description\n",
    "        \"\"\"\n",
    "        raise NotImplementedError(\"Please Implement this method\")\n",
    "    \n",
    "    def predict(self, x):\n",
    "        \"\"\" rend la prediction sur x (soit -1 ou soit +1)\n",
    "            x: une description\n",
    "        \"\"\"\n",
    "        raise NotImplementedError(\"Please Implement this method\")\n",
    "\n",
    "    def accuracy(self, desc_set, label_set):\n",
    "        \"\"\" Permet de calculer la qualité du système sur un dataset donné\n",
    "            desc_set: ndarray avec des descriptions\n",
    "            label_set: ndarray avec les labels correspondants\n",
    "            Hypothèse: desc_set et label_set ont le même nombre de lignes\n",
    "        \"\"\"\n",
    "        cpt_ok = 0\n",
    "        for i in range (0, len(desc_set)):\n",
    "            if (self.predict(desc_set[i]) == label_set[i]):\n",
    "                cpt_ok += 1\n",
    "        \n",
    "        return cpt_ok/len(label_set)"
   ]
  },
  {
   "cell_type": "markdown",
   "metadata": {},
   "source": [
    "## Etude de la classe ClassifierKNN:"
   ]
  },
  {
   "cell_type": "code",
   "execution_count": 56,
   "metadata": {},
   "outputs": [],
   "source": [
    "class ClassifierKNN(Classifier):\n",
    "    \"\"\" Classe pour représenter un classifieur par K plus proches voisins.\n",
    "        Cette classe hérite de la classe Classifier\n",
    "    \"\"\"\n",
    "\n",
    "    # ATTENTION : il faut compléter cette classe avant de l'utiliser !\n",
    "    \n",
    "    def __init__(self, input_dimension, k):\n",
    "        \"\"\" Constructeur de Classifier\n",
    "            Argument:\n",
    "                - intput_dimension (int) : dimension d'entrée des exemples\n",
    "                - k (int) : nombre de voisins à considérer\n",
    "            Hypothèse : input_dimension > 0\n",
    "        \"\"\"\n",
    "        self.input_dimension = input_dimension\n",
    "        self.k = k\n",
    "        \n",
    "        \n",
    "    def score(self,x):\n",
    "        \"\"\" rend la proportion de +1 parmi les k ppv de x (valeur réelle)\n",
    "            x: une description : un ndarray\n",
    "        \"\"\"\n",
    "        #liste contenant la distance entre x et toutes les valeurs de desc_set\n",
    "        dist = np.linalg.norm(self.desc_set - x, axis=1)\n",
    "        \n",
    "        #liste contenant la liste des arguments de dist trié par ordre croissant\n",
    "        arg_dist = np.argsort(dist)\n",
    "        \n",
    "        #nombre de label == 1\n",
    "        #score = np.sum(self.label_set[arg_dist[:self.k]] == 1)\n",
    "        score = np.sum(np.allclose(self.label_set[arg_dist[:self.k]],1))\n",
    "        \n",
    "        return 2 * (score/self.k -.5)\n",
    "\n",
    "    \n",
    "    def predict(self, x):\n",
    "        \"\"\" rend la prediction sur x (-1 ou +1)\n",
    "            x: une description : un ndarray\n",
    "        \"\"\"\n",
    "        if (self.score(x) < 0):\n",
    "            return -1\n",
    "        else:\n",
    "            return 1\n",
    "    \n",
    "\n",
    "    def train(self, desc_set, label_set):\n",
    "        \"\"\" Permet d'entrainer le modele sur l'ensemble donné\n",
    "            desc_set: ndarray avec des descriptions\n",
    "            label_set: ndarray avec les labels correspondants\n",
    "            Hypothèse: desc_set et label_set ont le même nombre de lignes\n",
    "        \"\"\"        \n",
    "        self.desc_set = desc_set\n",
    "        self.label_set = label_set\n",
    "        "
   ]
  },
  {
   "cell_type": "markdown",
   "metadata": {},
   "source": [
    "### Tests du k optimal pour le classifier ClassifierKNN sur une base de test 2D:"
   ]
  },
  {
   "cell_type": "markdown",
   "metadata": {},
   "source": [
    "argumentation : pour décider quelle peut être la valeur de $k$ optimale, on décide de tester plusieurs valeurs différentes et de comparer les taux de bonne classification sur la base de test obtenus."
   ]
  },
  {
   "cell_type": "code",
   "execution_count": 81,
   "metadata": {},
   "outputs": [
    {
     "name": "stdout",
     "output_type": "stream",
     "text": [
      "Accuracy pour  1 : 1.0\n",
      "Accuracy pour  3 : 0.5\n",
      "Accuracy pour  5 : 0.5\n",
      "Accuracy pour  7 : 0.5\n",
      "Accuracy pour  9 : 0.5\n",
      "Accuracy pour  11 : 0.5\n",
      "Accuracy pour  13 : 0.5\n",
      "Accuracy pour  15 : 0.5\n",
      "Accuracy pour  17 : 0.5\n",
      "Accuracy pour  19 : 0.5\n",
      "Accuracy pour  21 : 0.5\n",
      "Accuracy pour  23 : 0.5\n",
      "Accuracy pour  25 : 0.5\n",
      "Accuracy pour  27 : 0.5\n",
      "Accuracy pour  29 : 0.5\n",
      "Accuracy pour  31 : 0.5\n",
      "Accuracy pour  33 : 0.5\n",
      "Accuracy pour  35 : 0.5\n",
      "Accuracy pour  37 : 0.5\n",
      "Accuracy pour  39 : 0.5\n",
      "Accuracy pour  41 : 0.5\n",
      "Accuracy pour  43 : 0.5\n",
      "Accuracy pour  45 : 0.5\n",
      "Accuracy pour  47 : 0.5\n",
      "Accuracy pour  49 : 0.5\n",
      "Accuracy pour  51 : 0.5\n",
      "Accuracy pour  53 : 0.5\n",
      "Accuracy pour  55 : 0.5\n",
      "Accuracy pour  57 : 0.5\n",
      "Accuracy pour  59 : 0.5\n",
      "Accuracy pour  61 : 0.5\n",
      "Accuracy pour  63 : 0.5\n",
      "Accuracy pour  65 : 0.5\n",
      "Accuracy pour  67 : 0.5\n",
      "Accuracy pour  69 : 0.5\n",
      "Accuracy pour  71 : 0.5\n",
      "Accuracy pour  73 : 0.5\n",
      "Accuracy pour  75 : 0.5\n",
      "Accuracy pour  77 : 0.5\n",
      "Accuracy pour  79 : 0.5\n",
      "Accuracy pour  81 : 0.5\n",
      "Accuracy pour  83 : 0.5\n",
      "Accuracy pour  85 : 0.5\n",
      "Accuracy pour  87 : 0.5\n",
      "Accuracy pour  89 : 0.5\n",
      "Accuracy pour  91 : 0.5\n",
      "Accuracy pour  93 : 0.5\n",
      "Accuracy pour  95 : 0.5\n",
      "Accuracy pour  97 : 0.5\n",
      "Accuracy pour  99 : 0.5\n",
      "Accuracy pour  101 : 0.5\n",
      "Accuracy pour  103 : 0.5\n",
      "Accuracy pour  105 : 0.5\n",
      "Accuracy pour  107 : 0.5\n",
      "Accuracy pour  109 : 0.5\n",
      "Accuracy pour  111 : 0.5\n",
      "Accuracy pour  113 : 0.5\n",
      "Accuracy pour  115 : 0.5\n",
      "Accuracy pour  117 : 0.5\n",
      "Accuracy pour  119 : 0.5\n",
      "Accuracy pour  121 : 0.5\n",
      "Accuracy pour  123 : 0.5\n",
      "Accuracy pour  125 : 0.5\n",
      "Accuracy pour  127 : 0.5\n",
      "Accuracy pour  129 : 0.5\n",
      "Accuracy pour  131 : 0.5\n",
      "Accuracy pour  133 : 0.5\n",
      "Accuracy pour  135 : 0.5\n",
      "Accuracy pour  137 : 0.5\n",
      "Accuracy pour  139 : 0.5\n",
      "Accuracy pour  141 : 0.5\n",
      "Accuracy pour  143 : 0.5\n",
      "Accuracy pour  145 : 0.5\n",
      "Accuracy pour  147 : 0.5\n",
      "Accuracy pour  149 : 0.5\n",
      "Accuracy pour  151 : 0.5\n",
      "Accuracy pour  153 : 0.5\n",
      "Accuracy pour  155 : 0.5\n",
      "Accuracy pour  157 : 0.5\n",
      "Accuracy pour  159 : 0.5\n",
      "Accuracy pour  161 : 0.5\n",
      "Accuracy pour  163 : 0.5\n",
      "Accuracy pour  165 : 0.5\n",
      "Accuracy pour  167 : 0.5\n",
      "Accuracy pour  169 : 0.5\n",
      "Accuracy pour  171 : 0.5\n",
      "Accuracy pour  173 : 0.5\n",
      "Accuracy pour  175 : 0.5\n",
      "Accuracy pour  177 : 0.5\n",
      "Accuracy pour  179 : 0.5\n",
      "Accuracy pour  181 : 0.5\n",
      "Accuracy pour  183 : 0.5\n",
      "Accuracy pour  185 : 0.5\n",
      "Accuracy pour  187 : 0.5\n",
      "Accuracy pour  189 : 0.5\n",
      "Accuracy pour  191 : 0.5\n",
      "Accuracy pour  193 : 0.5\n",
      "Accuracy pour  195 : 0.5\n",
      "Accuracy pour  197 : 0.5\n",
      "Accuracy pour  199 : 0.5\n"
     ]
    },
    {
     "data": {
      "image/png": "[encoded data removed]",
      "text/plain": [
       "<Figure size 432x288 with 1 Axes>"
      ]
     },
     "metadata": {
      "needs_background": "light"
     },
     "output_type": "display_data"
    }
   ],
   "source": [
    "# on stocke les accuracies dans une liste :\n",
    "accuracies = []\n",
    "\n",
    "# seuil max des valeurs de k à regarder:\n",
    "seuil_k = 200\n",
    "\n",
    "# toutes les valeurs de k à regarder:\n",
    "valeurs_k = [k for k in range(1,seuil_k,2)]\n",
    "\n",
    "for k in valeurs_k:\n",
    "    classifierKNN2 = ClassifierKNN(2,k)\n",
    "    classifierKNN2.train(X2D, Y2D)\n",
    "    accuracies.append(classifierKNN2.accuracy(X2D, Y2D))\n",
    "\n",
    "\n",
    "# ---------------------------------------------\n",
    "for i in range(0,len(valeurs_k)):\n",
    "    print(\"Accuracy pour \",valeurs_k[i],\":\",accuracies[i])\n",
    "\n",
    "# Traçage de la courbe des variations d'accuracy\n",
    "plt.plot(valeurs_k,accuracies)  \n",
    "plt.ylabel('Accuracy')\n",
    "plt.xlabel(\"k\")\n",
    "plt.show()"
   ]
  },
  {
   "cell_type": "markdown",
   "metadata": {},
   "source": [
    "analyse du résultat: on remarque que la valeur $k$ suivante fournie le meilleur résultat."
   ]
  },
  {
   "cell_type": "markdown",
   "metadata": {},
   "source": [
    "### Recherche du k optimal pour le classifier ClassifierKNN sur une base de test 5D:"
   ]
  },
  {
   "cell_type": "code",
   "execution_count": 82,
   "metadata": {},
   "outputs": [
    {
     "name": "stdout",
     "output_type": "stream",
     "text": [
      "Accuracy pour  1 : 1.0\n",
      "Accuracy pour  3 : 0.5\n",
      "Accuracy pour  5 : 0.5\n",
      "Accuracy pour  7 : 0.5\n",
      "Accuracy pour  9 : 0.5\n",
      "Accuracy pour  11 : 0.5\n",
      "Accuracy pour  13 : 0.5\n",
      "Accuracy pour  15 : 0.5\n",
      "Accuracy pour  17 : 0.5\n",
      "Accuracy pour  19 : 0.5\n",
      "Accuracy pour  21 : 0.5\n",
      "Accuracy pour  23 : 0.5\n",
      "Accuracy pour  25 : 0.5\n",
      "Accuracy pour  27 : 0.5\n",
      "Accuracy pour  29 : 0.5\n",
      "Accuracy pour  31 : 0.5\n",
      "Accuracy pour  33 : 0.5\n",
      "Accuracy pour  35 : 0.5\n",
      "Accuracy pour  37 : 0.5\n",
      "Accuracy pour  39 : 0.5\n",
      "Accuracy pour  41 : 0.5\n",
      "Accuracy pour  43 : 0.5\n",
      "Accuracy pour  45 : 0.5\n",
      "Accuracy pour  47 : 0.5\n",
      "Accuracy pour  49 : 0.5\n",
      "Accuracy pour  51 : 0.5\n",
      "Accuracy pour  53 : 0.5\n",
      "Accuracy pour  55 : 0.5\n",
      "Accuracy pour  57 : 0.5\n",
      "Accuracy pour  59 : 0.5\n",
      "Accuracy pour  61 : 0.5\n",
      "Accuracy pour  63 : 0.5\n",
      "Accuracy pour  65 : 0.5\n",
      "Accuracy pour  67 : 0.5\n",
      "Accuracy pour  69 : 0.5\n",
      "Accuracy pour  71 : 0.5\n",
      "Accuracy pour  73 : 0.5\n",
      "Accuracy pour  75 : 0.5\n",
      "Accuracy pour  77 : 0.5\n",
      "Accuracy pour  79 : 0.5\n",
      "Accuracy pour  81 : 0.5\n",
      "Accuracy pour  83 : 0.5\n",
      "Accuracy pour  85 : 0.5\n",
      "Accuracy pour  87 : 0.5\n",
      "Accuracy pour  89 : 0.5\n",
      "Accuracy pour  91 : 0.5\n",
      "Accuracy pour  93 : 0.5\n",
      "Accuracy pour  95 : 0.5\n",
      "Accuracy pour  97 : 0.5\n",
      "Accuracy pour  99 : 0.5\n",
      "Accuracy pour  101 : 0.5\n",
      "Accuracy pour  103 : 0.5\n",
      "Accuracy pour  105 : 0.5\n",
      "Accuracy pour  107 : 0.5\n",
      "Accuracy pour  109 : 0.5\n",
      "Accuracy pour  111 : 0.5\n",
      "Accuracy pour  113 : 0.5\n",
      "Accuracy pour  115 : 0.5\n",
      "Accuracy pour  117 : 0.5\n",
      "Accuracy pour  119 : 0.5\n",
      "Accuracy pour  121 : 0.5\n",
      "Accuracy pour  123 : 0.5\n",
      "Accuracy pour  125 : 0.5\n",
      "Accuracy pour  127 : 0.5\n",
      "Accuracy pour  129 : 0.5\n",
      "Accuracy pour  131 : 0.5\n",
      "Accuracy pour  133 : 0.5\n",
      "Accuracy pour  135 : 0.5\n",
      "Accuracy pour  137 : 0.5\n",
      "Accuracy pour  139 : 0.5\n",
      "Accuracy pour  141 : 0.5\n",
      "Accuracy pour  143 : 0.5\n",
      "Accuracy pour  145 : 0.5\n",
      "Accuracy pour  147 : 0.5\n",
      "Accuracy pour  149 : 0.5\n",
      "Accuracy pour  151 : 0.5\n",
      "Accuracy pour  153 : 0.5\n",
      "Accuracy pour  155 : 0.5\n",
      "Accuracy pour  157 : 0.5\n",
      "Accuracy pour  159 : 0.5\n",
      "Accuracy pour  161 : 0.5\n",
      "Accuracy pour  163 : 0.5\n",
      "Accuracy pour  165 : 0.5\n",
      "Accuracy pour  167 : 0.5\n",
      "Accuracy pour  169 : 0.5\n",
      "Accuracy pour  171 : 0.5\n",
      "Accuracy pour  173 : 0.5\n",
      "Accuracy pour  175 : 0.5\n",
      "Accuracy pour  177 : 0.5\n",
      "Accuracy pour  179 : 0.5\n",
      "Accuracy pour  181 : 0.5\n",
      "Accuracy pour  183 : 0.5\n",
      "Accuracy pour  185 : 0.5\n",
      "Accuracy pour  187 : 0.5\n",
      "Accuracy pour  189 : 0.5\n",
      "Accuracy pour  191 : 0.5\n",
      "Accuracy pour  193 : 0.5\n",
      "Accuracy pour  195 : 0.5\n",
      "Accuracy pour  197 : 0.5\n",
      "Accuracy pour  199 : 0.5\n"
     ]
    },
    {
     "data": {
      "image/png": "[encoded data removed]",
      "text/plain": [
       "<Figure size 432x288 with 1 Axes>"
      ]
     },
     "metadata": {
      "needs_background": "light"
     },
     "output_type": "display_data"
    }
   ],
   "source": [
    "# on stocke les accuracies dans une liste :\n",
    "accuracies = []\n",
    "\n",
    "# seuil max des valeurs de k à regarder:\n",
    "seuil_k = 200\n",
    "\n",
    "# toutes les valeurs de k à regarder:\n",
    "valeurs_k = [k for k in range(1,seuil_k,2)]\n",
    "\n",
    "for k in valeurs_k:\n",
    "    classifierKNN2 = ClassifierKNN(5,k)\n",
    "    classifierKNN2.train(X2D, Y2D)\n",
    "    accuracies.append(classifierKNN2.accuracy(X2D, Y2D))\n",
    "\n",
    "\n",
    "# ---------------------------------------------\n",
    "for i in range(0,len(valeurs_k)):\n",
    "    print(\"Accuracy pour \",valeurs_k[i],\":\",accuracies[i])\n",
    "\n",
    "# Traçage de la courbe des variations d'accuracy\n",
    "plt.plot(valeurs_k,accuracies)  \n",
    "plt.ylabel('Accuracy')\n",
    "plt.xlabel(\"k\")\n",
    "plt.show()"
   ]
  },
  {
   "cell_type": "markdown",
   "metadata": {},
   "source": [
    "### Evolution de l'accuracy au cours de l'apprentissage pour le classifier ClassifierKNN sur une base de test 2D:"
   ]
  },
  {
   "cell_type": "code",
   "execution_count": 89,
   "metadata": {},
   "outputs": [
    {
     "data": {
      "image/png": "[encoded data removed]",
      "text/plain": [
       "<Figure size 432x288 with 1 Axes>"
      ]
     },
     "metadata": {
      "needs_background": "light"
     },
     "output_type": "display_data"
    },
    {
     "name": "stdout",
     "output_type": "stream",
     "text": [
      "Accuracy finale (train):  1.0\n",
      "Accuracy finale (test) :  0.905\n"
     ]
    },
    {
     "data": {
      "image/png": "[encoded data removed]",
      "text/plain": [
       "<Figure size 432x288 with 1 Axes>"
      ]
     },
     "metadata": {
      "needs_background": "light"
     },
     "output_type": "display_data"
    }
   ],
   "source": [
    "(train_desc, train_label), (test_desc, test_label) = ut.genere_train_test(X2D, Y2D,900,900)\n",
    "\n",
    "# -----\n",
    "# Apprentissage pas à pas du perceptron et mémorisation de l'accuracy à chaque étape:\n",
    "# Listes qui vont servir à mémoriser les accuracy du perceptron à chaque étape:\n",
    "train_acc = []\n",
    "test_acc = []\n",
    "classifierKNN2 = ClassifierKNN(2, 1)\n",
    "\n",
    "# Réalisation de N itérations\n",
    "N = 100\n",
    "for i in range(N):\n",
    "    classifierKNN2.train(train_desc, train_label)\n",
    "    train_acc.append(classifierKNN2.accuracy(train_desc, train_label))\n",
    "    test_acc.append(classifierKNN2.accuracy(test_desc, test_label))\n",
    "\n",
    "# -----\n",
    "# Traçage de la courbe des variations d'accuracy\n",
    "plt.plot(range(1,N+1),train_acc,test_acc)  \n",
    "plt.ylabel('Accuracy')\n",
    "plt.xlabel(\"Etape\")\n",
    "plt.show()\n",
    "\n",
    "# -----\n",
    "# Affichage de la frontière de séparation des classes (en prenant tous les exemples de la base)\n",
    "ut.plot_frontiere(X2D,Y2D,classifierKNN2,step=150)\n",
    "ut.plot2DSet(X2D,Y2D)\n",
    "\n",
    "print(\"Accuracy finale (train): \",  classifierKNN2.accuracy(train_desc, train_label))\n",
    "print(\"Accuracy finale (test) : \", classifierKNN2.accuracy(test_desc, test_label))"
   ]
  },
  {
   "cell_type": "markdown",
   "metadata": {},
   "source": [
    "### Evolution de l'accuracy au cours de l'apprentissage pour le classifier ClassifierKNN sur une base de test 5D:"
   ]
  },
  {
   "cell_type": "code",
   "execution_count": 93,
   "metadata": {},
   "outputs": [
    {
     "data": {
      "image/png": "[encoded data removed]",
      "text/plain": [
       "<Figure size 432x288 with 1 Axes>"
      ]
     },
     "metadata": {
      "needs_background": "light"
     },
     "output_type": "display_data"
    },
    {
     "name": "stdout",
     "output_type": "stream",
     "text": [
      "Accuracy finale (train):  1.0\n",
      "Accuracy finale (test) :  0.86\n"
     ]
    }
   ],
   "source": [
    "(train_desc, train_label), (test_desc, test_label) = ut.genere_train_test(X5D, Y5D,900,900)\n",
    "\n",
    "# Apprentissage pas à pas du perceptron et mémorisation de l'accuracy à chaque étape:\n",
    "# Listes qui vont servir à mémoriser les accuracy du perceptron à chaque étape:\n",
    "train_acc = []\n",
    "test_acc = []\n",
    "classifierKNN2 = ClassifierKNN(5, 1)\n",
    "\n",
    "# Réalisation de N itérations\n",
    "N = 100\n",
    "for i in range(N):\n",
    "    classifierKNN2.train(train_desc, train_label)\n",
    "    train_acc.append(classifierKNN2.accuracy(train_desc, train_label))\n",
    "    test_acc.append(classifierKNN2.accuracy(test_desc, test_label))\n",
    "\n",
    "# -----\n",
    "# Traçage de la courbe des variations d'accuracy\n",
    "plt.plot(range(1,N+1),train_acc,test_acc)  \n",
    "plt.ylabel('Accuracy')\n",
    "plt.xlabel(\"Etape\")\n",
    "plt.show()\n",
    "\n",
    "# -----\n",
    "\n",
    "print(\"Accuracy finale (train): \",  classifierKNN2.accuracy(train_desc, train_label))\n",
    "print(\"Accuracy finale (test) : \", classifierKNN2.accuracy(test_desc, test_label))"
   ]
  },
  {
   "cell_type": "markdown",
   "metadata": {},
   "source": [
    "### Test avec validation croisée en 10 - 2D"
   ]
  },
  {
   "cell_type": "code",
   "execution_count": 95,
   "metadata": {},
   "outputs": [
    {
     "name": "stdout",
     "output_type": "stream",
     "text": [
      "Iteration 0 : taille base app.= 1800 taille base test= 200 Taux de bonne classif: 0.875\n",
      "Iteration 1 : taille base app.= 1800 taille base test= 200 Taux de bonne classif: 0.89\n",
      "Iteration 2 : taille base app.= 1800 taille base test= 200 Taux de bonne classif: 0.865\n",
      "Iteration 3 : taille base app.= 1800 taille base test= 200 Taux de bonne classif: 0.87\n",
      "Iteration 4 : taille base app.= 1800 taille base test= 200 Taux de bonne classif: 0.875\n",
      "Iteration 5 : taille base app.= 1800 taille base test= 200 Taux de bonne classif: 0.875\n",
      "Iteration 6 : taille base app.= 1800 taille base test= 200 Taux de bonne classif: 0.865\n",
      "Iteration 7 : taille base app.= 1800 taille base test= 200 Taux de bonne classif: 0.935\n",
      "Iteration 8 : taille base app.= 1800 taille base test= 200 Taux de bonne classif: 0.91\n",
      "Iteration 9 : taille base app.= 1800 taille base test= 200 Taux de bonne classif: 0.895\n",
      "Perf obtenues :  [0.875, 0.89, 0.865, 0.87, 0.875, 0.875, 0.865, 0.935, 0.91, 0.895]\n"
     ]
    }
   ],
   "source": [
    "un_KNN = ClassifierKNN(2, 1)\n",
    "train_acc = []\n",
    "test_acc = []\n",
    "\n",
    "nb_iter = 10\n",
    "perf = []\n",
    "\n",
    "# 1) mélanger des exemples\n",
    "index = np.random.permutation(len(X2D)) # mélange des index\n",
    "Xm = X2D[index]\n",
    "Ym = Y2D[index]\n",
    "\n",
    "# 2) réaliser une validation croisée complète \n",
    "for i in range(nb_iter):\n",
    "    Xapp,Yapp,Xtest,Ytest = ut.crossval_strat(Xm, Ym, nb_iter, i)\n",
    "    un_KNN = ClassifierKNN(2, 1)\n",
    "    un_KNN.train(Xapp, Yapp)\n",
    "    bc = un_KNN.accuracy(Xtest, Ytest)\n",
    "    perf.append(bc)\n",
    "    print(\"Iteration \" + str(i) + \" : taille base app.= \" + str(len(Xapp)) + \" taille base test= \" + str(len(Xtest)) + \" Taux de bonne classif: \" + str(bc))\n",
    "\n",
    "# ------------------------ \n",
    "    \n",
    "print(\"Perf obtenues : \",perf)"
   ]
  },
  {
   "cell_type": "markdown",
   "metadata": {},
   "source": [
    "### Test avec validation croisée en 10 - 5D"
   ]
  },
  {
   "cell_type": "code",
   "execution_count": 96,
   "metadata": {},
   "outputs": [
    {
     "name": "stdout",
     "output_type": "stream",
     "text": [
      "Iteration 0 : taille base app.= 1800 taille base test= 200 Taux de bonne classif: 0.86\n",
      "Iteration 1 : taille base app.= 1800 taille base test= 200 Taux de bonne classif: 0.835\n",
      "Iteration 2 : taille base app.= 1800 taille base test= 200 Taux de bonne classif: 0.87\n",
      "Iteration 3 : taille base app.= 1800 taille base test= 200 Taux de bonne classif: 0.86\n",
      "Iteration 4 : taille base app.= 1800 taille base test= 200 Taux de bonne classif: 0.9\n",
      "Iteration 5 : taille base app.= 1800 taille base test= 200 Taux de bonne classif: 0.86\n",
      "Iteration 6 : taille base app.= 1800 taille base test= 200 Taux de bonne classif: 0.865\n",
      "Iteration 7 : taille base app.= 1800 taille base test= 200 Taux de bonne classif: 0.845\n",
      "Iteration 8 : taille base app.= 1800 taille base test= 200 Taux de bonne classif: 0.84\n",
      "Iteration 9 : taille base app.= 1800 taille base test= 200 Taux de bonne classif: 0.845\n",
      "Perf obtenues :  [0.86, 0.835, 0.87, 0.86, 0.9, 0.86, 0.865, 0.845, 0.84, 0.845]\n"
     ]
    }
   ],
   "source": [
    "un_KNN = ClassifierKNN(2, 1)\n",
    "train_acc = []\n",
    "test_acc = []\n",
    "\n",
    "nb_iter = 10\n",
    "perf = []\n",
    "\n",
    "# 1) mélanger des exemples\n",
    "index = np.random.permutation(len(X2D)) # mélange des index\n",
    "Xm = X5D[index]\n",
    "Ym = Y5D[index]\n",
    "\n",
    "# 2) réaliser une validation croisée complète \n",
    "for i in range(nb_iter):\n",
    "    Xapp,Yapp,Xtest,Ytest = ut.crossval_strat(Xm, Ym, nb_iter, i)\n",
    "    un_KNN = ClassifierKNN(5, 1)\n",
    "    un_KNN.train(Xapp, Yapp)\n",
    "    bc = un_KNN.accuracy(Xtest, Ytest)\n",
    "    perf.append(bc)\n",
    "    print(\"Iteration \" + str(i) + \" : taille base app.= \" + str(len(Xapp)) + \" taille base test= \" + str(len(Xtest)) + \" Taux de bonne classif: \" + str(bc))\n",
    "\n",
    "# ------------------------ \n",
    "    \n",
    "print(\"Perf obtenues : \",perf)"
   ]
  },
  {
   "cell_type": "markdown",
   "metadata": {},
   "source": [
    "## Etude de la classe ClassifierPerceptron:"
   ]
  },
  {
   "cell_type": "code",
   "execution_count": 100,
   "metadata": {},
   "outputs": [],
   "source": [
    "class ClassifierPerceptron(Classifier):\n",
    "    \"\"\" Perceptron de Rosenblatt\n",
    "    \"\"\"\n",
    "    def __init__(self, input_dimension, learning_rate=0.01, init=True ):\n",
    "        \"\"\" Constructeur de Classifier\n",
    "            Argument:\n",
    "                - input_dimension (int) : dimension de la description des exemples (>0)\n",
    "                - learning_rate (par défaut 0.01): epsilon\n",
    "                - init est le mode d'initialisation de w: \n",
    "                    - si True (par défaut): initialisation à 0 de w,\n",
    "                    - si False : initialisation par tirage aléatoire de valeurs petites\n",
    "        \"\"\"\n",
    "        self.input_dimension = input_dimension\n",
    "        self.learning_rate = learning_rate\n",
    "        self.init = init\n",
    "        if(init == True):\n",
    "            self.w = np.zeros(input_dimension)\n",
    "        else:\n",
    "            tmp = np.random.uniform(0,1, input_dimension)\n",
    "            tmp = tmp*2-1\n",
    "            self.w = [0.001*i for i in tmp]\n",
    "        \n",
    "    def train_step(self, desc_set, label_set):\n",
    "        \"\"\" Réalise une unique itération sur tous les exemples du dataset\n",
    "            donné en prenant les exemples aléatoirement.\n",
    "            Arguments:\n",
    "                - desc_set: ndarray avec des descriptions\n",
    "                - label_set: ndarray avec les labels correspondants\n",
    "        \"\"\"  \n",
    "        desc_copie = desc_set.copy()\n",
    "        np.random.shuffle(desc_copie)\n",
    "        \n",
    "        for i in range(len(desc_copie)):\n",
    "            p = self.predict(desc_copie[i])\n",
    "            indice_xi = np.where(np.all(desc_set == desc_copie[i], axis=1))[0][0]\n",
    "            yi = label_set[indice_xi]\n",
    "            \n",
    "            if(p != yi):\n",
    "                self.w = self.w + self.learning_rate * yi * desc_copie[i]\n",
    "        return\n",
    "     \n",
    "    def train(self, desc_set, label_set, nb_max=100, seuil=0.001):\n",
    "        \"\"\" Apprentissage itératif du perceptron sur le dataset donné.\n",
    "            Arguments:\n",
    "                - desc_set: ndarray avec des descriptions\n",
    "                - label_set: ndarray avec les labels correspondants\n",
    "                - nb_max (par défaut: 100) : nombre d'itérations maximale\n",
    "                - seuil (par défaut: 0.001) : seuil de convergence\n",
    "            Retour: la fonction rend une liste\n",
    "                - liste des valeurs de norme de différences\n",
    "        \"\"\"\n",
    "        res = []\n",
    "        for i in range(nb_max):\n",
    "            old_w = self.w\n",
    "            self.train_step(desc_set, label_set)\n",
    "            diff = old_w - self.w\n",
    "            erreur = np.linalg.norm([abs(j) for j in diff])\n",
    "            res.append(erreur)\n",
    "            \n",
    "            if(erreur < seuil):\n",
    "                break\n",
    "\n",
    "        return res\n",
    "\n",
    "    def score(self,x):\n",
    "        \"\"\" rend le score de prédiction sur x (valeur réelle)\n",
    "            x: une description\n",
    "        \"\"\"\n",
    "        v = np.dot(x,self.w)\n",
    "        return v\n",
    "    \n",
    "    def predict(self, x):\n",
    "        \"\"\" rend la prediction sur x (soit -1 ou soit +1)\n",
    "            x: une description\n",
    "        \"\"\"\n",
    "        if (self.score(x) < 0):\n",
    "            return -1\n",
    "        else:\n",
    "            return 1\n"
   ]
  },
  {
   "cell_type": "markdown",
   "metadata": {},
   "source": [
    "### Variation de l'accuracy en fonction du poids pour ClassifierPerceptron sur une base de test 2D:"
   ]
  },
  {
   "cell_type": "code",
   "execution_count": 106,
   "metadata": {},
   "outputs": [
    {
     "name": "stdout",
     "output_type": "stream",
     "text": [
      "coucou\n",
      "coucou\n",
      "coucou\n",
      "coucou\n",
      "coucou\n",
      "coucou\n",
      "coucou\n",
      "coucou\n",
      "coucou\n",
      "coucou\n"
     ]
    },
    {
     "data": {
      "image/png": "[encoded data removed]",
      "text/plain": [
       "<Figure size 432x288 with 1 Axes>"
      ]
     },
     "metadata": {
      "needs_background": "light"
     },
     "output_type": "display_data"
    },
    {
     "ename": "NameError",
     "evalue": "name 'plot_frontiere' is not defined",
     "output_type": "error",
     "traceback": [
      "\u001b[0;31m---------------------------------------------------------------------------\u001b[0m",
      "\u001b[0;31mNameError\u001b[0m                                 Traceback (most recent call last)",
      "\u001b[0;32m/tmp/ipykernel_12889/1528404059.py\u001b[0m in \u001b[0;36m<cell line: 25>\u001b[0;34m()\u001b[0m\n\u001b[1;32m     23\u001b[0m \u001b[0;31m# -----\u001b[0m\u001b[0;34m\u001b[0m\u001b[0;34m\u001b[0m\u001b[0;34m\u001b[0m\u001b[0m\n\u001b[1;32m     24\u001b[0m \u001b[0;31m# Affichage de la frontière de séparation des classes (en prenant tous les exemples de la base)\u001b[0m\u001b[0;34m\u001b[0m\u001b[0;34m\u001b[0m\u001b[0;34m\u001b[0m\u001b[0m\n\u001b[0;32m---> 25\u001b[0;31m \u001b[0mplot_frontiere\u001b[0m\u001b[0;34m(\u001b[0m\u001b[0mX2D\u001b[0m\u001b[0;34m,\u001b[0m\u001b[0mY2D\u001b[0m\u001b[0;34m,\u001b[0m\u001b[0mperceptron\u001b[0m\u001b[0;34m,\u001b[0m\u001b[0mstep\u001b[0m\u001b[0;34m=\u001b[0m\u001b[0;36m150\u001b[0m\u001b[0;34m)\u001b[0m\u001b[0;34m\u001b[0m\u001b[0;34m\u001b[0m\u001b[0m\n\u001b[0m\u001b[1;32m     26\u001b[0m \u001b[0mplot2DSet\u001b[0m\u001b[0;34m(\u001b[0m\u001b[0mX2D\u001b[0m\u001b[0;34m,\u001b[0m\u001b[0mY2D\u001b[0m\u001b[0;34m)\u001b[0m\u001b[0;34m\u001b[0m\u001b[0;34m\u001b[0m\u001b[0m\n\u001b[1;32m     27\u001b[0m \u001b[0;34m\u001b[0m\u001b[0m\n",
      "\u001b[0;31mNameError\u001b[0m: name 'plot_frontiere' is not defined"
     ]
    }
   ],
   "source": [
    "# Définition des données d'apprentissage (on reprend les données data_gauss générées plus haut)\n",
    "\n",
    "(train_desc, train_label), (test_desc, test_label) = ut.genere_train_test(X2D, Y2D,900,900)\n",
    "\n",
    "train_acc = []\n",
    "test_acc = []\n",
    "\n",
    "#on fait varier le paramètre learning_rate\n",
    "for e in np.arange(0, 1.0, 0.1):\n",
    "    print(\"coucou\")\n",
    "    perceptron = ClassifierPerceptron(2,e)\n",
    "    perceptron.train(train_desc, train_label)\n",
    "    train_acc.append(perceptron.accuracy(train_desc, train_label))\n",
    "    test_acc.append(perceptron.accuracy(test_desc, test_label))\n",
    "\n",
    "# -----\n",
    "# Traçage de la courbe des variations d'accuracy\n",
    "\n",
    "plt.plot(np.arange(0, 1.0, 0.1),train_acc,test_acc)  \n",
    "plt.ylabel('Accuracy')\n",
    "plt.xlabel(\"Etape\")\n",
    "plt.show()\n",
    "\n",
    "# -----\n",
    "# Affichage de la frontière de séparation des classes (en prenant tous les exemples de la base)\n",
    "plot_frontiere(X2D,Y2D,perceptron,step=150)\n",
    "plot2DSet(X2D,Y2D)\n",
    "\n",
    "print(\"Accuracy finale (train): \",  perceptron.accuracy(train_desc, train_label))\n",
    "print(\"Accuracy finale (test) : \", perceptron.accuracy(test_desc, test_label))"
   ]
  },
  {
   "cell_type": "markdown",
   "metadata": {},
   "source": [
    "### Variation de l'accuracy en fonction du poids pour ClassifierPerceptron sur une base de test 5D:"
   ]
  },
  {
   "cell_type": "markdown",
   "metadata": {},
   "source": [
    "### Test avec validation croisée en 10 - 2D"
   ]
  },
  {
   "cell_type": "markdown",
   "metadata": {},
   "source": [
    "### Test avec validation croisée en 10 - 5D"
   ]
  },
  {
   "cell_type": "markdown",
   "metadata": {},
   "source": [
    "## Etude de la classe ClassifierPerceptron:"
   ]
  },
  {
   "cell_type": "code",
   "execution_count": null,
   "metadata": {},
   "outputs": [],
   "source": []
  }
 ],
 "metadata": {
  "kernelspec": {
   "display_name": "Python 3 (ipykernel)",
   "language": "python",
   "name": "python3"
  },
  "language_info": {
   "codemirror_mode": {
    "name": "ipython",
    "version": 3
   },
   "file_extension": ".py",
   "mimetype": "text/x-python",
   "name": "python",
   "nbconvert_exporter": "python",
   "pygments_lexer": "ipython3",
   "version": "3.9.6"
  }
 },
 "nbformat": 4,
 "nbformat_minor": 1
}
